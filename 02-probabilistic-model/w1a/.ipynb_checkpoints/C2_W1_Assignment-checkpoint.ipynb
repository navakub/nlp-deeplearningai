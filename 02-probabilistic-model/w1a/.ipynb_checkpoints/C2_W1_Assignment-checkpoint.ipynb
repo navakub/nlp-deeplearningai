{
 "cells": [
  {
   "cell_type": "markdown",
   "metadata": {},
   "source": [
    "# Assignment 1: Autocorrect\n",
    "\n",
    "Welcome to the first assignment of Course 2. This assignment will give you a chance to brush up on your python and probability skills. In doing so, you will implement an auto-correct system that is very effective and useful.\n",
    "\n",
    "## Important Note on Submission to the AutoGrader\n",
    "\n",
    "Before submitting your assignment to the AutoGrader, please make sure you are not doing the following:\n",
    "\n",
    "1. You have not added any _extra_ `print` statement(s) in the assignment.\n",
    "2. You have not added any _extra_ code cell(s) in the assignment.\n",
    "3. You have not changed any of the function parameters.\n",
    "4. You are not using any global variables inside your graded exercises. Unless specifically instructed to do so, please refrain from it and use the local variables instead.\n",
    "5. You are not changing the assignment code where it is not required, like creating _extra_ variables.\n",
    "\n",
    "If you do any of the following, you will get something like, `Grader Error: Grader feedback not found` (or similarly unexpected) error upon submitting your assignment. Before asking for help/debugging the errors in your assignment, check for these first. If this is the case, and you don't remember the changes you have made, you can get a fresh copy of the assignment by following these [instructions](https://www.coursera.org/learn/probabilistic-models-in-nlp/supplement/saGQf/how-to-refresh-your-workspace)."
   ]
  },
  {
   "cell_type": "markdown",
   "metadata": {},
   "source": [
    "## Table of Contents\n",
    "- [0 - Overview](#0)\n",
    "    - [0.1 - Edit Distance](#0-1)\n",
    "- [1 - Data Preprocessing](#1)\n",
    "    - [Exercise 1 - process_data (UNQ_C1)](#ex-1)\n",
    "    - [Exercise 2 - get_count (UNQ_C2)](#ex-2)\n",
    "    - [Exercise 3 - get_probs (UNQ_C3)](#ex-3)\n",
    "- [2 - String Manipulations](#2)\n",
    "    - [Exercise 4 - delete_letter (UNQ_C4)](#ex-4)\n",
    "    - [Exercise 5 - switch_letter (UNQ_C5)](#ex-5)\n",
    "    - [Exercise 6 - replace_letter (UNQ_C6)](#ex-6)\n",
    "    - [Exercise 7 - insert_letter (UNQ_C7)](#ex-7)\n",
    "- [3 - Combining the Edits](#3)\n",
    "    - [3.1 - Edit One Letter](#3-1)\n",
    "        - [Exercise 8 - edit_one_letter (UNQ_C8)](#ex-8)\n",
    "    - [3.2 - Edit Two Letters](#3-2)\n",
    "        - [Exercise 9 - edit_two_letters (UNQ_C9)](#ex-9)\n",
    "    - [3.3 - Suggest Spelling Suggestions](#3-3)\n",
    "        - [Exercise 10 - get_corrections (UNQ_C20)](#ex-10)\n",
    "- [4 - Minimum Edit Distance](#4)\n",
    "    - [4.1 - Dynamic Programming](#4-1)\n",
    "        - [Exercise 11 - min_edit_distance (UNQ_C11)](#ex-11)\n",
    "- [5 - Backtrace (Optional)](#5)"
   ]
  },
  {
   "cell_type": "markdown",
   "metadata": {},
   "source": [
    "<a name='0'></a>\n",
    "## 0 - Overview\n",
    "\n",
    "You use autocorrect every day on your cell phone and computer. In this assignment, you will explore what really goes on behind the scenes. Of course, the model you are about to implement is not identical to the one used in your phone, but it is still quite good. \n",
    "\n",
    "By completing this assignment you will learn how to: \n",
    "\n",
    "- Get a word count given a corpus\n",
    "- Get a word probability in the corpus \n",
    "- Manipulate strings \n",
    "- Filter strings \n",
    "- Implement Minimum edit distance to compare strings and to help find the optimal path for the edits. \n",
    "- Understand how dynamic programming works\n",
    "\n",
    "\n",
    "Similar systems are used everywhere. \n",
    "- For example, if you type in the word **\"I am lerningg\"**, chances are very high that you meant to write **\"learning\"**, as shown in **Figure 1**. "
   ]
  },
  {
   "cell_type": "markdown",
   "metadata": {},
   "source": [
    "<div style=\"width:image width px; font-size:100%; text-align:center;\"><img src='images/auto-correct.png' alt=\"alternate text\" width=\"width\" height=\"height\" style=\"width:300px;height:250px;\" /> Figure 1 </div>"
   ]
  },
  {
   "cell_type": "markdown",
   "metadata": {},
   "source": [
    "<a name='0-1'></a>\n",
    "### 0.1 - Edit Distance\n",
    "\n",
    "In this assignment, you will implement models that correct words that are 1 and 2 edit distances away. \n",
    "- We say two words are n edit distance away from each other when we need n edits to change one word into another. \n",
    "\n",
    "An edit could consist of one of the following options: \n",
    "\n",
    "- Delete (remove a letter): ‘hat’ => ‘at, ha, ht’\n",
    "- Switch (swap 2 adjacent letters): ‘eta’ => ‘eat, tea,...’\n",
    "- Replace (change 1 letter to another): ‘jat’ => ‘hat, rat, cat, mat, ...’\n",
    "- Insert (add a letter): ‘te’ => ‘the, ten, ate, ...’\n",
    "\n",
    "You will be using the four methods above to implement an Auto-correct. \n",
    "- To do so, you will need to compute probabilities that a certain word is correct given an input. \n",
    "\n",
    "This auto-correct you are about to implement was first created by [Peter Norvig](https://en.wikipedia.org/wiki/Peter_Norvig) in 2007. \n",
    "- His [original article](https://norvig.com/spell-correct.html) may be a useful reference for this assignment.\n",
    "\n",
    "The goal of our spell check model is to compute the following probability:\n",
    "\n",
    "$$P(c|w) = \\frac{P(w|c)\\times P(c)}{P(w)} \\tag{Eqn-1}$$\n",
    "\n",
    "The equation above is [Bayes Rule](https://en.wikipedia.org/wiki/Bayes%27_theorem). \n",
    "- Equation 1 says that the probability of a word being correct $P(c|w) $is equal to the probability of having a certain word $w$, given that it is correct $P(w|c)$, multiplied by the probability of being correct in general $P(C)$ divided by the probability of that word $w$ appearing $P(w)$ in general.\n",
    "- To compute equation 1, you will first import a data set and then create all the probabilities that you need using that data set. "
   ]
  },
  {
   "cell_type": "markdown",
   "metadata": {},
   "source": [
    "<a name='1'></a>\n",
    "## 1 - Data Preprocessing "
   ]
  },
  {
   "cell_type": "code",
   "execution_count": 53,
   "metadata": {},
   "outputs": [],
   "source": [
    "import re\n",
    "from collections import Counter\n",
    "import numpy as np\n",
    "import pandas as pd\n",
    "\n",
    "import w1_unittest"
   ]
  },
  {
   "cell_type": "markdown",
   "metadata": {},
   "source": [
    "As in any other machine learning task, the first thing you have to do is process your data set. \n",
    "- Many courses load in pre-processed data for you. \n",
    "- However, in the real world, when you build these NLP systems, you load the datasets and process them.\n",
    "- So let's get some real world practice in pre-processing the data!\n",
    "\n",
    "Your first task is to read in a file called **'shakespeare.txt'** which is found in your file directory. To look at this file you can go to `File ==> Open `. "
   ]
  },
  {
   "cell_type": "markdown",
   "metadata": {},
   "source": [
    "<a name='ex-1'></a>\n",
    "### Exercise 1 - process_data\n",
    "Implement the function `process_data` which \n",
    "\n",
    "1) Reads in a corpus (text file)\n",
    "\n",
    "2) Changes everything to lowercase\n",
    "\n",
    "3) Returns a list of words. "
   ]
  },
  {
   "cell_type": "markdown",
   "metadata": {},
   "source": [
    "#### Options and Hints\n",
    "- If you would like more of a real-life practice, don't open the 'Hints' below (yet) and try searching the web to derive your answer.\n",
    "- If you want a little help, click on the green \"General Hints\" section by clicking on it with your mouse.\n",
    "- If you get stuck or are not getting the expected results, click on the green 'Detailed Hints' section to get hints for each step that you'll take to complete this function."
   ]
  },
  {
   "cell_type": "markdown",
   "metadata": {},
   "source": [
    "<details>    \n",
    "<summary>\n",
    "    <font size=\"3\" color=\"darkgreen\"><b>General Hints</b></font>\n",
    "</summary>\n",
    "<p>\n",
    "    \n",
    "General Hints to get started\n",
    "<ul>\n",
    "    <li>Python <a href=\"https://docs.python.org/3/tutorial/inputoutput.html\">input and output<a></li>\n",
    "    <li>Python <a href=\"https://docs.python.org/3/library/re.html\" >'re' documentation </a> </li>\n",
    "</ul>\n",
    "</p>\n"
   ]
  },
  {
   "cell_type": "markdown",
   "metadata": {},
   "source": [
    "<details>    \n",
    "<summary>\n",
    "    <font size=\"3\" color=\"darkgreen\"><b>Detailed Hints</b></font>\n",
    "</summary>\n",
    "<p>     \n",
    "Detailed hints if you're stuck\n",
    "<ul>\n",
    "    <li>Use 'with' syntax to read a file</li>\n",
    "    <li>Decide whether to use 'read()' or 'readline().  What's the difference?</li>\n",
    "    <li>You can use str.lower() to convert to lowercase.</li>\n",
    "    <li>Use re.findall(pattern, string)</li>\n",
    "    <li>Look for the \"Raw String Notation\" section in the Python 're' documentation to understand the difference between r'\\W', r'\\W' and '\\\\W'. </li>\n",
    "    <li>For the pattern, decide between using '\\s', '\\w', '\\s+' or '\\w+'.  What do you think are the differences?</li>\n",
    "</ul>\n",
    "</p>\n"
   ]
  },
  {
   "cell_type": "code",
   "execution_count": 54,
   "metadata": {},
   "outputs": [],
   "source": [
    "# UNQ_C1 GRADED FUNCTION: process_data\n",
    "def process_data(file_name):\n",
    "    \"\"\"\n",
    "    Input: \n",
    "        A file_name which is found in your current directory. You just have to read it in. \n",
    "    Output: \n",
    "        words: a list containing all the words in the corpus (text file you read) in lower case. \n",
    "    \"\"\"\n",
    "    words = [] # return this variable correctly\n",
    "\n",
    "    ### START CODE HERE ### \n",
    "    \n",
    "    #Open the file, read its contents into a string variable\n",
    "    with open(file_name) as f:\n",
    "        file_name_data = f.read()\n",
    "        \n",
    "    file_name_data = file_name_data.lower()\n",
    "    words = re.findall('\\w+',file_name_data)\n",
    "    ### END CODE HERE ###\n",
    "    return words"
   ]
  },
  {
   "cell_type": "markdown",
   "metadata": {},
   "source": [
    "Note, in the following cell, 'words' is converted to a python `set`. This eliminates any duplicate entries."
   ]
  },
  {
   "cell_type": "code",
   "execution_count": 55,
   "metadata": {
    "deletable": false,
    "editable": false
   },
   "outputs": [
    {
     "name": "stdout",
     "output_type": "stream",
     "text": [
      "The first ten words in the text are: \n",
      "['o', 'for', 'a', 'muse', 'of', 'fire', 'that', 'would', 'ascend', 'the']\n",
      "There are 6116 unique words in the vocabulary.\n"
     ]
    }
   ],
   "source": [
    "#DO NOT MODIFY THIS CELL\n",
    "word_l = process_data('./data/shakespeare.txt')\n",
    "vocab = set(word_l)  # this will be your new vocabulary\n",
    "print(f\"The first ten words in the text are: \\n{word_l[0:10]}\")\n",
    "print(f\"There are {len(vocab)} unique words in the vocabulary.\")"
   ]
  },
  {
   "cell_type": "markdown",
   "metadata": {},
   "source": [
    "#### Expected Output\n",
    "```Python\n",
    "The first ten words in the text are: \n",
    "['o', 'for', 'a', 'muse', 'of', 'fire', 'that', 'would', 'ascend', 'the']\n",
    "There are 6116 unique words in the vocabulary.\n",
    "```"
   ]
  },
  {
   "cell_type": "code",
   "execution_count": 56,
   "metadata": {},
   "outputs": [
    {
     "name": "stdout",
     "output_type": "stream",
     "text": [
      "\u001b[92m All tests passed\n"
     ]
    }
   ],
   "source": [
    "# Test your function\n",
    "w1_unittest.test_process_data(process_data)"
   ]
  },
  {
   "cell_type": "markdown",
   "metadata": {},
   "source": [
    "<a name='ex-2'></a>\n",
    "### Exercise 2 - get_count\n",
    "\n",
    "Implement a `get_count` function that returns a dictionary\n",
    "- The dictionary's keys are words\n",
    "- The value for each word is the number of times that word appears in the corpus. \n",
    "\n",
    "For example, given the following sentence: **\"I am happy because I am learning\"**, your dictionary should return the following: \n",
    "<table style=\"width:20%\">\n",
    "\n",
    "  <tr>\n",
    "    <td> <b>Key </b>  </td>\n",
    "    <td> <b>Value </b> </td> \n",
    "\n",
    "\n",
    "  </tr>\n",
    "  <tr>\n",
    "    <td> I  </td>\n",
    "    <td> 2</td> \n",
    " \n",
    "  </tr>\n",
    "   \n",
    "  <tr>\n",
    "    <td>am</td>\n",
    "    <td>2</td> \n",
    "  </tr>\n",
    "\n",
    "  <tr>\n",
    "    <td>happy</td>\n",
    "    <td>1</td> \n",
    "  </tr>\n",
    "  \n",
    "   <tr>\n",
    "    <td>because</td>\n",
    "    <td>1</td> \n",
    "  </tr>\n",
    "  \n",
    "   <tr>\n",
    "    <td>learning</td>\n",
    "    <td>1</td> \n",
    "  </tr>\n",
    "</table>\n",
    "\n",
    "\n",
    "**Instructions**: \n",
    "Implement a `get_count` which returns a dictionary where the key is a word and the value is the number of times the word appears in the list.  \n"
   ]
  },
  {
   "cell_type": "markdown",
   "metadata": {},
   "source": [
    "<details>    \n",
    "<summary>\n",
    "    <font size=\"3\" color=\"darkgreen\"><b>Hints</b></font>\n",
    "</summary>\n",
    "<p>\n",
    "<ul>\n",
    "    <li>Try implementing this using a for loop and a regular dictionary. This may be good practice for similar coding interview questions</li>\n",
    "    <li>You can also use defaultdict instead of a regular dictionary, along with the for loop</li>\n",
    "    <li>Otherwise, to skip using a `for` loop, you can use Python's <a href=\"https://docs.python.org/3.7/library/collections.html#collections.Counter\" > Counter class</a> </li>\n",
    "</ul>\n",
    "</p>"
   ]
  },
  {
   "cell_type": "code",
   "execution_count": 57,
   "metadata": {},
   "outputs": [],
   "source": [
    "# UNIT TEST COMMENT: Candidate for Table Driven Tests\n",
    "# UNQ_C2 GRADED FUNCTION: get_count\n",
    "def get_count(word_l):\n",
    "    '''\n",
    "    Input:\n",
    "        word_l: a set of words representing the corpus. \n",
    "    Output:\n",
    "        word_count_dict: The wordcount dictionary where key is the word and value is its frequency.\n",
    "    '''\n",
    "    \n",
    "    word_count_dict = {}  # fill this with word counts\n",
    "    \n",
    "    ### START CODE HERE \n",
    "    word_count_dict = Counter(word_l)\n",
    "            \n",
    "    ### END CODE HERE ### \n",
    "    return word_count_dict"
   ]
  },
  {
   "cell_type": "code",
   "execution_count": 58,
   "metadata": {
    "deletable": false,
    "editable": false
   },
   "outputs": [
    {
     "name": "stdout",
     "output_type": "stream",
     "text": [
      "There are 6116 key values pairs\n",
      "The count for the word 'thee' is 240\n"
     ]
    }
   ],
   "source": [
    "#DO NOT MODIFY THIS CELL\n",
    "word_count_dict = get_count(word_l)\n",
    "print(f\"There are {len(word_count_dict)} key values pairs\")\n",
    "print(f\"The count for the word 'thee' is {word_count_dict.get('thee',0)}\")"
   ]
  },
  {
   "cell_type": "markdown",
   "metadata": {},
   "source": [
    "\n",
    "#### Expected Output\n",
    "```Python\n",
    "There are 6116 key values pairs\n",
    "The count for the word 'thee' is 240\n",
    "```"
   ]
  },
  {
   "cell_type": "code",
   "execution_count": 59,
   "metadata": {},
   "outputs": [
    {
     "name": "stdout",
     "output_type": "stream",
     "text": [
      "Counter({'the': 1525, 'and': 1395, 'i': 1267, 'to': 1196, 'of': 1094, 'my': 858, 'in': 787, 'that': 785, 'a': 757, 'you': 749, 'is': 557, 's': 518, 'not': 510, 'for': 474, 'it': 460, 'with': 445, 'his': 434, 'but': 420, 'me': 417, 'be': 399, 'your': 397, 'thy': 359, 'this': 355, 'he': 354, 'so': 352, 'thou': 334, 'have': 329, 'd': 321, 'as': 316, 'her': 282, 'love': 279, 'him': 277, 'all': 258, 'which': 248, 'by': 246, 'will': 244, 'what': 242, 'thee': 240, 'lord': 227, 'no': 222, 'do': 219, 'shall': 218, 'are': 217, 'if': 199, 'when': 197, 'or': 196, 'our': 196, 'from': 194, 'we': 189, 'on': 178, 'parolles': 175, 'king': 172, 'she': 165, 'more': 162, 'was': 159, 'o': 157, 'they': 147, 'would': 138, 'well': 137, 'bertram': 136, 'then': 132, 'at': 131, 'know': 130, 'first': 129, 'now': 128, 'good': 128, 'am': 125, 'helena': 125, 'their': 124, 'time': 122, 'lafeu': 118, 'make': 117, 'yet': 116, 'mine': 116, 'sir': 116, 'hath': 115, 'than': 115, 'let': 112, 'there': 112, 'did': 110, 'one': 109, 'may': 108, 'upon': 108, 'antony': 108, 'say': 106, 'how': 104, 'can': 103, 'should': 102, 'like': 101, 'countess': 100, 'such': 98, 'doth': 98, 'an': 95, 'must': 94, 'where': 94, 'were': 93, 'great': 89, 'll': 89, 'them': 88, 'had': 87, 'give': 86, 'tis': 85, 'heart': 85, 'most': 84, 'see': 83, 'st': 83, 'second': 83, 'here': 82, 't': 82, 'self': 81, 'us': 78, 'enter': 78, 'nor': 76, 'come': 76, 'art': 74, 'sweet': 73, 'own': 73, 'man': 71, 'who': 71, 'think': 70, 'speak': 70, 'some': 69, 'too': 68, 'th': 68, 'out': 67, 'eyes': 67, 'clown': 67, 'cleopatra': 67, 'caesar': 66, 'fair': 64, 'beauty': 64, 'true': 61, 'never': 61, 'though': 61, 'whose': 60, 'take': 60, 'world': 60, 'honour': 59, 'thine': 59, 'diana': 59, 'life': 58, 'why': 57, 'much': 56, 'still': 55, 'go': 55, 'soldier': 55, 'nothing': 54, 'madam': 54, 'might': 53, 'both': 53, 'being': 52, 'those': 52, 'away': 52, 'hear': 51, 'made': 51, 'night': 51, 'every': 51, 'cannot': 51, 'france': 50, 'these': 50, 'day': 50, 'very': 49, 'tell': 49, 'up': 49, 'before': 49, 'truth': 49, 'eye': 49, 'live': 49, 'heaven': 48, 'er': 48, 'men': 47, 'any': 47, 'therefore': 47, 'poor': 47, 'since': 46, 'against': 46, 'hand': 46, 'find': 46, 'ring': 46, 'many': 45, 'ever': 45, 'dear': 45, 'name': 45, 'look': 45, 'nature': 45, 'other': 44, 'better': 43, 'count': 43, 'enobarbus': 43, 'old': 42, 'leave': 42, 'death': 42, 'charmian': 42, 'into': 41, 'widow': 41, 'wife': 41, 'again': 41, 'whom': 40, 'thus': 39, 'could': 39, 'exeunt': 39, 'son': 39, 'best': 37, 'till': 37, 'fortune': 37, 'two': 36, 'show': 36, 'act': 35, 'thought': 35, 'grace': 35, 'part': 35, 'things': 35, 'mother': 35, 'scene': 34, 'exit': 34, 'full': 34, 'god': 34, 'dead': 34, 'thoughts': 33, 'pray': 33, 'power': 33, 'only': 33, 'praise': 33, 'even': 33, 'bring': 32, 'long': 32, 'blood': 32, 'after': 32, 'use': 32, 'none': 32, 'been': 31, 'done': 31, 'duke': 31, 'far': 31, 'dost': 31, 'has': 31, 'indeed': 30, 'youth': 30, 'father': 30, 'die': 30, 'put': 30, 'hope': 30, 'new': 30, 'does': 30, 'gentleman': 30, 'lose': 29, 'call': 29, 'ill': 29, 'friend': 29, 'gone': 29, 'nay': 29, 'hold': 28, 'seem': 28, 'pleasure': 28, 'worth': 28, 'young': 28, 'rousillon': 28, 'knave': 28, 'war': 27, 'without': 27, 'lady': 27, 'stand': 27, 'noble': 27, 'comes': 27, 'home': 27, 'state': 27, 'hast': 27, 'tongue': 27, 'ay': 27, 'past': 26, 'off': 26, 'keep': 26, 'alone': 26, 'forth': 25, 'others': 25, 'hate': 25, 'knows': 25, 'captain': 25, 'marry': 25, 'place': 24, 'majesty': 24, 'daughter': 24, 'another': 24, 'end': 24, 'mind': 24, 'answer': 24, 'business': 24, 'way': 24, 'face': 24, 'false': 24, 'fool': 24, 'service': 24, 'alexas': 24, 'lepidus': 24, 'himself': 23, 'within': 23, 'age': 23, 'right': 23, 'once': 23, 'under': 23, 'rather': 23, 'french': 23, 'down': 23, 'fear': 23, 'found': 23, 'serve': 23, 'drum': 23, 'fire': 22, 'mistress': 22, 'woman': 22, 'stay': 22, 'help': 22, 'set': 22, 'days': 22, 'farewell': 22, 'maid': 22, 'canterbury': 21, 'save': 21, 'word': 21, 'master': 21, 'bear': 21, 'loves': 21, 'matter': 21, 'faith': 21, 'ere': 21, 'florence': 21, 'pardon': 20, 'high': 20, 'proud': 20, 'earth': 20, 'wish': 20, 'summer': 20, 'lie': 20, 'yours': 20, 'present': 20, 'lords': 20, 'wilt': 20, 'prove': 20, 'house': 20, 'seen': 20, 'messenger': 20, 'hour': 19, 'palace': 19, 'send': 19, 'believe': 19, 'queen': 19, 'black': 19, 'else': 19, 'lies': 19, 'husband': 19, 'each': 19, 'thing': 19, 'born': 19, 'looks': 19, 'whilst': 19, 'worthy': 19, 'makes': 19, 'return': 19, 'friends': 19, 'lack': 19, 'virtue': 19, 'virginity': 19, 'myself': 19, 'pompey': 19, 'muse': 18, 'little': 18, 'change': 18, 'thank': 18, 'said': 18, 'please': 18, 'gentle': 18, 'write': 18, 'words': 18, 'lost': 18, 'pity': 18, 'court': 18, 'fulvia': 18, 'agrippa': 18, 'sword': 17, 'thousand': 17, 'body': 17, 'hours': 17, 'enough': 17, 'v': 17, 'soul': 17, 'ne': 17, 'rich': 17, 'itself': 17, 'happy': 17, 'hence': 17, 'wars': 17, 'kind': 17, 'grow': 17, 'gave': 17, 'sight': 17, 'rest': 17, 'strong': 17, 'helen': 17, 'three': 17, 'swear': 17, 'lordship': 17, 'egypt': 17, 'times': 16, 'faults': 16, 'desire': 16, 'cause': 16, 'fall': 16, 'general': 16, 'spirit': 16, 'cold': 16, 'brother': 16, 'shalt': 16, 'oft': 16, 'bed': 16, 'strange': 16, 'electronic': 16, 'copies': 16, 'distributed': 16, 'further': 16, 'play': 15, 'holy': 15, 'steal': 15, 'gracious': 15, 'sure': 15, 'charge': 15, 'wrong': 15, 'sun': 15, 'purpose': 15, 'says': 15, 'mayst': 15, 'themselves': 15, 'verse': 15, 'dare': 15, 'sake': 15, 'need': 15, 'saw': 15, 'ask': 15, 'letter': 15, 'work': 14, 'ely': 14, 'gives': 14, 'sin': 14, 'sovereign': 14, 'head': 14, 'back': 14, 'making': 14, 'sit': 14, 'read': 14, 'sad': 14, 'common': 14, 'shame': 14, 'lov': 14, 'deeds': 14, 'sense': 14, 'report': 14, 'told': 14, 'spoke': 14, 'ourselves': 14, 'behold': 13, 'parts': 13, 'year': 13, 'last': 13, 'given': 13, 'turn': 13, 'same': 13, 'henry': 13, 'woe': 13, 'note': 13, 'through': 13, 'writ': 13, 'pride': 13, 'hearts': 13, 'follow': 13, 'lay': 13, 'sea': 13, 'heavy': 13, 'living': 13, 'skill': 13, 'child': 13, 'truly': 13, 'trust': 13, 'loving': 13, 'haste': 13, 'grief': 13, 'loss': 13, 'tears': 13, 'lest': 13, 'whether': 13, 'ten': 13, 'light': 13, 'sing': 13, 'greatest': 13, 'cheek': 13, 'welcome': 13, 'flourish': 13, 'sick': 13, 'knew': 13, '1': 13, '2': 13, 'beseech': 13, 'rome': 13, 'soothsayer': 13, 'mars': 12, 'pass': 12, 'needs': 12, 'means': 12, 'liege': 12, 'law': 12, 'lives': 12, 'highness': 12, 'between': 12, 'title': 12, 'shows': 12, 'yourself': 12, 'eat': 12, 'dauphin': 12, 'store': 12, 'pen': 12, 'less': 12, 'bright': 12, 'strength': 12, 'view': 12, 'sorrow': 12, 'although': 12, 'flesh': 12, 'care': 12, 'horse': 12, 'lend': 12, 'worse': 12, 'works': 12, 'oaths': 12, 'honest': 12, 'monsieur': 12, 'letters': 12, 'maecenas': 12, 'question': 11, 'half': 11, 'hundred': 11, 'breath': 11, 'left': 11, 'came': 11, 'blessed': 11, 'attendants': 11, 'gainst': 11, 'unto': 11, 'women': 11, 're': 11, 'remembrance': 11, 'herself': 11, 'taken': 11, 'while': 11, 'soldiers': 11, 'mark': 11, 'break': 11, 'either': 11, 'fly': 11, 'knowledge': 11, 'holds': 11, 'wear': 11, 'tender': 11, 'kill': 11, 'took': 11, 'thence': 11, 'judgment': 11, 'morrow': 11, 'servant': 11, 'goes': 11, 'bad': 11, 'got': 11, 'used': 11, 'something': 11, 'cure': 11, 'news': 11, 'paris': 11, 'honesty': 11, 'demand': 11, 'iras': 11, 'soon': 10, 'reason': 10, 'greater': 10, 'crown': 10, 'four': 10, 'land': 10, 'having': 10, 'five': 10, 'choose': 10, 'motion': 10, 'gold': 10, 'almost': 10, 'treasure': 10, 'get': 10, 'run': 10, 'form': 10, 'kept': 10, 'grant': 10, 'gift': 10, 'pluck': 10, 'virtuous': 10, 'neither': 10, 'worst': 10, 'fine': 10, 'wherein': 10, 'favour': 10, 'joy': 10, 'duty': 10, 'n': 10, 'confess': 10, 'unless': 10, 'dearest': 10, 'thanks': 10, 'known': 10, 'sleep': 10, 'water': 10, 'straight': 10, 'canst': 10, 'case': 10, 'slave': 10, 'bound': 10, 'suffer': 10, 'stands': 10, 'near': 10, 'fears': 10, 'vow': 10, 'colour': 10, 'ear': 10, 'boy': 10, 'just': 10, 'about': 10, 'foul': 10, 'heard': 10, 'steward': 10, 'fellow': 10, 'invention': 9, 'air': 9, 'glass': 9, 'humble': 9, 'deep': 9, 'wonder': 9, 'fill': 9, 'prince': 9, 'certain': 9, 'ii': 9, 'salique': 9, 'claim': 9, 'health': 9, 'wit': 9, 'appear': 9, 'corrupt': 9, 'marriage': 9, 'win': 9, 'aid': 9, 'begin': 9, 'pretty': 9, 'lines': 9, 'sent': 9, 'over': 9, 'won': 9, 'understand': 9, 'glory': 9, 'mock': 9, 'weep': 9, 'foot': 9, 'deny': 9, 'decay': 9, 'together': 9, 'maiden': 9, 'short': 9, 'course': 9, 'draw': 9, 'breast': 9, 'dumb': 9, 'shadow': 9, 'disgrace': 9, 'loved': 9, 'ry': 9, 'calls': 9, 'leisure': 9, 'hers': 9, 'side': 9, 'seek': 9, 'speed': 9, 'going': 9, 'point': 9, 'quick': 9, 'bid': 9, 'hell': 9, 'taught': 9, 'married': 9, 'office': 9, 'mad': 9, 'william': 9, 'shakespeare': 9, 'project': 9, 'college': 9, 'charges': 9, 'florentine': 9, 'speech': 9, 'yes': 9, 'prithee': 9, 'mighty': 8, 'talk': 8, 'kings': 8, 'weak': 8, 'drink': 8, 'ears': 8, 'throne': 8, 'become': 8, 'manners': 8, 'twenty': 8, 'line': 8, 'hide': 8, 'book': 8, 'tomb': 8, 'action': 8, 'main': 8, 'cat': 8, 'royal': 8, 'meet': 8, 'shake': 8, 'pains': 8, 'coming': 8, 'peace': 8, 'fare': 8, 'brought': 8, 'ah': 8, 'bosom': 8, 'beauteous': 8, 'fairer': 8, 'least': 8, 'wisdom': 8, 'shouldst': 8, 'white': 8, 'leaves': 8, 'longer': 8, 'eternal': 8, 'stars': 8, 'wherefore': 8, 'outward': 8, 'sometime': 8, 'often': 8, 'wide': 8, 'brow': 8, 'rare': 8, 'want': 8, 'buried': 8, 'merit': 8, 'respect': 8, 'hands': 8, 'wealth': 8, 'didst': 8, 'roses': 8, 'lawful': 8, 'remain': 8, 'delight': 8, 'argument': 8, 'paper': 8, 'blame': 8, 'lead': 8, 'cruel': 8, 'simple': 8, 'smell': 8, 'late': 8, 'already': 8, 'knowing': 8, 'above': 8, 'red': 8, 'prayers': 8, 'next': 8, 'strive': 8, 'lips': 8, 'kiss': 8, 'sworn': 8, 'quickly': 8, 'touch': 8, 'version': 8, 'complete': 8, 'copyright': 8, '1990': 8, '1993': 8, 'library': 8, 'inc': 8, 'provided': 8, 'gutenberg': 8, 'etext': 8, 'illinois': 8, 'benedictine': 8, 'permission': 8, 'machine': 8, 'readable': 8, 'personal': 8, 'commercially': 8, 'prohibited': 8, 'commercial': 8, 'distribution': 8, 'includes': 8, 'download': 8, 'membership': 8, 'gentlewoman': 8, 'command': 8, 'enemy': 8, 'bless': 8, 'gentlemen': 8, 'sirrah': 8, 'danger': 8, 'boys': 8, 'iii': 8, 'camp': 8, 'menas': 8, 'spirits': 7, 'carry': 7, 'patience': 7, 'farther': 7, 'six': 7, 'angel': 7, 'thrive': 7, 'seems': 7, 'large': 7, 'withal': 7, 'presence': 7, 'forbid': 7, 'edge': 7, 'waste': 7, 'brief': 7, 'charles': 7, 'behind': 7, 'disdain': 7, 'heir': 7, 'bloody': 7, 'arm': 7, 'mean': 7, 'force': 7, 'fame': 7, 'absence': 7, 'catch': 7, 'ways': 7, 'fresh': 7, 'mouth': 7, 'grave': 7, 'passion': 7, 'subject': 7, 'laid': 7, 'blind': 7, 'scorn': 7, 'chide': 7, 'spend': 7, 'folly': 7, 'brave': 7, 'heat': 7, 'green': 7, 'methinks': 7, 'memory': 7, 'rhyme': 7, 'flowers': 7, 'keeps': 7, 'thyself': 7, 'speaking': 7, 'star': 7, 'travel': 7, 'haply': 7, 'brings': 7, 'precious': 7, 'pay': 7, 'grown': 7, 'anon': 7, 'base': 7, 'wound': 7, 'offence': 7, 'comfort': 7, 'excellent': 7, 'absent': 7, 'dearly': 7, 'excuse': 7, 'ye': 7, 'gain': 7, 'dull': 7, 'space': 7, 'mortal': 7, 'whence': 7, 'reasons': 7, 'dwell': 7, 'flower': 7, 'mend': 7, 'aside': 7, 'pays': 7, 'cheeks': 7, 'story': 7, 'sport': 7, 'finger': 7, 'creature': 7, 'vows': 7, 'goodness': 7, 'receive': 7, 'free': 7, 'lust': 7, 'sound': 7, 'suit': 7, 'credit': 7, 'devil': 7, 'buy': 7, 'virgin': 7, 'mariana': 7, 'courtier': 7, 'twas': 7, 'fit': 7, 'hither': 7, 'e': 7, 'inform': 7, 'honourable': 7, 'deed': 7, 'fortunes': 7, 'displeasure': 7, 'spoken': 7, 'reads': 7, 'pilgrim': 7, 'gods': 7, 'cargo': 7, 'kingdom': 6, 'horses': 6, 'seat': 6, 'render': 6, 'music': 6, 'policy': 6, 'rude': 6, 'grew': 6, 'instant': 6, 'guess': 6, 'weight': 6, 'learned': 6, 'heed': 6, 'conscience': 6, 'pure': 6, 'until': 6, 'died': 6, 'numbers': 6, 'ground': 6, 'stood': 6, 'valiant': 6, 'thrice': 6, 'former': 6, 'england': 6, 'whereof': 6, 'hot': 6, 'defence': 6, 'fight': 6, 'low': 6, 'merry': 6, 'messengers': 6, 'meaning': 6, 'glad': 6, 'laugh': 6, 'add': 6, 'single': 6, 'shape': 6, 'beloved': 6, 'increase': 6, 'among': 6, 'issue': 6, 'evil': 6, 'wind': 6, 'date': 6, 'graces': 6, 'touches': 6, 'song': 6, 'compare': 6, 'lovely': 6, 'swift': 6, 'fell': 6, 'forget': 6, 'perfect': 6, 'cunning': 6, 'quite': 6, 'forgot': 6, 'jewel': 6, 'scope': 6, 'fore': 6, 'stol': 6, 'due': 6, 'birth': 6, 'beaten': 6, 'ransom': 6, 'sweetest': 6, 'fault': 6, 'thief': 6, 'twain': 6, 'pain': 6, 'dark': 6, 'attend': 6, 'slow': 6, 'move': 6, 'groan': 6, 'sharp': 6, 'blest': 6, 'rose': 6, 'hang': 6, 'thinks': 6, 'idle': 6, 'remedy': 6, 'painting': 6, 'wrinkles': 6, 'advantage': 6, 'seeing': 6, 'measure': 6, 'remember': 6, 'coward': 6, 'spent': 6, 'brain': 6, 'double': 6, 'goodly': 6, 'able': 6, 'betray': 6, 'soft': 6, 'hush': 6, 'express': 6, 'try': 6, 'goddess': 6, 'plague': 6, 'becomes': 6, 'bold': 6, 'whole': 6, 'dispatch': 6, 'saint': 6, 'wishes': 6, 'twere': 6, 'particular': 6, 'fancy': 6, 'choice': 6, 'success': 6, 'italy': 6, 'reports': 6, 'entreat': 6, 'reputation': 6, 'iv': 6, 'unworthy': 5, 'years': 5, 'toil': 5, 'yea': 5, 'inward': 5, 'affairs': 5, 'speaks': 5, 'mute': 5, 'honey': 5, 'open': 5, 'grows': 5, 'neighbour': 5, 'quality': 5, 'unseen': 5, 'sum': 5, 'dukedoms': 5, 'clock': 5, 'wait': 5, 'bar': 5, 'fashion': 5, 'bow': 5, 'reading': 5, 'kingdoms': 5, 'owe': 5, 'female': 5, 'supposed': 5, 'ancestors': 5, 'petty': 5, 'consent': 5, 'buds': 5, 'justice': 5, 'several': 5, 'dial': 5, 'ours': 5, 'bones': 5, 'freely': 5, 'nought': 5, 'match': 5, 'bestow': 5, 'barren': 5, 'beard': 5, 'sweets': 5, 'takes': 5, 'winter': 5, 'rage': 5, 'minutes': 5, 'doom': 5, 'painted': 5, 'counterfeit': 5, 'antique': 5, 'twice': 5, 'breathe': 5, 'lived': 5, 'sorry': 5, 'despite': 5, 'acquainted': 5, 'hue': 5, 'frame': 5, 'turns': 5, 'therein': 5, 'public': 5, 'boast': 5, 'removed': 5, 'witness': 5, 'bare': 5, 'looking': 5, 'clouds': 5, 'flatter': 5, 'contented': 5, 'sings': 5, 'moan': 5, 'paid': 5, 'dust': 5, 'morning': 5, 'shine': 5, 'stain': 5, 'promise': 5, 'thorns': 5, 'canker': 5, 'amiss': 5, 'spite': 5, 'deserv': 5, 'lascivious': 5, 'foes': 5, 'forbear': 5, 'because': 5, 'losing': 5, 'melancholy': 5, 'feast': 5, 'desert': 5, 'pace': 5, 'seldom': 5, 'gilded': 5, 'stone': 5, 'appetite': 5, 'feeding': 5, 'adieu': 5, 'check': 5, 'doing': 5, 'confound': 5, 'beggar': 5, 'tied': 5, 'seeming': 5, 'rank': 5, 'weeds': 5, 'flies': 5, 'vile': 5, 'wise': 5, 'owes': 5, 'fond': 5, 'praises': 5, 'finds': 5, 'hurt': 5, 'lays': 5, 'despair': 5, 'sinful': 5, 'alike': 5, 'page': 5, 'guilty': 5, 'brand': 5, 'patient': 5, 'bitter': 5, 'throw': 5, 'intents': 5, 'sickness': 5, 'content': 5, 'y': 5, 'weigh': 5, 'mercy': 5, 'desperate': 5, 'dian': 5, 'thither': 5, 'undone': 5, 'companion': 5, 'anything': 5, 'valour': 5, 'contempt': 5, 'worn': 5, '3': 5, 'damn': 5, 'beg': 5, 'deliver': 5, 'language': 5, 'bravely': 5, 'spare': 5, 'humbly': 5, 'rate': 5, 'infinite': 5, 'em': 5, 'presently': 5, 'beat': 5, 'nose': 5, 'whither': 5, 'fail': 5, 'field': 5, 'country': 5, 'en': 5, 'met': 5, 'jaques': 5, 'amorous': 5, 'army': 5, 'undertake': 5, 'interpreter': 5, 'people': 5, 'alexandria': 5, 'isis': 5, 'idleness': 5, 'mardian': 5, 'princes': 4, 'warlike': 4, 'crooked': 4, 'suppose': 4, 'confined': 4, 'ocean': 4, 'divide': 4, 'chamber': 4, 'possession': 4, 'beside': 4, 'runs': 4, 'twould': 4, 'lover': 4, 'sooner': 4, 'debate': 4, 'knot': 4, 'charter': 4, 'vain': 4, 'doubt': 4, 'offer': 4, 'fain': 4, 'titles': 4, 'edward': 4, 'broke': 4, 'ambassador': 4, 'hearing': 4, 'frenchman': 4, 'exeter': 4, 'westmoreland': 4, 'uncle': 4, 'cousin': 4, 'guard': 4, 'sacred': 4, 'proceed': 4, 'native': 4, 'contend': 4, 'swords': 4, 'produce': 4, 'sole': 4, 'lewis': 4, 'clear': 4, 'dies': 4, 'defeat': 4, 'lion': 4, 'english': 4, 'entertain': 4, 'scot': 4, 'ample': 4, 'harm': 4, 'prey': 4, 'necessity': 4, 'abroad': 4, 'close': 4, 'divers': 4, 'fixed': 4, 'creatures': 4, 'teach': 4, 'velvet': 4, 'march': 4, 'gate': 4, 'pale': 4, 'borne': 4, 'powers': 4, 'tyrant': 4, 'lately': 4, 'bids': 4, 'desires': 4, 'balls': 4, 'sail': 4, 'blush': 4, 'children': 4, 'fast': 4, 'copy': 4, 'prime': 4, 'beauties': 4, 'forsake': 4, 'scythe': 4, 'lease': 4, 'rain': 4, 'wouldst': 4, 'perfection': 4, 'perceive': 4, 'height': 4, 'number': 4, 'poet': 4, 'heavenly': 4, 'alive': 4, 'winds': 4, 'shade': 4, 'burn': 4, 'whate': 4, 'crime': 4, 'wert': 4, 'ornament': 4, 'rehearse': 4, 'babe': 4, 'abundance': 4, 'plead': 4, 'learn': 4, 'held': 4, 'image': 4, 'frown': 4, 'strongly': 4, 'limbs': 4, 'tired': 4, 'stronger': 4, 'drown': 4, 'account': 4, 'survey': 4, 'style': 4, 'ride': 4, 'alack': 4, 'physic': 4, 'repent': 4, 'bears': 4, 'cross': 4, 'effect': 4, 'evermore': 4, 'crowned': 4, 'aught': 4, 'outlive': 4, 'slight': 4, 'hadst': 4, 'taste': 4, 'forgive': 4, 'stop': 4, 'assured': 4, 'picture': 4, 'guest': 4, 'cast': 4, 'greet': 4, 'sometimes': 4, 'fiery': 4, 'towards': 4, 'solemn': 4, 'special': 4, 'tend': 4, 'spring': 4, 'powerful': 4, 'perpetual': 4, 'vassal': 4, 'belong': 4, 'backward': 4, 'knife': 4, 'cut': 4, 'brass': 4, 'ink': 4, 'cry': 4, 'forsworn': 4, 'sway': 4, 'authority': 4, 'tongues': 4, 'commend': 4, 'shown': 4, 'tie': 4, 'mourn': 4, 'fled': 4, 'thinking': 4, 'bail': 4, 'strife': 4, 'learning': 4, 'eternity': 4, 'commit': 4, 'acquaintance': 4, 'ignorance': 4, 'saucy': 4, 'blessing': 4, 'anew': 4, 'plain': 4, 'silence': 4, 'equal': 4, 'amen': 4, 'intelligence': 4, 'dream': 4, 'bent': 4, 'join': 4, 'garments': 4, 'wretched': 4, 'vex': 4, 'revolt': 4, 'errors': 4, 'esteem': 4, 'wondrous': 4, 'constancy': 4, 'difference': 4, 'fairest': 4, 'lip': 4, 'forfeit': 4, 'flame': 4, 'easy': 4, 'alas': 4, 'assure': 4, 'minds': 4, 'unknown': 4, 'level': 4, 'urge': 4, 'ills': 4, 'poison': 4, 'drunk': 4, 'hopes': 4, 'unkindness': 4, 'hard': 4, 'fits': 4, 'fee': 4, 'oblivion': 4, 'surety': 4, 'bind': 4, 'whoever': 4, 'sides': 4, 'deserve': 4, 'denied': 4, 'loud': 4, 'feed': 4, 'physician': 4, 'cupid': 4, 'bath': 4, 'cool': 4, 'ends': 4, 'marseilles': 4, 'qualities': 4, 'virtues': 4, 'approaches': 4, 'empire': 4, 'tax': 4, 'liar': 4, 'stomach': 4, 'cap': 4, 'wither': 4, 'disaster': 4, 'advice': 4, 'reported': 4, 'younger': 4, 'quoth': 4, 'cuckold': 4, 'sister': 4, 'howe': 4, 'token': 4, 'encounter': 4, 'experience': 4, 'higher': 4, 'ended': 4, 'questions': 4, 'buttock': 4, 'thankful': 4, 'attendant': 4, 'whipt': 4, 'claims': 4, 'scarce': 4, 'arms': 4, 'everything': 4, 'recovered': 4, 'deal': 4, 'scar': 4, 'trumpets': 4, 'fetch': 4, 'oath': 4, 'midnight': 4, 'guarded': 4, 'company': 4, 'deceiv': 4, 'stocks': 4, 'fifty': 4, 'dumain': 4, 'behalf': 4, 'price': 4, 'tricks': 4, 'patch': 4, 'menecrates': 4, 'octavia': 4, 'stage': 3, 'port': 3, 'heels': 3, 'famine': 3, 'object': 3, 'fields': 3, 'figure': 3, 'imaginary': 3, 'forces': 3, 'walls': 3, 'narrow': 3, 'piece': 3, 'admit': 3, 'history': 3, 'gently': 3, 'kindly': 3, 'bill': 3, 'reign': 3, 'fifteen': 3, 'souls': 3, 'courses': 3, 'moment': 3, 'contain': 3, 'sudden': 3, 'list': 3, 'fearful': 3, 'familiar': 3, 'shallow': 3, 'noted': 3, 'miracles': 3, 'generally': 3, 'derived': 3, 'audience': 3, 'embassy': 3, 'task': 3, 'drop': 3, 'awake': 3, 'mortality': 3, 'yourselves': 3, 'services': 3, 'pharamond': 3, 'faithfully': 3, 'sala': 3, 'subdued': 3, 'twixt': 3, 'besides': 3, 'pepin': 3, 'capet': 3, 'convey': 3, 'smiling': 3, 'nobility': 3, 'veins': 3, 'morn': 3, 'richer': 3, 'subjects': 3, 'proportions': 3, 'defend': 3, 'went': 3, 'breach': 3, 'siege': 3, 'shook': 3, 'mourning': 3, 'bottom': 3, 'follows': 3, 'advised': 3, 'natural': 3, 'setting': 3, 'aim': 3, 'order': 3, 'officers': 3, 'venture': 3, 'stings': 3, 'boot': 3, 'civil': 3, 'salt': 3, 'nation': 3, 'bend': 3, 'kingly': 3, 'acts': 3, 'epitaph': 3, 'greeting': 3, 'frank': 3, 'few': 3, 'third': 3, 'savour': 3, 'nimble': 3, 'pleasant': 3, 'strike': 3, 'hazard': 3, 'greatness': 3, 'rise': 3, 'wasteful': 3, 'mothers': 3, 'sons': 3, 'curse': 3, 'feathers': 3, 'wings': 3, 'private': 3, 'unused': 3, 'toward': 3, 'sits': 3, 'murd': 3, 'rous': 3, 'commits': 3, 'repair': 3, 'chief': 3, 'cease': 3, 'harsh': 3, 'bounty': 3, 'tells': 3, 'wastes': 3, 'breed': 3, 'seasons': 3, 'derive': 3, 'constant': 3, 'whereon': 3, 'influence': 3, 'youthful': 3, 'conceit': 3, 'sets': 3, 'top': 3, 'drawn': 3, 'filled': 3, 'deserts': 3, 'shines': 3, 'complexion': 3, 'blunt': 3, 'teeth': 3, 'fierce': 3, 'allow': 3, 'created': 3, 'addition': 3, 'moon': 3, 'april': 3, 'cover': 3, 'bearing': 3, 'presume': 3, 'gav': 3, 'replete': 3, 'ceremony': 3, 'expressed': 3, 'silent': 3, 'belongs': 3, 'painter': 3, 'peep': 3, 'triumph': 3, 'remove': 3, 'wanting': 3, 'weary': 3, 'abide': 3, 'hung': 3, 'lo': 3, 'enemies': 3, 'torture': 3, 'blot': 3, 'daily': 3, 'sorrows': 3, 'length': 3, 'cries': 3, 'sullen': 3, 'remembered': 3, 'flow': 3, 'expense': 3, 'religious': 3, 'lovers': 3, 'growing': 3, 'dearer': 3, 'golden': 3, 'basest': 3, 'west': 3, 'triumphant': 3, 'masked': 3, 'rotten': 3, 'lends': 3, 'sins': 3, 'plea': 3, 'acknowledge': 3, 'despised': 3, 'substance': 3, 'pour': 3, 'vulgar': 3, 'nine': 3, 'torment': 3, 'sour': 3, 'praising': 3, 'injury': 3, 'wrongs': 3, 'abuse': 3, 'approve': 3, 'flattery': 3, 'dreams': 3, 'shadows': 3, 'nights': 3, 'distance': 3, 'leap': 3, 'composition': 3, 'betwixt': 3, 'sighs': 3, 'share': 3, 'falsehood': 3, 'chest': 3, 'feel': 3, 'thievish': 3, 'prize': 3, 'called': 3, 'beast': 3, 'wretch': 3, 'worthiness': 3, 'odour': 3, 'record': 3, 'hungry': 3, 'shore': 3, 'watch': 3, 'bitterness': 3, 'control': 3, 'brains': 3, 'character': 3, 'sequent': 3, 'feeds': 3, 'broken': 3, 'shames': 3, 'elsewhere': 3, 'antiquity': 3, 'contrary': 3, 'cost': 3, 'steel': 3, 'infection': 3, 'bastard': 3, 'durst': 3, 'voice': 3, 'defect': 3, 'slander': 3, 'suspect': 3, 'crow': 3, 'ambush': 3, 'vilest': 3, 'worms': 3, 'untrue': 3, 'birds': 3, 'remains': 3, 'pine': 3, 'showing': 3, 'always': 3, 'wing': 3, 'stole': 3, 'broad': 3, 'forgotten': 3, 'yield': 3, 'monument': 3, 'gross': 3, 'modern': 3, 'example': 3, 'small': 3, 'writes': 3, 'phrase': 3, 'praised': 3, 'giving': 3, 'bonds': 3, 'desired': 3, 'griefs': 3, 'depends': 3, 'deceived': 3, 'creation': 3, 'rightly': 3, 'inherit': 3, 'privilege': 3, 'esteemed': 3, 'truths': 3, 'felt': 3, 'wanton': 3, 'seemed': 3, 'forward': 3, 'hair': 3, 'growth': 3, 'front': 3, 'wild': 3, 'process': 3, 'divine': 3, 'affections': 3, 'proved': 3, 'proof': 3, 'provide': 3, 'breeds': 3, 'receives': 3, 'delivers': 3, 'monarch': 3, 'palate': 3, 'fearing': 3, 'accuse': 3, 'whereto': 3, 'medicine': 3, 'healthful': 3, 'unkind': 3, 'hits': 3, 'reckon': 3, 'import': 3, 'falls': 3, 'blow': 3, 'politic': 3, 'wood': 3, 'fingers': 3, 'boldness': 3, 'perjured': 3, 'extreme': 3, 'pursuit': 3, 'leads': 3, 'snow': 3, 'err': 3, 'prison': 3, 'bond': 3, 'admitted': 3, 'plot': 3, 'vainly': 3, 'simply': 3, 'manner': 3, 'physicians': 3, 'dote': 3, 'dissuade': 3, 'foolish': 3, 'woo': 3, 'chase': 3, 'afar': 3, 'followed': 3, 'threw': 3, 'terms': 3, 'fed': 3, 'disease': 3, 'marvel': 3, 'commanded': 3, 'swearing': 3, 'endure': 3, 'trial': 3, 'lying': 3, 'stretch': 3, 'profession': 3, 'gerard': 3, 'de': 3, 'narbon': 3, 'bequeathed': 3, 'promises': 3, 'carries': 3, 'commendations': 3, 'traitors': 3, 'furnish': 3, 'advise': 3, 'wed': 3, 'brows': 3, 'virgins': 3, 'city': 3, 'liking': 3, 'wears': 3, 'humility': 3, 'poorer': 3, 'shut': 3, 'especially': 3, 'counsel': 3, 'fought': 3, 'certainty': 3, 'exploit': 3, 'soldiership': 3, 'observe': 3, 'obey': 3, 'heel': 3, 'mere': 3, 'modesty': 3, 'isbel': 3, 'requires': 3, 'knaves': 3, 'acquaint': 3, 'serpent': 3, 'offended': 3, 'search': 3, 'motive': 3, 'attempt': 3, 'taking': 3, 'receiv': 3, 'bidding': 3, 'bought': 3, 'fellows': 3, 'fox': 3, 'estate': 3, 'enforce': 3, 'square': 3, 'strumpet': 3, 'extended': 3, 'monstrous': 3, 'property': 3, 'ho': 3, 'breeding': 3, 'lent': 3, 'wiser': 3, 'thick': 3, 'whipping': 3, 'serves': 3, 'promis': 3, 'protest': 3, 'blushes': 3, 'stream': 3, 'distinction': 3, 'dower': 3, 'window': 3, 'casement': 3, 'ev': 3, 'scarf': 3, 'scurvy': 3, 'wast': 3, 'awhile': 3, '4': 3, 'money': 3, 'laughter': 3, 'serious': 3, 'delay': 3, 'commands': 3, '5': 3, 'clothes': 3, 'prepar': 3, 'twill': 3, 'troop': 3, 'quarrel': 3, 'along': 3, 'knock': 3, 'yonder': 3, 'loses': 3, 'effected': 3, 'constraint': 3, 'helm': 3, 'file': 3, 'approach': 3, 'labour': 3, 'hark': 3, 'officer': 3, 'nobly': 3, 'gallant': 3, 'perchance': 3, 'entertainment': 3, 'stratagem': 3, 'pox': 3, 'band': 3, 'ignorant': 3, 'ones': 3, 'breaking': 3, 'boskos': 3, 'jove': 3, 'conditions': 3, 'proper': 3, 'sat': 3, 'cozen': 3, 'residing': 3, 'mightily': 3, 'street': 3, 'rogues': 3, 'courteous': 3, 'petition': 3, 'metaphor': 3, 'scratch': 3, 'ha': 3, 'widower': 3, 'deadly': 3, 'concern': 3, 'utter': 3, 'train': 3, 'pow': 3, 'mirth': 3, 'roman': 3, 'sicyon': 3, 'varrius': 3, 'brightest': 2, 'monarchs': 2, 'hounds': 2, 'employment': 2, 'million': 2, 'receiving': 2, 'archbishop': 2, 'bishop': 2, 'urged': 2, 'testament': 2, 'church': 2, 'valued': 2, 'maintain': 2, 'knights': 2, 'relief': 2, 'faint': 2, 'corporal': 2, 'cup': 2, 'regard': 2, 'wildness': 2, 'whipp': 2, 'paradise': 2, 'celestial': 2, 'wilfulness': 2, 'admiring': 2, 'commonwealth': 2, 'study': 2, 'discourse': 2, 'battle': 2, 'garter': 2, 'libertine': 2, 'theoric': 2, 'fruit': 2, 'baser': 2, 'veil': 2, 'grass': 2, 'faculty': 2, 'clergy': 2, 'received': 2, 'acceptance': 2, 'perceived': 2, 'grandfather': 2, 'impediment': 2, 'resolved': 2, 'angels': 2, 'justly': 2, 'unfold': 2, 'opening': 2, 'colours': 2, 'person': 2, 'sleeping': 2, 'drops': 2, 'sore': 2, 'complaint': 2, 'wash': 2, 'imperial': 2, 'succeed': 2, 'unjustly': 2, 'realm': 2, 'founder': 2, 'germany': 2, 'floods': 2, 'elbe': 2, 'saxons': 2, 'settled': 2, 'holding': 2, 'german': 2, 'devised': 2, 'idly': 2, 'beyond': 2, 'river': 2, 'eight': 2, 'writers': 2, 'hugh': 2, 'also': 2, 'lorraine': 2, 'charlemain': 2, 'emperor': 2, 'tenth': 2, 'quiet': 2, 'wearing': 2, 'satisfaction': 2, 'dread': 2, 'inheritance': 2, 'flag': 2, 'whiles': 2, 'laughing': 2, 'puissant': 2, 'renew': 2, 'courage': 2, 'ripe': 2, 'rouse': 2, 'nobles': 2, 'bodies': 2, 'pavilion': 2, 'tide': 2, 'brim': 2, 'fulness': 2, 'castles': 2, 'chronicle': 2, 'wreck': 2, 'saying': 2, 'eagle': 2, 'nest': 2, 'tear': 2, 'crush': 2, 'armed': 2, 'lower': 2, 'continual': 2, 'butt': 2, 'rule': 2, 'sorts': 2, 'correct': 2, 'tent': 2, 'building': 2, 'citizens': 2, 'eyed': 2, 'surly': 2, 'delivering': 2, 'reference': 2, 'streams': 2, 'centre': 2, 'quarter': 2, 'doors': 2, 'dog': 2, 'pieces': 2, 'ambassadors': 2, 'christian': 2, 'sending': 2, 'revel': 2, 'sends': 2, 'tun': 2, 'licence': 2, 'stones': 2, 'charged': 2, 'appeal': 2, 'jest': 2, 'safe': 2, 'conduct': 2, 'sender': 2, 'collected': 2, 'door': 2, 'wet': 2, 'wail': 2, 'possessed': 2, 'cherish': 2, 'seal': 2, 'meant': 2, 'hideous': 2, 'violet': 2, 'curls': 2, 'lofty': 2, 'trees': 2, 'canopy': 2, 'herd': 2, 'prepare': 2, 'decease': 2, 'judgement': 2, 'luck': 2, 'plagues': 2, 'pointing': 2, 'consider': 2, 'huge': 2, 'comment': 2, 'sky': 2, 'inconstant': 2, 'fortify': 2, 'pencil': 2, 'earthly': 2, 'faces': 2, 'rights': 2, 'rough': 2, 'darling': 2, 'changing': 2, 'fade': 2, 'ow': 2, 'wand': 2, 'keen': 2, 'phoenix': 2, 'fading': 2, 'pattern': 2, 'succeeding': 2, 'theirs': 2, 'gilding': 2, 'controlling': 2, 'steals': 2, 'wrought': 2, 'doting': 2, 'sell': 2, 'slain': 2, 'actor': 2, 'rite': 2, 'burthen': 2, 'recompense': 2, 'played': 2, 'table': 2, 'perspective': 2, 'windows': 2, 'delights': 2, 'gaze': 2, 'bars': 2, 'razed': 2, 'knit': 2, 'written': 2, 'moving': 2, 'points': 2, 'aspect': 2, 'puts': 2, 'apparel': 2, 'begins': 2, 'journey': 2, 'intend': 2, 'zealous': 2, 'pilgrimage': 2, 'eyelids': 2, 'darkness': 2, 'sightless': 2, 'benefit': 2, 'oppressed': 2, 'nightly': 2, 'deaf': 2, 'wishing': 2, 'lark': 2, 'hymns': 2, 'sought': 2, 'hid': 2, 'dateless': 2, 'vanished': 2, 'foregone': 2, 'heavily': 2, 'losses': 2, 'obsequious': 2, 'interest': 2, 'survive': 2, 'deceased': 2, 'reserve': 2, 'vouchsafe': 2, 'ranks': 2, 'poets': 2, 'mountain': 2, 'alchemy': 2, 'visage': 2, 'stealing': 2, 'early': 2, 'cloud': 2, 'hiding': 2, 'smoke': 2, 'salve': 2, 'offender': 2, 'pearl': 2, 'silver': 2, 'eclipses': 2, 'trespass': 2, 'sensual': 2, 'adverse': 2, 'accessary': 2, 'sourly': 2, 'robs': 2, 'kindness': 2, 'sort': 2, 'lame': 2, 'invent': 2, 'curious': 2, 'divided': 2, 'separation': 2, 'sweetly': 2, 'deceive': 2, 'teachest': 2, 'blamed': 2, 'wilful': 2, 'robbery': 2, 'poverty': 2, 'liberty': 2, 'befits': 2, 'temptation': 2, 'assailed': 2, 'woos': 2, 'mightst': 2, 'nearly': 2, 'wink': 2, 'unrespected': 2, 'darkly': 2, 'clearer': 2, 'injurious': 2, 'farthest': 2, 'miles': 2, 'elements': 2, 'conquest': 2, 'freedom': 2, 'quest': 2, 'moiety': 2, 'banquet': 2, 'careful': 2, 'trifle': 2, 'thrust': 2, 'jewels': 2, 'trifles': 2, 'locked': 2, 'proves': 2, 'defects': 2, 'utmost': 2, 'audit': 2, 'respects': 2, 'strangely': 2, 'spur': 2, 'anger': 2, 'answers': 2, 'posting': 2, 'neigh': 2, 'race': 2, 'key': 2, 'feasts': 2, 'imprisoned': 2, 'lacked': 2, 'deem': 2, 'perfumed': 2, 'deaths': 2, 'contents': 2, 'sluttish': 2, 'root': 2, 'masonry': 2, 'room': 2, 'contracted': 2, 'tame': 2, 'bide': 2, 'waiting': 2, 'labouring': 2, 'revolution': 2, 'wits': 2, 'hasten': 2, 'parallels': 2, 'grounded': 2, 'outworn': 2, 'firm': 2, 'soil': 2, 'increasing': 2, 'decays': 2, 'spoil': 2, 'doctor': 2, 'captive': 2, 'attending': 2, 'lace': 2, 'lively': 2, 'map': 2, 'gay': 2, 'dress': 2, 'vice': 2, 'passed': 2, 'envy': 2, 'clay': 2, 'devise': 2, 'yellow': 2, 'ruined': 2, 'seest': 2, 'expire': 2, 'consumed': 2, 'showers': 2, 'doubting': 2, 'counting': 2, 'clean': 2, 'possessing': 2, 'surfeit': 2, 'glance': 2, 'compounds': 2, 'weed': 2, 'spending': 2, 'telling': 2, 'progress': 2, 'profit': 2, 'added': 2, 'decayed': 2, 'deserves': 2, 'afford': 2, 'bark': 2, 'inferior': 2, 'worthless': 2, 'immortal': 2, 'finding': 2, 'limit': 2, 'fresher': 2, 'quill': 2, 'blessings': 2, 'comments': 2, 'richly': 2, 'affords': 2, 'womb': 2, 'struck': 2, 'countenance': 2, 'estimate': 2, 'riches': 2, 'deserving': 2, 'patent': 2, 'misprision': 2, 'waking': 2, 'weakness': 2, 'bending': 2, 'injuries': 2, 'vantage': 2, 'walks': 2, 'hawks': 2, 'humour': 2, 'adjunct': 2, 'particulars': 2, 'supposing': 2, 'altered': 2, 'sweetness': 2, 'excellence': 2, 'dignity': 2, 'sourest': 2, 'naming': 2, 'mansion': 2, 'mak': 2, 'throned': 2, 'deemed': 2, 'stern': 2, 'fleeting': 2, 'bareness': 2, 'everywhere': 2, 'autumn': 2, 'big': 2, 'burden': 2, 'unfathered': 2, 'cheer': 2, 'lap': 2, 'lily': 2, 'purple': 2, 'grossly': 2, 'dyed': 2, 'marjoram': 2, 'blushing': 2, 'theft': 2, 'faster': 2, 'prevent': 2, 'neglect': 2, 'dignified': 2, 'owner': 2, 'publish': 2, 'appears': 2, 'gifts': 2, 'turned': 2, 'perfumes': 2, 'songs': 2, 'varying': 2, 'ladies': 2, 'looked': 2, 'endless': 2, 'weighs': 2, 'bred': 2, 'frailties': 2, 'besiege': 2, 'sold': 2, 'offences': 2, 'newer': 2, 'potions': 2, 'impression': 2, 'objects': 2, 'monsters': 2, 'creating': 2, 'beams': 2, 'assemble': 2, 'drinks': 2, 'poisoned': 2, 'lesser': 2, 'decrees': 2, 'tyranny': 2, 'impediments': 2, 'alters': 2, 'bends': 2, 'tempests': 2, 'shaken': 2, 'error': 2, 'shoot': 2, 'maladies': 2, 'shun': 2, 'purge': 2, 'madding': 2, 'fever': 2, 'built': 2, 'feeling': 2, 'sportive': 2, 'wills': 2, 'tables': 2, 'score': 2, 'defy': 2, 'wond': 2, 'pomp': 2, 'discontent': 2, 'bore': 2, 'pitiful': 2, 'mutual': 2, 'fickle': 2, 'detain': 2, 'borrowed': 2, 'profaned': 2, 'suited': 2, 'mourners': 2, 'becoming': 2, 'concord': 2, 'jacks': 2, 'reap': 2, 'dancing': 2, 'walk': 2, 'gait': 2, 'hated': 2, 'bliss': 2, 'wires': 2, 'belied': 2, 'groans': 2, 'proceeds': 2, 'east': 2, 'ward': 2, 'sue': 2, 'spacious': 2, 'fulfil': 2, 'receipt': 2, 'bay': 2, 'swears': 2, 'unlearned': 2, 'unjust': 2, 'slay': 2, 'madness': 2, 'believed': 2, 'despise': 2, 'tune': 2, 'invited': 2, 'senses': 2, 'serving': 2, 'merits': 2, 'pitied': 2, 'neglected': 2, 'crying': 2, 'suggest': 2, 'worser': 2, 'wooing': 2, 'fiend': 2, 'flown': 2, 'saved': 2, 'rebel': 2, 'excess': 2, 'dying': 2, 'longing': 2, 'preserve': 2, 'uncertain': 2, 'sickly': 2, 'angry': 2, 'prescriptions': 2, 'except': 2, 'falsely': 2, 'mistake': 2, 'sees': 2, 'revenge': 2, 'worship': 2, 'abhor': 2, 'unworthiness': 2, 'nobler': 2, 'treason': 2, 'stays': 2, 'drudge': 2, 'asleep': 2, 'distempered': 2, 'chaste': 2, 'lavache': 2, 'violenta': 2, 'etc': 2, 'bury': 2, 'stir': 2, 'wanted': 2, 'famous': 2, 'admiringly': 2, 'liv': 2, 'notorious': 2, 'unclean': 2, 'season': 2, 'affect': 2, 'servants': 2, 'shed': 2, 'ambition': 2, 'capable': 2, 'trick': 2, 'sanctify': 2, 'relics': 2, 'fix': 2, 'evils': 2, 'blown': 2, 'metal': 2, 'sanctified': 2, 'likes': 2, 'pear': 2, 'effects': 2, 'diest': 2, 'uses': 2, 'fated': 2, 'pull': 2, 'designs': 2, 'miss': 2, 'cornets': 2, 'florentines': 2, 'continue': 2, 'vouch': 2, 'approv': 2, 'credence': 2, 'tuscan': 2, 'breathing': 2, 'compos': 2, 'friendship': 2, 'bravest': 2, 'wore': 2, 'awak': 2, 'minute': 2, 'below': 2, 'goers': 2, 'approof': 2, 'plausive': 2, 'oil': 2, 'judgments': 2, 'months': 2, 'endeavours': 2, 'ladyship': 2, 'drives': 2, 'wicked': 2, 'wickedness': 2, 'aweary': 2, 'comforts': 2, 'kisses': 2, 'puritan': 2, 'horns': 2, 'ballad': 2, 'sighed': 2, 'sentence': 2, 'lottery': 2, 'bequeath': 2, 'stranger': 2, 'extend': 2, 'assault': 2, 'speedily': 2, 'happen': 2, 'concerns': 2, 'balance': 2, 'misdoubt': 2, 'methought': 2, 'start': 2, 'strives': 2, 'suspected': 2, 'passions': 2, 'hurts': 2, 'waters': 2, 'chastely': 2, 'seeks': 2, 'riddle': 2, 'intent': 2, 'prov': 2, 'reservation': 2, 'legacy': 2, 'malady': 2, 'frenchmen': 2, 'beware': 2, 'attended': 2, 'smock': 2, 'dance': 2, 'parting': 2, 'regiment': 2, 'spurio': 2, 'muster': 2, 'kneel': 2, 'grapes': 2, 'seriously': 2, 'deliverance': 2, 'profess': 2, 'chiefly': 2, 'practice': 2, 'bade': 2, 'triple': 2, 'concluded': 2, 'minister': 2, 'babes': 2, 'hop': 2, 'otherwise': 2, 'impossibility': 2, 'happiness': 2, 'unpitied': 2, 'resolv': 2, 'tended': 2, 'leg': 2, 'barber': 2, 'tom': 2, 'hole': 2, 'wrangling': 2, 'friar': 2, 'homely': 2, 'warrant': 2, 'persons': 2, 'submit': 2, 'shot': 2, 'latter': 2, 'bestowing': 2, 'restor': 2, 'whisper': 2, 'shuns': 2, 'eunuchs': 2, 'afraid': 2, 'wine': 2, 'ass': 2, 'dislik': 2, 'swell': 2, 'immediate': 2, 'honours': 2, 'debauch': 2, 'scornful': 2, 'obedient': 2, 'perform': 2, 'recantation': 2, 'understood': 2, 'satisfy': 2, 'scarfs': 2, 'vessel': 2, 'smack': 2, 'bondage': 2, 'filthy': 2, 'convenience': 2, 'vagabond': 2, 'traveller': 2, 'forfeited': 2, 'cares': 2, 'sweetheart': 2, 'sustain': 2, 'steed': 2, 'jades': 2, 'italian': 2, 'noise': 2, 'compell': 2, 'restraint': 2, 'strew': 2, 'proceeding': 2, 'probable': 2, 'accordingly': 2, 'dangerous': 2, 'pursue': 2, 'amity': 2, 'tailor': 2, 'dinner': 2, 'deserved': 2, 'spurs': 2, 'observance': 2, 'hie': 2, 'strangers': 2, 'flight': 2, 'council': 2, 'grounds': 2, 'settle': 2, 'places': 2, 'troth': 2, 'pick': 2, 'ling': 2, 'isbels': 2, 'rash': 2, 'getting': 2, 'hourly': 2, 'courtesies': 2, 'drive': 2, 'fan': 2, 'promising': 2, 'rinaldo': 2, 'prevented': 2, 'convenient': 2, 'led': 2, 'tucket': 2, 'slew': 2, 'earl': 2, 'tokens': 2, 'terrible': 2, 'succession': 2, 'twigs': 2, 'le': 2, 'grand': 2, 'troops': 2, 'hears': 2, 'shrewd': 2, 'pleas': 2, 'unlawful': 2, 'handsome': 2, 'shrewdly': 2, 'direct': 2, 'malice': 2, 'confidently': 2, 'hoodwink': 2, 'carried': 2, 'sticks': 2, 'disposition': 2, 'rend': 2, 'condemn': 2, 'mystery': 2, 'instrument': 2, 'subscribe': 2, 'fish': 2, 'disguise': 2, 'caught': 2, 'businesses': 2, 'borrow': 2, 'approves': 2, 'purse': 2, 'repented': 2, 'instruct': 2, 'persever': 2, 'hedge': 2, 'beguile': 2, 'possible': 2, 'hardly': 2, 'thirty': 2, 'alarum': 2, 'discover': 2, 'secrets': 2, 'purposes': 2, 'muffled': 2, 'safely': 2, 'opinion': 2, 'obloquy': 2, 'chastity': 2, 'renown': 2, 'rebellion': 2, 'treasons': 2, 'erflows': 2, 'damnable': 2, 'apace': 2, 'meantime': 2, 'overture': 2, 'altogether': 2, 'became': 2, 'needful': 2, 'abstract': 2, 'convoy': 2, 'departure': 2, 'hereafter': 2, 'wench': 2, 'keeping': 2, 'expertness': 2, 'pocket': 2, 'scores': 2, 'description': 2, 'files': 2, 'cardecue': 2, 'drums': 2, 'impudent': 2, 'burst': 2, 'braggart': 2, 'herb': 2, 'sallet': 2, 'herbs': 2, 'alias': 2, 'happily': 2, 'belike': 2, 'delicate': 2, 'exceeding': 2, 'muddied': 2, 'henceforth': 2, 'inquire': 2, 'hail': 2, 'prais': 2, 'strikes': 2, 'trivial': 2, 'digested': 2, 'wrapp': 2, 'fully': 2, 'tinct': 2, 'med': 2, 'cine': 2, 'proofs': 2, 'capilet': 2, 'heavens': 2, 'suitors': 2, 'wives': 2, 'spots': 2, 'market': 2, 'evidence': 2, 'epilogue': 2, 'philo': 2, 'dotage': 2, 'glow': 2, 'belov': 2, 'admir': 2, 'streets': 2, 'demetrius': 2, 'antonius': 2, 'absolute': 2, 'foresee': 2, 'drinking': 2, 'octavius': 2, 'sheets': 2, 'palm': 2, 'nilus': 2, 'inch': 2, 'prayer': 2, 'egyptian': 2, 'harms': 2, 'r': 2, 'sextus': 2, 'pompeius': 2, 'newly': 2, 'garboils': 2, 'ptolemy': 2, 'partners': 2, 'vacancy': 2, 'stale': 2, 'wounds': 2, 'gap': 2, 'eunuch': 2, 'venus': 2, 'mov': 2, 'fronted': 2, 'mount': 2, 'matters': 2, 'ventidius': 2, 'article': 2, 'worthily': 2, 'brothers': 2, 'tales': 2, 'barge': 2, 'ascend': 1, 'swelling': 1, 'harry': 1, 'assume': 1, 'leash': 1, 'crouch': 1, 'gentles': 1, 'flat': 1, 'unraised': 1, 'dared': 1, 'scaffold': 1, 'cockpit': 1, 'vasty': 1, 'cram': 1, 'wooden': 1, 'casques': 1, 'affright': 1, 'agincourt': 1, 'attest': 1, 'ciphers': 1, 'accompt': 1, 'girdle': 1, 'monarchies': 1, 'upreared': 1, 'abutting': 1, 'fronts': 1, 'perilous': 1, 'asunder': 1, 'imperfections': 1, 'puissance': 1, 'printing': 1, 'hoofs': 1, 'deck': 1, 'jumping': 1, 'turning': 1, 'accomplishment': 1, 'supply': 1, 'chorus': 1, 'prologue': 1, 'judge': 1, 'london': 1, 'ante': 1, 'eleventh': 1, 'scambling': 1, 'unquiet': 1, 'push': 1, 'resist': 1, 'temporal': 1, 'lands': 1, 'devout': 1, 'strip': 1, 'earls': 1, 'esquires': 1, 'lazars': 1, 'indigent': 1, 'almshouses': 1, 'supplied': 1, 'coffers': 1, 'pounds': 1, 'prevention': 1, 'promised': 1, 'mortified': 1, 'consideration': 1, 'offending': 1, 'adam': 1, 'leaving': 1, 'envelop': 1, 'scholar': 1, 'reformation': 1, 'flood': 1, 'heady': 1, 'currance': 1, 'scouring': 1, 'hydra': 1, 'headed': 1, 'divinity': 1, 'prelate': 1, 'gordian': 1, 'unloose': 1, 'lurketh': 1, 'sentences': 1, 'practic': 1, 'glean': 1, 'addiction': 1, 'companies': 1, 'unletter': 1, 'riots': 1, 'banquets': 1, 'sports': 1, 'retirement': 1, 'sequestration': 1, 'haunts': 1, 'popularity': 1, 'strawberry': 1, 'underneath': 1, 'nettle': 1, 'wholesome': 1, 'berries': 1, 'ripen': 1, 'obscured': 1, 'contemplation': 1, 'fastest': 1, 'crescive': 1, 'ceased': 1, 'perfected': 1, 'mitigation': 1, 'commons': 1, 'incline': 1, 'indifferent': 1, 'swaying': 1, 'cherishing': 1, 'exhibiters': 1, 'spiritual': 1, 'convocation': 1, 'causes': 1, 'touching': 1, 'predecessors': 1, 'severals': 1, 'unhidden': 1, 'passages': 1, 'craved': 1, 'ready': 1, 'declare': 1, 'gloucester': 1, 'bedford': 1, 'warwick': 1, 'concerning': 1, 'religiously': 1, 'faithful': 1, 'wrest': 1, 'nicely': 1, 'understanding': 1, 'miscreate': 1, 'suits': 1, 'approbation': 1, 'reverence': 1, 'incite': 1, 'impawn': 1, 'guiltless': 1, 'conjuration': 1, 'baptism': 1, 'peers': 1, 'terram': 1, 'salicam': 1, 'mulieres': 1, 'succedant': 1, 'gloze': 1, 'authors': 1, 'affirm': 1, 'dishonest': 1, 'establish': 1, 'inheritrix': 1, 'meisen': 1, 'possess': 1, 'defunction': 1, 'redemption': 1, 'deposed': 1, 'childeric': 1, 'descended': 1, 'blithild': 1, 'clothair': 1, 'usurped': 1, 'male': 1, 'stock': 1, 'naught': 1, 'lingare': 1, 'usurper': 1, 'satisfied': 1, 'isabel': 1, 'grandmother': 1, 'lineal': 1, 'ermengare': 1, 'foresaid': 1, 'united': 1, 'howbeit': 1, 'claiming': 1, 'net': 1, 'amply': 1, 'imbar': 1, 'usurp': 1, 'progenitors': 1, 'descend': 1, 'unwind': 1, 'grandsire': 1, 'invoke': 1, 'tragedy': 1, 'hill': 1, 'whelp': 1, 'forage': 1, 'feats': 1, 'renowned': 1, 'exploits': 1, 'enterprises': 1, 'expect': 1, 'lions': 1, 'loyal': 1, 'spiritualty': 1, 'raise': 1, 'invade': 1, 'road': 1, 'advantages': 1, 'marches': 1, 'wall': 1, 'sufficient': 1, 'inland': 1, 'pilfering': 1, 'borderers': 1, 'coursing': 1, 'snatchers': 1, 'intendment': 1, 'giddy': 1, 'unfurnish': 1, 'pouring': 1, 'galling': 1, 'gleaned': 1, 'assays': 1, 'girding': 1, 'grievous': 1, 'towns': 1, 'empty': 1, 'trembled': 1, 'neighbourhood': 1, 'exampled': 1, 'chivalry': 1, 'defended': 1, 'impounded': 1, 'stray': 1, 'scots': 1, 'prisoner': 1, 'ooze': 1, 'sunken': 1, 'sunless': 1, 'treasuries': 1, 'scotland': 1, 'unguarded': 1, 'weasel': 1, 'sneaking': 1, 'sucks': 1, 'princely': 1, 'eggs': 1, 'playing': 1, 'mouse': 1, 'havoc': 1, 'locks': 1, 'safeguard': 1, 'necessaries': 1, 'traps': 1, 'thieves': 1, 'defends': 1, 'government': 1, 'congreeing': 1, 'functions': 1, 'endeavour': 1, 'obedience': 1, 'bees': 1, 'peopled': 1, 'magistrates': 1, 'merchants': 1, 'trade': 1, 'pillage': 1, 'busied': 1, 'surveys': 1, 'singing': 1, 'masons': 1, 'roofs': 1, 'kneading': 1, 'mechanic': 1, 'porters': 1, 'crowding': 1, 'burdens': 1, 'hum': 1, 'executors': 1, 'lazy': 1, 'yawning': 1, 'drone': 1, 'infer': 1, 'contrariously': 1, 'arrows': 1, 'loosed': 1, 'town': 1, 'actions': 1, 'afoot': 1, 'gallia': 1, 'worried': 1, 'hardiness': 1, 'sinews': 1, 'awe': 1, 'ruling': 1, 'empery': 1, 'urn': 1, 'tombless': 1, 'turkish': 1, 'tongueless': 1, 'worshipp': 1, 'waxen': 1, 'prepared': 1, 'sparingly': 1, 'wretches': 1, 'fetter': 1, 'prisons': 1, 'uncurbed': 1, 'plainness': 1, 'predecessor': 1, 'galliard': 1, 'meeter': 1, 'lieu': 1, 'tennis': 1, 'rackets': 1, 'wrangler': 1, 'courts': 1, 'disturb': 1, 'chaces': 1, 'wilder': 1, 'measuring': 1, 'ourself': 1, 'barbarous': 1, 'merriest': 1, 'plodded': 1, 'working': 1, 'dazzle': 1, 'gun': 1, 'vengeance': 1, 'widows': 1, 'husbands': 1, 'ungotten': 1, 'unborn': 1, 'venge': 1, 'rightful': 1, 'hallow': 1, 'thousands': 1, 'omit': 1, 'furtherance': 1, 'expedition': 1, 'reasonable': 1, 'swiftness': 1, 'consum': 1, 'issueless': 1, 'hap': 1, 'makeless': 1, 'unthrift': 1, 'shifts': 1, 'enjoys': 1, 'user': 1, 'destroys': 1, '10': 1, 'unprovident': 1, 'evident': 1, 'stick': 1, 'conspire': 1, 'seeking': 1, 'roof': 1, 'ruinate': 1, 'lodged': 1, 'hearted': 1, '11': 1, 'wane': 1, 'departest': 1, 'youngly': 1, 'convertest': 1, 'herein': 1, 'minded': 1, 'threescore': 1, 'featureless': 1, 'barrenly': 1, 'perish': 1, 'endowed': 1, 'bounteous': 1, 'carved': 1, 'thereby': 1, 'print': 1, '12': 1, 'sunk': 1, 'sable': 1, 'silvered': 1, 'erst': 1, 'girded': 1, 'sheaves': 1, 'bier': 1, 'bristly': 1, '13': 1, 'semblance': 1, 'determination': 1, 'lets': 1, 'husbandry': 1, 'uphold': 1, 'stormy': 1, 'gusts': 1, 'unthrifts': 1, '14': 1, 'astronomy': 1, 'dearths': 1, 'thunder': 1, 'predict': 1, 'convert': 1, 'prognosticate': 1, '15': 1, 'presenteth': 1, 'secret': 1, 'plants': 1, 'cheered': 1, 'checked': 1, 'vaunt': 1, 'sap': 1, 'decrease': 1, 'debateth': 1, 'sullied': 1, 'engraft': 1, '16': 1, 'mightier': 1, 'gardens': 1, 'unset': 1, 'liker': 1, 'pupil': 1, '17': 1, 'hides': 1, 'touched': 1, 'papers': 1, 'yellowed': 1, 'scorned': 1, 'termed': 1, 'stretched': 1, 'metre': 1, '18': 1, 'temperate': 1, 'dimmed': 1, 'declines': 1, 'chance': 1, 'untrimmed': 1, 'brag': 1, '19': 1, 'devouring': 1, 'paws': 1, 'devour': 1, 'brood': 1, 'tiger': 1, 'jaws': 1, 'fleet': 1, 'footed': 1, 'heinous': 1, 'carve': 1, 'untainted': 1, '20': 1, 'shifting': 1, 'rolling': 1, 'whereupon': 1, 'gazeth': 1, 'hues': 1, 'amazeth': 1, 'defeated': 1, 'adding': 1, 'pricked': 1, '21': 1, 'stirred': 1, 'couplement': 1, 'gems': 1, 'rondure': 1, 'hems': 1, 'candles': 1, 'hearsay': 1, '22': 1, 'persuade': 1, 'furrows': 1, 'expiate': 1, 'seemly': 1, 'raiment': 1, 'elder': 1, 'wary': 1, 'chary': 1, 'nurse': 1, 'faring': 1, '23': 1, 'unperfect': 1, 'weakens': 1, 'ercharged': 1, 'eloquence': 1, 'presagers': 1, '24': 1, 'stelled': 1, 'pictured': 1, 'shop': 1, 'hanging': 1, 'glazed': 1, '25': 1, 'unlooked': 1, 'favourites': 1, 'spread': 1, 'marigold': 1, 'painful': 1, 'warrior': 1, 'famoused': 1, 'victories': 1, 'foiled': 1, 'toiled': 1, '26': 1, 'vassalage': 1, 'embassage': 1, 'naked': 1, 'whatsoever': 1, 'guides': 1, 'graciously': 1, 'tattered': 1, '27': 1, 'respose': 1, 'expired': 1, 'drooping': 1, 'presents': 1, 'ghastly': 1, '28': 1, 'plight': 1, 'debarred': 1, 'oppression': 1, 'eased': 1, 'complain': 1, 'swart': 1, 'complexioned': 1, 'sparkling': 1, 'twire': 1, 'gild': 1, '29': 1, 'beweep': 1, 'outcast': 1, 'trouble': 1, 'bootless': 1, 'fate': 1, 'featured': 1, 'desiring': 1, 'enjoy': 1, 'despising': 1, 'arising': 1, '30': 1, 'sessions': 1, 'summon': 1, 'sigh': 1, 'woes': 1, 'afresh': 1, 'cancelled': 1, 'grieve': 1, 'grievances': 1, 'bemoaned': 1, 'restored': 1, '31': 1, 'endeared': 1, 'lacking': 1, 'reigns': 1, 'hidden': 1, 'trophies': 1, 'images': 1, '32': 1, 'churl': 1, 'bett': 1, 'outstripped': 1, 'exceeded': 1, 'happier': 1, 'equipage': 1, '33': 1, 'glorious': 1, 'tops': 1, 'kissing': 1, 'meadows': 1, 'permit': 1, 'ugly': 1, 'rack': 1, 'forlorn': 1, 'splendour': 1, 'region': 1, 'whit': 1, 'disdaineth': 1, 'suns': 1, 'staineth': 1, '34': 1, 'cloak': 1, 'ertake': 1, 'brav': 1, 'dry': 1, 'storm': 1, 'heals': 1, 'cures': 1, 'sheds': 1, '35': 1, 'grieved': 1, 'fountains': 1, 'mud': 1, 'loathsome': 1, 'bud': 1, 'authorizing': 1, 'corrupting': 1, 'salving': 1, 'excusing': 1, 'party': 1, 'advocate': 1, 'commence': 1, '36': 1, 'undivided': 1, 'blots': 1, 'separable': 1, 'alter': 1, 'bewailed': 1, 'guilt': 1, '37': 1, 'decrepit': 1, 'active': 1, 'entitled': 1, 'engrafted': 1, 'sufficed': 1, '38': 1, 'perusal': 1, 'rhymers': 1, 'invocate': 1, '39': 1, '40': 1, 'receivest': 1, 'usest': 1, 'deceivest': 1, 'refusest': 1, 'spites': 1, '41': 1, 'prevailed': 1, 'straying': 1, 'riot': 1, 'forced': 1, 'twofold': 1, 'tempting': 1, '42': 1, 'wailing': 1, 'offenders': 1, 'suff': 1, '43': 1, 'directed': 1, 'unseeing': 1, 'imperfect': 1, '44': 1, 'limits': 1, 'remote': 1, 'jump': 1, 'kills': 1, 'lengths': 1, 'badges': 1, '45': 1, 'purging': 1, 'wherever': 1, 'slide': 1, 'quicker': 1, 'sinks': 1, 'recured': 1, 'returned': 1, 'recounting': 1, '46': 1, 'closet': 1, 'pierced': 1, 'crystal': 1, 'defendant': 1, 'appearance': 1, 'impanelled': 1, 'tenants': 1, 'verdict': 1, 'determined': 1, '47': 1, 'league': 1, 'famished': 1, 'smother': 1, 'awakes': 1, '48': 1, 'truest': 1, 'wards': 1, 'closure': 1, '49': 1, 'scarcely': 1, 'converted': 1, 'gravity': 1, 'ensconce': 1, 'uprear': 1, 'laws': 1, 'allege': 1, '50': 1, 'repose': 1, 'measured': 1, 'plods': 1, 'dully': 1, 'instinct': 1, 'rider': 1, 'provoke': 1, 'thrusts': 1, 'spurring': 1, 'onward': 1, '51': 1, 'bearer': 1, 'extremity': 1, 'mounted': 1, 'winged': 1, 'jade': 1, '52': 1, 'blunting': 1, 'thinly': 1, 'placed': 1, 'carcanet': 1, 'wardrobe': 1, 'robe': 1, 'unfolding': 1, '53': 1, 'millions': 1, 'describe': 1, 'adonis': 1, 'poorly': 1, 'imitated': 1, 'grecian': 1, 'tires': 1, 'foison': 1, 'external': 1, '54': 1, 'blooms': 1, 'dye': 1, 'tincture': 1, 'wantonly': 1, 'discloses': 1, 'unwooed': 1, 'odours': 1, 'vade': 1, 'distills': 1, '55': 1, 'marble': 1, 'monuments': 1, 'unswept': 1, 'besmeared': 1, 'statues': 1, 'overturn': 1, 'broils': 1, 'oblivious': 1, 'enmity': 1, 'posterity': 1, 'ending': 1, 'arise': 1, '56': 1, 'blunter': 1, 'allayed': 1, 'sharpened': 1, 'dulness': 1, 'interim': 1, 'banks': 1, 'wished': 1, '57': 1, 'require': 1, 'jealous': 1, '58': 1, 'crave': 1, 'beck': 1, 'sufferance': 1, 'accusing': 1, 'privilage': 1, '59': 1, 'beguiled': 1, 'amis': 1, 'composed': 1, 'mended': 1, '60': 1, 'waves': 1, 'pebbled': 1, 'forwards': 1, 'nativity': 1, 'crawls': 1, 'maturity': 1, 'wherewith': 1, 'transfix': 1, 'delves': 1, 'rarities': 1, 'mow': 1, '61': 1, 'slumbers': 1, 'pry': 1, 'tenure': 1, 'jealousy': 1, 'watchman': 1, 'wake': 1, '62': 1, 'possesseth': 1, 'define': 1, 'worths': 1, 'surmount': 1, 'beated': 1, 'chopt': 1, 'tanned': 1, 'iniquity': 1, '63': 1, 'crushed': 1, 'erworn': 1, 'drained': 1, 'travelled': 1, 'steepy': 1, 'vanishing': 1, 'confounding': 1, '64': 1, 'defaced': 1, 'towers': 1, 'rased': 1, 'watery': 1, 'interchange': 1, 'confounded': 1, 'ruin': 1, 'ruminate': 1, '65': 1, 'boundless': 1, 'ersways': 1, 'wrackful': 1, 'batt': 1, 'rocks': 1, 'impregnable': 1, 'stout': 1, 'gates': 1, 'meditation': 1, 'miracle': 1, '66': 1, 'restful': 1, 'needy': 1, 'trimmed': 1, 'jollity': 1, 'purest': 1, 'unhappily': 1, 'shamefully': 1, 'misplaced': 1, 'rudely': 1, 'strumpeted': 1, 'wrongfully': 1, 'disgraced': 1, 'limping': 1, 'disabled': 1, 'miscalled': 1, 'simplicity': 1, '67': 1, 'impiety': 1, 'achieve': 1, 'society': 1, 'imitate': 1, 'indirectly': 1, 'bankrupt': 1, 'beggared': 1, 'exchequer': 1, 'gains': 1, 'stores': 1, '68': 1, 'signs': 1, 'inhabit': 1, 'tresses': 1, 'sepulchres': 1, 'shorn': 1, 'fleece': 1, 'robbing': 1, 'yore': 1, '69': 1, 'uttering': 1, 'accents': 1, 'churls': 1, 'matcheth': 1, '70': 1, 'wooed': 1, 'unstained': 1, 'victor': 1, 'enlarged': 1, '71': 1, 'bell': 1, 'warning': 1, 'perhaps': 1, 'compounded': 1, '72': 1, 'recite': 1, 'niggard': 1, 'willingly': 1, 'impart': 1, 'shamed': 1, '73': 1, 'boughs': 1, 'choirs': 1, 'sang': 1, 'twilight': 1, 'sunset': 1, 'fadeth': 1, 'seals': 1, 'glowing': 1, 'ashes': 1, 'nourished': 1, 'perceiv': 1, '74': 1, 'arrest': 1, 'memorial': 1, 'reviewest': 1, 'review': 1, 'consecrate': 1, 'dregs': 1, 'contains': 1, '75': 1, 'food': 1, 'seasoned': 1, 'miser': 1, 'enjoyer': 1, 'filching': 1, 'bettered': 1, 'feasting': 1, 'starved': 1, 'pursuing': 1, 'gluttoning': 1, '76': 1, 'variation': 1, 'methods': 1, 'dressing': 1, '77': 1, 'vacant': 1, 'imprint': 1, 'mouthed': 1, 'graves': 1, 'shady': 1, 'stealth': 1, 'blanks': 1, 'nursed': 1, 'delivered': 1, 'offices': 1, 'enrich': 1, '78': 1, 'invoked': 1, 'assistance': 1, 'alien': 1, 'poesy': 1, 'disperse': 1, 'aloft': 1, 'compile': 1, 'arts': 1, 'graced': 1, 'advance': 1, '79': 1, 'travail': 1, 'worthier': 1, 'behaviour': 1, '80': 1, 'thereof': 1, 'spends': 1, 'proudest': 1, 'wilfully': 1, 'shallowest': 1, 'afloat': 1, 'soundless': 1, 'wrecked': 1, 'boat': 1, 'tall': 1, '81': 1, 'entombed': 1, 'breathers': 1, 'breathes': 1, 'mouths': 1, '82': 1, 'attaint': 1, 'erlook': 1, 'dedicated': 1, 'enforced': 1, 'stamp': 1, 'bettering': 1, 'strained': 1, 'rhetoric': 1, 'sympathized': 1, 'abused': 1, '83': 1, 'exceed': 1, 'debt': 1, 'slept': 1, 'extant': 1, 'impute': 1, 'impair': 1, '84': 1, 'confine': 1, 'immured': 1, 'lean': 1, 'penury': 1, 'dignifies': 1, 'counterpart': 1, 'admired': 1, '85': 1, 'compiled': 1, 'muses': 1, 'filed': 1, 'unlettered': 1, 'clerk': 1, 'hymn': 1, 'polished': 1, 'refined': 1, 'hindmost': 1, '86': 1, 'inhearse': 1, 'pitch': 1, 'compeers': 1, 'astonished': 1, 'affable': 1, 'ghost': 1, 'gulls': 1, 'victors': 1, 'enfeebled': 1, '87': 1, 'releasing': 1, 'determinate': 1, 'granting': 1, 'swerving': 1, 'mistaking': 1, '88': 1, 'disposed': 1, 'concealed': 1, 'attainted': 1, 'gainer': 1, '89': 1, 'lameness': 1, 'halt': 1, 'strangle': 1, 'profane': 1, 'wronk': 1, '90': 1, 'scaped': 1, 'rearward': 1, 'conquered': 1, 'windy': 1, 'rainy': 1, 'linger': 1, 'purposed': 1, 'overthrow': 1, 'onset': 1, 'strains': 1, 'compared': 1, '91': 1, 'fangled': 1, 'prouder': 1, 'costs': 1, 'wretchcd': 1, '92': 1, 'term': 1, 'depend': 1, '93': 1, 'hatred': 1, 'moods': 1, 'frowns': 1, 'decree': 1, 'workings': 1, 'eve': 1, 'apple': 1, '94': 1, 'unmoved': 1, 'tibey': 1, 'owners': 1, 'stewards': 1, 'outbraves': 1, 'lilies': 1, 'fester': 1, '95': 1, 'fragrant': 1, 'spot': 1, 'budding': 1, 'enclose': 1, 'dispraise': 1, 'blesses': 1, 'vices': 1, 'habitation': 1, 'chose': 1, 'hardest': 1, '96': 1, 'wantonness': 1, 'resort': 1, 'translated': 1, 'lambs': 1, 'wolf': 1, 'lamb': 1, 'translate': 1, 'gazers': 1, '97': 1, 'freezings': 1, 'december': 1, 'teeming': 1, 'widowed': 1, 'wombs': 1, 'abundant': 1, 'orphans': 1, 'pleasures': 1, 'dreading': 1, '98': 1, 'pied': 1, 'dressed': 1, 'trim': 1, 'saturn': 1, 'laughed': 1, 'leaped': 1, 'different': 1, 'vermilion': 1, 'figures': 1, '99': 1, 'smells': 1, 'dwells': 1, 'condemned': 1, 'fearfully': 1, 'annexed': 1, 'vengeful': 1, '100': 1, 'fury': 1, 'darkening': 1, 'forgetful': 1, 'redeem': 1, 'resty': 1, 'wrinkle': 1, 'graven': 1, 'satire': 1, 'spoils': 1, '101': 1, 'truant': 1, 'amends': 1, 'intermixed': 1, 'ages': 1, '102': 1, 'strengthened': 1, 'merchandized': 1, 'esteeming': 1, 'wont': 1, 'philomel': 1, 'stops': 1, 'pipe': 1, 'riper': 1, 'mournful': 1, 'burthens': 1, 'bough': 1, '103': 1, 'dulling': 1, 'striving': 1, 'mar': 1, 'verses': 1, '104': 1, 'winters': 1, 'forests': 1, 'summers': 1, 'springs': 1, 'junes': 1, 'burned': 1, 'unbred': 1, '105': 1, 'idolatry': 1, 'idol': 1, 'expressing': 1, 'themes': 1, '106': 1, 'wasted': 1, 'descriptions': 1, 'wights': 1, 'beautiful': 1, 'blazon': 1, 'prophecies': 1, 'prefiguring': 1, 'divining': 1, '107': 1, 'prophetic': 1, 'dreaming': 1, 'eclipse': 1, 'endured': 1, 'augurs': 1, 'presage': 1, 'incertainties': 1, 'proclaims': 1, 'olives': 1, 'balmy': 1, 'subscribes': 1, 'insults': 1, 'speechless': 1, 'tribes': 1, 'tyrants': 1, 'crests': 1, 'tombs': 1, '108': 1, 'figured': 1, 'register': 1, 'hallowed': 1, 'necessary': 1, 'aye': 1, '109': 1, 'qualify': 1, 'depart': 1, 'ranged': 1, 'travels': 1, 'exchanged': 1, 'reigned': 1, 'kinds': 1, 'preposterously': 1, 'stained': 1, 'universe': 1, '110': 1, 'motley': 1, 'gored': 1, 'cheap': 1, 'askance': 1, 'blenches': 1, 'essays': 1, 'grind': 1, 'older': 1, '111': 1, 'harmful': 1, 'dyer': 1, 'renewed': 1, 'willing': 1, 'eisel': 1, 'penance': 1, 'correction': 1, '112': 1, 'scandal': 1, 'stamped': 1, 'steeled': 1, 'changes': 1, 'profound': 1, 'abysm': 1, 'voices': 1, 'adder': 1, 'critic': 1, 'flatterer': 1, 'stopped': 1, 'dispense': 1, '113': 1, 'governs': 1, 'function': 1, 'partly': 1, 'effectually': 1, 'bird': 1, 'latch': 1, 'vision': 1, 'rud': 1, 'gentlest': 1, 'deformed': 1, 'dove': 1, 'shapes': 1, 'feature': 1, 'incapable': 1, 'maketh': 1, '114': 1, 'saith': 1, 'indigest': 1, 'cherubins': 1, 'resemble': 1, 'gust': 1, 'greeing': 1, '115': 1, 'afterwards': 1, 'reckoning': 1, 'millioned': 1, 'accidents': 1, 'creep': 1, 'tan': 1, 'divert': 1, 'alt': 1, 'incertainty': 1, 'crowning': 1, '116': 1, 'alteration': 1, 'remover': 1, 'rosy': 1, 'sickle': 1, 'compass': 1, 'weeks': 1, '117': 1, 'scanted': 1, 'repay': 1, 'frequent': 1, 'purchased': 1, 'hoisted': 1, 'transport': 1, 'surmise': 1, 'accumulate': 1, 'wakened': 1, '118': 1, 'eager': 1, 'sicken': 1, 'cloying': 1, 'sauces': 1, 'welfare': 1, 'meetness': 1, 'diseased': 1, 'needing': 1, 'anticipate': 1, 'cured': 1, 'lesson': 1, 'drugs': 1, 'feil': 1, '119': 1, 'siren': 1, 'distilled': 1, 'limbecks': 1, 'applying': 1, 'committed': 1, 'spheres': 1, 'fitted': 1, 'distraction': 1, 'rebuked': 1, '120': 1, 'befriends': 1, 'transgression': 1, 'nerves': 1, 'hammered': 1, 'suffered': 1, 'deepest': 1, 'tendered': 1, 'wounded': 1, 'bosoms': 1, 'ransoms': 1, '121': 1, 'reproach': 1, 'adulterate': 1, 'salutation': 1, 'frailer': 1, 'spies': 1, 'abuses': 1, 'bevel': 1, 'badness': 1, '122': 1, 'charactered': 1, 'lasting': 1, 'subsist': 1, 'missed': 1, 'retention': 1, 'tallies': 1, 'forgetfulness': 1, '123': 1, 'pyramids': 1, 'novel': 1, 'dressings': 1, 'dates': 1, 'admire': 1, 'foist': 1, 'registers': 1, 'records': 1, '124': 1, 'gathered': 1, 'builded': 1, 'accident': 1, 'suffers': 1, 'thralled': 1, 'inviting': 1, 'heretic': 1, 'leases': 1, 'numbered': 1, 'hugely': 1, 'drowns': 1, 'fools': 1, '125': 1, 'extern': 1, 'honouring': 1, 'bases': 1, 'ruining': 1, 'dwellers': 1, 'paying': 1, 'rent': 1, 'compound': 1, 'forgoing': 1, 'thrivers': 1, 'gazing': 1, 'oblation': 1, 'mixed': 1, 'seconds': 1, 'suborned': 1, 'informer': 1, 'impeached': 1, '126': 1, 'waning': 1, 'withering': 1, 'wrack': 1, 'goest': 1, 'onwards': 1, 'minion': 1, 'delayed': 1, 'answered': 1, 'quietus': 1, '127': 1, 'counted': 1, 'successive': 1, 'slandered': 1, 'fairing': 1, 'bower': 1, 'raven': 1, 'slandering': 1, '128': 1, 'sounds': 1, 'wiry': 1, 'confounds': 1, 'harvest': 1, 'tickled': 1, 'situation': 1, 'chips': 1, '129': 1, 'savage': 1, 'enjoyed': 1, 'hunted': 1, 'swallowed': 1, 'bait': 1, 'taker': 1, 'proposed': 1, '130': 1, 'coral': 1, 'breasts': 1, 'dun': 1, 'hairs': 1, 'damasked': 1, 'reeks': 1, 'pleasing': 1, 'treads': 1, '131': 1, 'tyrannous': 1, 'proudly': 1, 'neck': 1, '132': 1, 'pitying': 1, 'ruth': 1, 'grey': 1, 'ushers': 1, 'sober': 1, 'beseem': 1, '133': 1, 'beshrew': 1, 'slavery': 1, 'harder': 1, 'engrossed': 1, 'forsaken': 1, 'fold': 1, 'crossed': 1, 'whoe': 1, 'rigour': 1, 'gaol': 1, 'pent': 1, 'perforce': 1, '134': 1, 'confessed': 1, 'mortgaged': 1, 'restore': 1, 'covetous': 1, 'fist': 1, 'statute': 1, 'usurer': 1, 'debtor': 1, '135': 1, 'plus': 1, 'addeth': 1, 'beseechers': 1, '136': 1, 'reckoned': 1, 'untold': 1, '137': 1, 'partial': 1, 'anchored': 1, 'forged': 1, 'hooks': 1, 'erred': 1, 'transferred': 1, '138': 1, 'untutored': 1, 'subtleties': 1, 'suppressed': 1, 'habit': 1, 'flattered': 1, '139': 1, 'justify': 1, 'erpressed': 1, 'dart': 1, 'outright': 1, 'rid': 1, '140': 1, 'press': 1, 'testy': 1, 'wresting': 1, 'slanderers': 1, '141': 1, 'pleased': 1, 'cars': 1, 'delighted': 1, 'prone': 1, 'unswayed': 1, 'likeness': 1, 'awards': 1, '142': 1, 'reproving': 1, 'scarlet': 1, 'ornaments': 1, 'sealed': 1, 'robbed': 1, 'beds': 1, 'revenues': 1, 'rents': 1, 'importune': 1, '143': 1, 'huswife': 1, 'feathered': 1, 'busy': 1, 'prizing': 1, 'infant': 1, '144': 1, 'coloured': 1, 'tempteth': 1, 'purity': 1, 'directly': 1, '145': 1, 'breathed': 1, 'languished': 1, 'woeful': 1, 'chiding': 1, '146': 1, 'array': 1, 'dearth': 1, 'costly': 1, 'inheritors': 1, 'aggravate': 1, 'selling': 1, 'dross': 1, '147': 1, 'nurseth': 1, 'frantic': 1, 'unrest': 1, 'random': 1, '148': 1, 'correspondence': 1, 'censures': 1, 'aright': 1, 'denote': 1, 'vexed': 1, 'watching': 1, 'clears': 1, '149': 1, 'partake': 1, 'hateth': 1, 'fawn': 1, 'lour': 1, '150': 1, 'insufficiency': 1, 'brightness': 1, 'refuse': 1, 'warrantise': 1, 'exceeds': 1, 'raised': 1, '151': 1, 'cheater': 1, 'betraying': 1, 'rising': 1, '152': 1, 'torn': 1, 'vowing': 1, 'misuse': 1, 'enlighten': 1, 'blindness': 1, '153': 1, 'kindling': 1, 'steep': 1, 'valley': 1, 'fountain': 1, 'seeting': 1, 'fired': 1, 'hied': 1, '154': 1, 'inflaming': 1, 'nymphs': 1, 'vowed': 1, 'tripping': 1, 'votary': 1, 'legions': 1, 'warmed': 1, 'disarmed': 1, 'quenched': 1, 'discased': 1, 'thrall': 1, 'heats': 1, 'cools': 1, '1603': 1, 'alls': 1, 'dramatis': 1, 'personae': 1, 'follower': 1, 'protected': 1, 'subjection': 1, 'amendment': 1, 'abandon': 1, 'practices': 1, 'persecuted': 1, 'passage': 1, 'mourningly': 1, 'skilful': 1, 'languishes': 1, 'fistula': 1, 'overlooking': 1, 'education': 1, 'dispositions': 1, 'inherits': 1, 'simpleness': 1, 'derives': 1, 'achieves': 1, 'brine': 1, 'livelihood': 1, 'moderate': 1, 'lamentation': 1, 'excessive': 1, 'birthright': 1, 'unseason': 1, 'forg': 1, 'comfortable': 1, 'imagination': 1, 'radiance': 1, 'collateral': 1, 'comforted': 1, 'sphere': 1, 'hind': 1, 'mated': 1, 'arched': 1, 'hawking': 1, 'idolatrous': 1, 'solely': 1, 'steely': 1, 'bleak': 1, 'superfluous': 1, 'meditating': 1, 'barricado': 1, 'assails': 1, 'resistance': 1, 'undermine': 1, 'underminers': 1, 'blowers': 1, 'military': 1, 'quicklier': 1, 'blowing': 1, 'rational': 1, 'infallible': 1, 'disobedience': 1, 'hangs': 1, 'murders': 1, 'highways': 1, 'offendress': 1, 'mites': 1, 'cheese': 1, 'consumes': 1, 'paring': 1, 'peevish': 1, 'inhibited': 1, 'canon': 1, 'principal': 1, 'commodity': 1, 'gloss': 1, 'vendible': 1, 'request': 1, 'unsuitable': 1, 'brooch': 1, 'toothpick': 1, 'pie': 1, 'porridge': 1, 'pears': 1, 'eats': 1, 'drily': 1, 'formerly': 1, 'guide': 1, 'counsellor': 1, 'traitress': 1, 'jarring': 1, 'discord': 1, 'dulcet': 1, 'adoptious': 1, 'christendoms': 1, 'blinking': 1, 'gossips': 1, 'returns': 1, 'charitable': 1, 'predominant': 1, 'retrograde': 1, 'running': 1, 'proposes': 1, 'safety': 1, 'acutely': 1, 'instruction': 1, 'naturalize': 1, 'unthankfulness': 1, 'remedies': 1, 'ascribe': 1, 'mounts': 1, 'mightiest': 1, 'impossible': 1, 'attempts': 1, 'strove': 1, 'senoys': 1, 'braving': 1, 'credible': 1, 'austria': 1, 'caution': 1, 'speedy': 1, 'prejudicates': 1, 'denial': 1, 'amplest': 1, 'nursery': 1, 'gentry': 1, 'moral': 1, 'soundness': 1, 'tried': 1, 'discipled': 1, 'lasted': 1, 'haggish': 1, 'repairs': 1, 'unnoted': 1, 'levity': 1, 'sharpness': 1, 'exception': 1, 'eminent': 1, 'humbled': 1, 'demonstrate': 1, 'scatter': 1, 'grafted': 1, 'began': 1, 'catastrophe': 1, 'pastime': 1, 'lacks': 1, 'snuff': 1, 'apprehensive': 1, 'fathers': 1, 'constancies': 1, 'fashions': 1, 'wax': 1, 'dissolved': 1, 'hive': 1, 'labourers': 1, 'fam': 1, 'applications': 1, 'calendar': 1, 'clearness': 1, 'deservings': 1, 'complaints': 1, 'slowness': 1, 'ability': 1, 'knaveries': 1, 'heritage': 1, 'bames': 1, 'driven': 1, 'spares': 1, 'team': 1, 'crop': 1, 'cherisher': 1, 'cherishes': 1, 'ergo': 1, 'charbon': 1, 'poysam': 1, 'papist': 1, 'howsome': 1, 'sever': 1, 'religion': 1, 'heads': 1, 'jowl': 1, 'deer': 1, 'calumnious': 1, 'prophet': 1, 'repeat': 1, 'destiny': 1, 'cuckoo': 1, 'grecians': 1, 'sacked': 1, 'troy': 1, 'priam': 1, 'purifying': 1, 'tithe': 1, 'parson': 1, 'blazing': 1, 'earthquake': 1, 'surplice': 1, 'gown': 1, 'forsooth': 1, 'entirely': 1, 'lawfully': 1, 'owing': 1, 'communicate': 1, 'estates': 1, 'knight': 1, 'surpris': 1, 'rescue': 1, 'afterward': 1, 'exclaim': 1, 'sithence': 1, 'discharg': 1, 'honestly': 1, 'likelihoods': 1, 'tott': 1, 'stall': 1, 'thorn': 1, 'impress': 1, 'remembrances': 1, 'catalogue': 1, 'enwombed': 1, 'adoption': 1, 'slip': 1, 'foreign': 1, 'seeds': 1, 'oppress': 1, 'curd': 1, 'iris': 1, 'rounds': 1, 'honoured': 1, 'parents': 1, 'shield': 1, 'pulse': 1, 'fondness': 1, 'myst': 1, 'loneliness': 1, 'asham': 1, 'proclamation': 1, 'behaviours': 1, 'hellish': 1, 'obstinacy': 1, 'clew': 1, 'forswear': 1, 'avail': 1, 'disclose': 1, 'affection': 1, 'appeach': 1, 'knee': 1, 'presumptuous': 1, 'captious': 1, 'intenible': 1, 'sieve': 1, 'indian': 1, 'adore': 1, 'worshipper': 1, 'aged': 1, 'cites': 1, 'implies': 1, 'manifest': 1, 'sovereignty': 1, 'heedfull': 1, 'notes': 1, 'faculties': 1, 'inclusive': 1, 'amongst': 1, 'languishings': 1, 'conversation': 1, 'schools': 1, 'embowell': 1, 'doctrine': 1, 'luckiest': 1, 'knowingly': 1, 'greetings': 1, 'principles': 1, 'ent': 1, 'bated': 1, 'monarchy': 1, 'questant': 1, 'shrinks': 1, 'aloud': 1, 'girls': 1, 'captives': 1, 'warnings': 1, 'retires': 1, 'spark': 1, 'admirable': 1, 'coil': 1, 'forehorse': 1, 'creaking': 1, 'shoes': 1, 'tortur': 1, 'heroes': 1, 'kin': 1, 'sparks': 1, 'lustrous': 1, 'metals': 1, 'spinii': 1, 'cicatrice': 1, 'emblem': 1, 'sinister': 1, 'entrench': 1, 'novices': 1, 'restrain': 1, 'expressive': 1, 'dilated': 1, 'sinewy': 1, 'kneeling': 1, 'tidings': 1, 'pate': 1, 'across': 1, 'cur': 1, 'infirmity': 1, 'reach': 1, 'quicken': 1, 'rock': 1, 'canary': 1, 'spritely': 1, 'araise': 1, 'arriv': 1, 'sex': 1, 'amaz': 1, 'admiration': 1, 'prologues': 1, 'traitor': 1, 'cressid': 1, 'receipts': 1, 'safer': 1, 'malignant': 1, 'appliance': 1, 'humbleness': 1, 'credulous': 1, 'doctors': 1, 'congregated': 1, 'inaidable': 1, 'prostitute': 1, 'empirics': 1, 'dissever': 1, 'senseless': 1, 'entreating': 1, 'modest': 1, 'grateful': 1, 'peril': 1, 'finisher': 1, 'weakest': 1, 'judges': 1, 'sources': 1, 'seas': 1, 'dried': 1, 'expectation': 1, 'fails': 1, 'coldest': 1, 'proffers': 1, 'reward': 1, 'inspired': 1, 'barr': 1, 'presumption': 1, 'experiment': 1, 'impostor': 1, 'proclaim': 1, 'confident': 1, 'lending': 1, 'torcher': 1, 'diurnal': 1, 'murk': 1, 'occidental': 1, 'damp': 1, 'moist': 1, 'hesperus': 1, 'quench': 1, 'sleepy': 1, 'lamp': 1, 'pilot': 1, 'infirm': 1, 'confidence': 1, 'dar': 1, 'impudence': 1, 'divulged': 1, 'traduc': 1, 'odious': 1, 'ballads': 1, 'sear': 1, 'organ': 1, 'saves': 1, 'intimate': 1, 'practiser': 1, 'ministers': 1, 'flinch': 1, 'helping': 1, 'sceptre': 1, 'exempted': 1, 'arrogance': 1, 'propagate': 1, 'branch': 1, 'premises': 1, 'observ': 1, 'performance': 1, 'serv': 1, 'rely': 1, 'cam': 1, 'unquestion': 1, 'undoubted': 1, 'highly': 1, 'lowly': 1, 'easily': 1, 'precisely': 1, 'bountiful': 1, 'chair': 1, 'buttocks': 1, 'pin': 1, 'quatch': 1, 'brawn': 1, 'groats': 1, 'attorney': 1, 'taffety': 1, 'punk': 1, 'tib': 1, 'rush': 1, 'forefinger': 1, 'pancake': 1, 'shrove': 1, 'tuesday': 1, 'morris': 1, 'mayday': 1, 'nail': 1, 'horn': 1, 'scolding': 1, 'quean': 1, 'nun': 1, 'pudding': 1, 'skin': 1, 'fitness': 1, 'beneath': 1, 'constable': 1, 'size': 1, 'demands': 1, 'hoping': 1, 'putting': 1, 'meat': 1, 'housewife': 1, 'merrily': 1, 'kinsmen': 1, 'commendation': 1, 'fruitfully': 1, 'legs': 1, 'philosophical': 1, 'supernatural': 1, 'causeless': 1, 'terrors': 1, 'ensconcing': 1, 'rarest': 1, 'relinquish': 1, 'artists': 1, 'galen': 1, 'paracelsus': 1, 'authentic': 1, 'incurable': 1, 'assur': 1, 'novelty': 1, 'dolphin': 1, 'lustier': 1, 'tedious': 1, 'facinerious': 1, 'debile': 1, 'transcendence': 1, 'recov': 1, 'lustig': 1, 'dutchman': 1, 'tooth': 1, 'coranto': 1, 'mort': 1, 'du': 1, 'vinaigre': 1, 'preserver': 1, 'banish': 1, 'repeal': 1, 'confirmation': 1, 'attends': 1, 'parcel': 1, 'bachelors': 1, 'election': 1, 'curtal': 1, 'furniture': 1, 'peruse': 1, 'wealthiest': 1, 'refused': 1, 'altar': 1, 'ames': 1, 'ace': 1, 'flames': 1, 'threat': 1, 'ningly': 1, 'replies': 1, 'turk': 1, 'ice': 1, 'bastards': 1, 'fourth': 1, 'grape': 1, 'fourteen': 1, 'guiding': 1, 'rais': 1, 'raising': 1, 'build': 1, 'bloods': 1, 'differences': 1, 'lowest': 1, 'doer': 1, 'additions': 1, 'dropsied': 1, 'vileness': 1, 'challenges': 1, 'sire': 1, 'trophy': 1, 'create': 1, 'm': 1, 'stake': 1, 'shackle': 1, 'poising': 1, 'defective': 1, 'scale': 1, 'beam': 1, 'plant': 1, 'travails': 1, 'staggers': 1, 'careless': 1, 'lapse': 1, 'loosing': 1, 'dole': 1, 'ennobled': 1, 'counterpoise': 1, 'smile': 1, 'contract': 1, 'expedient': 1, 'expecting': 1, 'commenting': 1, 'wedding': 1, 'counts': 1, 'ordinaries': 1, 'tolerable': 1, 'vent': 1, 'bannerets': 1, 'manifoldly': 1, 'believing': 1, 'rt': 1, 'plunge': 1, 'hen': 1, 'lattice': 1, 'egregious': 1, 'indignity': 1, 'dram': 1, 'bate': 1, 'scruple': 1, 'default': 1, 'insupportable': 1, 'vexation': 1, 'fettering': 1, 'unfeignedly': 1, 'hose': 1, 'sleeves': 1, 'methink': 1, 'undeserved': 1, 'picking': 1, 'kernel': 1, 'pomegranate': 1, 'personages': 1, 'commission': 1, 'heraldry': 1, 'conceal': 1, 'priest': 1, 'tread': 1, 'box': 1, 'hugs': 1, 'kicky': 1, 'wicky': 1, 'manly': 1, 'marrow': 1, 'curvet': 1, 'regions': 1, 'stable': 1, 'detested': 1, 'capriccio': 1, 'marr': 1, 'greets': 1, 'wants': 1, 'ail': 1, 'fortunate': 1, 'shakes': 1, 'undoing': 1, 'witty': 1, 'profitable': 1, 'prerogative': 1, 'distil': 1, 'curbed': 1, 'erflow': 1, 'ned': 1, 'apology': 1, 'obtain': 1, 'warranted': 1, 'testimony': 1, 'bunting': 1, 'sinn': 1, 'transgress': 1, 'workman': 1, 'casketed': 1, 'bride': 1, 'thirds': 1, 'nothings': 1, 'shift': 1, 'boots': 1, 'leapt': 1, 'custard': 1, 'residence': 1, 'mistaken': 1, 'kernal': 1, 'nut': 1, 'consequence': 1, 'natures': 1, 'clog': 1, 'procur': 1, 'ministration': 1, 'required': 1, 'unsettled': 1, 'appointments': 1, 'eke': 1, 'timorous': 1, 'sunder': 1, 'coragio': 1, 'fundamental': 1, 'decision': 1, 'thirsts': 1, 'opposer': 1, 'borrowing': 1, 'frames': 1, 'unable': 1, 'incertain': 1, 'ease': 1, 'avails': 1, 'ruff': 1, 'manor': 1, 'wedded': 1, 'bedded': 1, 'breadth': 1, 'unfortunate': 1, 'unbridled': 1, 'favours': 1, 'indignation': 1, 'misprizing': 1, 'standing': 1, 'quirks': 1, 'thitherward': 1, 'passport': 1, 'begotten': 1, 'dreadful': 1, 'engrossest': 1, 'robb': 1, 'swiftest': 1, 'consenting': 1, 'tainted': 1, 'corrupts': 1, 'inducement': 1, 'worthiest': 1, 'expose': 1, 'event': 1, 'non': 1, 'sparing': 1, 'smoky': 1, 'muskets': 1, 'leaden': 1, 'violent': 1, 'piecing': 1, 'piercing': 1, 'shoots': 1, 'caitiff': 1, 'ravin': 1, 'roar': 1, 'hunger': 1, 'miseries': 1, 'wins': 1, 'offic': 1, 'rumour': 1, 'consolate': 1, 'prosperous': 1, 'auspicious': 1, 'hater': 1, 'ambitious': 1, 'barefoot': 1, 'plod': 1, 'sainted': 1, 'amended': 1, 'fervour': 1, 'labours': 1, 'despiteful': 1, 'juno': 1, 'courtly': 1, 'camping': 1, 'dogs': 1, 'embrace': 1, 'mildest': 1, 'letting': 1, 'diverted': 1, 'ta': 1, 'reprieve': 1, 'wrath': 1, 'sharply': 1, 'commander': 1, 'suffice': 1, 'solicited': 1, 'suggestions': 1, 'enticements': 1, 'engines': 1, 'seduced': 1, 'misery': 1, 'maidenhood': 1, 'limed': 1, 'threatens': 1, 'palmers': 1, 'lodge': 1, 'francis': 1, 'tarry': 1, 'lodg': 1, 'hostess': 1, 'countryman': 1, 'surely': 1, 'coarsely': 1, 'repeated': 1, 'reserved': 1, 'examin': 1, 'detesting': 1, 'wheresoe': 1, 'sadly': 1, 'solicits': 1, 'brokes': 1, 'honestest': 1, 'antonio': 1, 'eldest': 1, 'escalus': 1, 'plume': 1, 'honester': 1, 'goodlier': 1, 'yond': 1, 'rascal': 1, 'jack': 1, 'apes': 1, 'spied': 1, 'courtesy': 1, 'carrier': 1, 'host': 1, 'enjoin': 1, 'penitents': 1, 'matron': 1, 'thanking': 1, 'requite': 1, 'precepts': 1, '6': 1, 'bubble': 1, 'kinsman': 1, 'notable': 1, 'breaker': 1, 'reposing': 1, 'trusty': 1, 'suddenly': 1, 'surprise': 1, 'leaguer': 1, 'adversaries': 1, 'tents': 1, 'examination': 1, 'highest': 1, 'compulsion': 1, 'lump': 1, 'ore': 1, 'melted': 1, 'john': 1, 'inclining': 1, 'hinder': 1, 'design': 1, 'sorely': 1, 'blam': 1, 'greatly': 1, 'dishonour': 1, 'attributed': 1, 'exact': 1, 'performer': 1, 'hic': 1, 'jacet': 1, 'magnanimous': 1, 'enterprise': 1, 'syllable': 1, 'slumber': 1, 'evening': 1, 'dilemmas': 1, 'encourage': 1, 'preparation': 1, 'damns': 1, 'dares': 1, 'week': 1, 'escape': 1, 'discoveries': 1, 'address': 1, 'clap': 1, 'emboss': 1, 'smok': 1, 'parted': 1, 'sprat': 1, 'lass': 1, 'coxcomb': 1, '7': 1, 'staining': 1, 'friendly': 1, 'important': 1, 'county': 1, 'downward': 1, 'succeeded': 1, 'descents': 1, 'appoints': 1, 'crowns': 1, 'yielded': 1, 'deceit': 1, 'coherent': 1, 'musics': 1, 'steads': 1, 'eaves': 1, 'persists': 1, 'assay': 1, 'fact': 1, 'corner': 1, 'sally': 1, 'linsey': 1, 'woolsey': 1, 'adversary': 1, 'neighbouring': 1, 'languages': 1, 'choughs': 1, 'gabble': 1, 'couch': 1, 'forges': 1, 'disgraces': 1, 'foolhardy': 1, 'daring': 1, 'recovery': 1, 'instance': 1, 'butterwoman': 1, 'bajazet': 1, 'mule': 1, 'prattle': 1, 'perils': 1, 'cutting': 1, 'spanish': 1, 'baring': 1, 'stripp': 1, 'swore': 1, 'citadel': 1, 'fathom': 1, 'recover': 1, 'throca': 1, 'movousus': 1, 'villianda': 1, 'par': 1, 'corbo': 1, 'blindfold': 1, 'thromuldo': 1, 'muskos': 1, 'dane': 1, 'dutch': 1, 'undo': 1, 'vauvado': 1, 'kerely': 1, 'bonto': 1, 'betake': 1, 'seventeen': 1, 'poniards': 1, 'manka': 1, 'revania': 1, 'dulche': 1, 'oscorbidulchos': 1, 'volivorco': 1, 'gather': 1, 'acordo': 1, 'linta': 1, 'granted': 1, 'woodcock': 1, 'lock': 1, 'fontibell': 1, 'titled': 1, 'barely': 1, 'prick': 1, 'attributes': 1, 'unseal': 1, 'integrity': 1, 'crafts': 1, 'recovers': 1, 'ropes': 1, 'scarre': 1, 'champion': 1, 'conquer': 1, 'future': 1, 'braid': 1, 'deliv': 1, 'chang': 1, 'shaking': 1, 'incurred': 1, 'everlasting': 1, 'perverted': 1, 'fleshes': 1, 'monumental': 1, 'unchaste': 1, 'merely': 1, 'reveal': 1, 'attain': 1, 'abhorr': 1, 'contrives': 1, 'trumpeters': 1, 'dieted': 1, 'gladly': 1, 'anatomiz': 1, 'curiously': 1, 'meddle': 1, 'whip': 1, 'pretence': 1, 'undertaking': 1, 'austere': 1, 'sanctimony': 1, 'accomplish': 1, 'tenderness': 1, 'justified': 1, 'confirm': 1, 'rector': 1, 'confirmations': 1, 'arming': 1, 'verity': 1, 'heartily': 1, 'acquir': 1, 'encount': 1, 'web': 1, 'mingled': 1, 'yarn': 1, 'crimes': 1, 'offered': 1, 'tartness': 1, 'sixteen': 1, 'month': 1, 'apiece': 1, 'congied': 1, 'nearest': 1, 'returning': 1, 'parcels': 1, 'nicer': 1, 'difficulty': 1, 'dialogue': 1, 'module': 1, 'prophesier': 1, 'usurping': 1, 'weeps': 1, 'milk': 1, 'morgan': 1, 'supposes': 1, 'confession': 1, 'hoodman': 1, 'portotartarossa': 1, 'tortures': 1, 'pinch': 1, 'pasty': 1, 'bosko': 1, 'chimurcho': 1, 'boblibindo': 1, 'chicurmurco': 1, 'merciful': 1, 'unserviceable': 1, 'scattered': 1, 'commanders': 1, 'sacrament': 1, 'saving': 1, 'militarist': 1, 'chape': 1, 'dagger': 1, 'neatly': 1, 'thereabouts': 1, 'con': 1, 'marvellous': 1, 'sebastian': 1, 'corambus': 1, 'guiltian': 1, 'cosmo': 1, 'lodowick': 1, 'gratii': 1, 'chitopher': 1, 'vaumond': 1, 'bentii': 1, 'amounts': 1, 'poll': 1, 'cassocks': 1, 'condition': 1, 'weighing': 1, 'sums': 1, 'inter': 1, 'gatories': 1, 'singly': 1, 'botcher': 1, 'prentice': 1, 'shrieve': 1, 'innocent': 1, 'tile': 1, 'lousy': 1, 'sadness': 1, 'excellently': 1, 'advertisement': 1, 'allurement': 1, 'ruttish': 1, 'whale': 1, 'devours': 1, 'fry': 1, 'rogue': 1, 'debts': 1, 'mell': 1, 'forehead': 1, 'devoted': 1, 'manifold': 1, 'linguist': 1, 'amnipotent': 1, 'remainder': 1, 'dungeon': 1, 'anywhere': 1, 'egg': 1, 'cloister': 1, 'rapes': 1, 'ravishments': 1, 'nessus': 1, 'professes': 1, 'hercules': 1, 'volubility': 1, 'drunkenness': 1, 'swine': 1, 'bedclothes': 1, 'straw': 1, 'tragedians': 1, 'belie': 1, 'ship': 1, 'mile': 1, 'doubling': 1, 'villain': 1, 'villainy': 1, 'rarity': 1, 'redeems': 1, 'salvation': 1, 'entail': 1, 'remainders': 1, 'perpetually': 1, 'excels': 1, 'reputed': 1, 'retreat': 1, 'outruns': 1, 'lackey': 1, 'cramp': 1, 'drumming': 1, 'supposition': 1, 'traitorously': 1, 'pestiferous': 1, 'headsman': 1, 'unmuffling': 1, 'sonnet': 1, 'compel': 1, 'rust': 1, 'safest': 1, 'gratitude': 1, 'flinty': 1, 'tartar': 1, 'duly': 1, 'hies': 1, 'aiding': 1, 'helper': 1, 'trusting': 1, 'defiles': 1, 'pitchy': 1, 'loathes': 1, 'instructions': 1, 'impositions': 1, 'briers': 1, 'waggon': 1, 'revives': 1, 'misled': 1, 'snipt': 1, 'taffeta': 1, 'villainous': 1, 'saffron': 1, 'unbak': 1, 'doughy': 1, 'advanc': 1, 'tail': 1, 'bee': 1, 'partaken': 1, 'owed': 1, 'rooted': 1, 'sallets': 1, 'nebuchadnezzar': 1, 'bauble': 1, 'fisnomy': 1, 'hotter': 1, 'woodland': 1, 'chill': 1, 'unhappy': 1, 'sauciness': 1, 'moved': 1, 'minority': 1, 'propose': 1, 'conceived': 1, 'fitter': 1, 'post': 1, 'rejoices': 1, 'tal': 1, 'pile': 1, 'carbonado': 1, 'dozen': 1, 'hats': 1, 'nod': 1, 'requital': 1, 'unroot': 1, 'goaded': 1, 'occasions': 1, 'nice': 1, 'remov': 1, 'unfit': 1, 'inner': 1, 'familiarity': 1, 'mood': 1, 'somewhat': 1, 'spake': 1, 'stink': 1, 'foh': 1, 'stool': 1, 'nobleman': 1, 'pur': 1, 'musk': 1, 'fishpond': 1, 'carp': 1, 'ingenious': 1, 'rascally': 1, 'distress': 1, 'similes': 1, 'cruelly': 1, 'pare': 1, 'nails': 1, 'justices': 1, 'penny': 1, 'cox': 1, 'sooth': 1, 'estimation': 1, 'blaze': 1, 'erbears': 1, 'burns': 1, 'forgiven': 1, 'revenges': 1, 'astonish': 1, 'richest': 1, 'reconcil': 1, 'repetition': 1, 'deeper': 1, 'incensing': 1, 'sunshine': 1, 'distracted': 1, 'blames': 1, 'inaudible': 1, 'noiseless': 1, 'stuck': 1, 'herald': 1, 'infixing': 1, 'warp': 1, 'offend': 1, 'excus': 1, 'compt': 1, 'remorseful': 1, 'slowly': 1, 'displeasures': 1, 'destroy': 1, 'shameful': 1, 'sleeps': 1, 'afternoon': 1, 'knell': 1, 'maudlin': 1, 'consents': 1, 'cesse': 1, 'sparkle': 1, 'fasten': 1, 'necessitied': 1, 'relieve': 1, 'craft': 1, 'reave': 1, 'stead': 1, 'pleases': 1, 'thrown': 1, 'engag': 1, 'subscrib': 1, 'ceas': 1, 'plutus': 1, 'multiplying': 1, 'science': 1, 'enforcement': 1, 'saints': 1, 'conjectural': 1, 'inhuman': 1, 'guards': 1, 'seize': 1, 'vanity': 1, 'sift': 1, 'husbanded': 1, 'dismal': 1, 'thinkings': 1, 'removes': 1, 'undertook': 1, 'vanquish': 1, 'thereto': 1, 'suppliant': 1, 'importing': 1, 'verbal': 1, 'protestations': 1, 'seducer': 1, 'flourishes': 1, 'toll': 1, 'discov': 1, 'afeard': 1, 'foully': 1, 'snatch': 1, 'doers': 1, 'sith': 1, 'ancient': 1, 'embodied': 1, 'marries': 1, 'desp': 1, 'sink': 1, 'gamester': 1, 'validity': 1, 'parallel': 1, 'commoner': 1, 'preceding': 1, 'gem': 1, 'conferr': 1, 'loath': 1, 'quoted': 1, 'perfidious': 1, 'sickens': 1, 'lik': 1, 'boarded': 1, 'angle': 1, 'eagerness': 1, 'motives': 1, 'subdu': 1, 'diet': 1, 'abed': 1, 'boggle': 1, 'feather': 1, 'starts': 1, 'equivocal': 1, 'naughty': 1, 'orator': 1, 'satan': 1, 'limbo': 1, 'furies': 1, 'motions': 1, 'glove': 1, 'customer': 1, 'accus': 1, 'jeweller': 1, 'abus': 1, 'quit': 1, 'defil': 1, 'feels': 1, 'kick': 1, 'exorcist': 1, 'beguiles': 1, 'truer': 1, 'real': 1, 'doubly': 1, 'clearly': 1, 'divorce': 1, 'step': 1, 'onions': 1, 'handkercher': 1, 'curtsies': 1, 'beest': 1, 'uncropped': 1, 'resolvedly': 1, 'omnes': 1, 'musters': 1, 'plated': 1, 'devotion': 1, 'tawny': 1, 'scuffles': 1, 'fights': 1, 'buckles': 1, 'reneges': 1, 'temper': 1, 'bellows': 1, 'gipsy': 1, 'fanning': 1, 'pillar': 1, 'transform': 1, 'beggary': 1, 'bourn': 1, 'grates': 1, 'bearded': 1, 'rful': 1, 'mandate': 1, 'enfranchise': 1, 'dismission': 1, 'blushest': 1, 'homager': 1, 'shrill': 1, 'tongu': 1, 'scolds': 1, 'tiber': 1, 'melt': 1, 'arch': 1, 'rang': 1, 'dungy': 1, 'nobleness': 1, 'emhracing': 1, 'pair': 1, 'punishment': 1, 'weet': 1, 'peerless': 1, 'stirr': 1, 'conference': 1, 'fie': 1, 'wander': 1, 'priz': 1, 'garlands': 1, 'secrecy': 1, 'paint': 1, 'prescience': 1, 'attentive': 1, 'beloving': 1, 'liver': 1, 'forenoon': 1, 'herod': 1, 'jewry': 1, 'homage': 1, 'figs': 1, 'names': 1, 'wenches': 1, 'fertile': 1, 'witch': 1, 'privy': 1, 'presages': 1, 'erflowing': 1, 'presageth': 1, 'bedfellow': 1, 'soothsay': 1, 'oily': 1, 'fruitful': 1, 'prognostication': 1, 'worky': 1, 'fiftyfold': 1, 'heartbreaking': 1, 'loose': 1, 'wiv': 1, 'uncuckolded': 1, 'decorum': 1, 'whores': 1, 'ld': 1, 'dispos': 1, 'lucius': 1, 'jointing': 1, 'drave': 1, 'infects': 1, 'teller': 1, 'tale': 1, 'labienus': 1, 'stiff': 1, 'parthian': 1, 'asia': 1, 'euphrates': 1, 'conquering': 1, 'banner': 1, 'syria': 1, 'lydia': 1, 'ionia': 1, 'mince': 1, 'rail': 1, 'taunt': 1, 'earing': 1, 'fetters': 1, 'importeth': 1, 'contempts': 1, 'hurl': 1, 'opposite': 1, 'shov': 1, 'enchanting': 1, 'hatch': 1, 'compelling': 1, 'occasion': 1, 'catching': 1, 'instantly': 1, 'mettle': 1, 'celerity': 1, 'finest': 1, 'storms': 1, 'almanacs': 1, 'wonderful': 1, 'discredited': 1, 'sacrifice': 1, 'pleaseth': 1, 'deities': 1, 'tailors': 1, 'comforting': 1, 'robes': 1, 'members': 1, 'lamented': 1, 'consolation': 1, 'petticoat': 1, 'onion': 1, 'broached': 1, 'broach': 1, 'wholly': 1, 'abode': 1, 'notice': 1, 'expedience': 1, 'urgent': 1, 'contriving': 1, 'slippery': 1, 'link': 1, 'deserver': 1, 'dignities': 1, 'courser': 1, 'method': 1, 'tempt': 1, 'planted': 1, 'riotous': 1, 'entangled': 1, 'sued': 1, 'staying': 1, 'inches': 1, 'equality': 1, 'domestic': 1, 'scrupulous': 1, 'faction': 1, 'creeps': 1, 'thrived': 1, 'threaten': 1, 'quietness': 1, 'childishness': 1, 'vials': 1, 'sorrowful': 1, 'quickens': 1, 'slime': 1, 'affects': 1, 'dissembling': 1, 'meetly': 1, 'target': 1, 'mends': 1, 'herculean': 1, 'carriage': 1, 'chafe': 1, 'royalty': 1, 'sweating': 1, 'becomings': 1, 'laurel': 1, 'victory': 1, 'smooth': 1, 'feet': 1, 'abides': 1, 'competitor': 1, 'fishes': 1, 'lamps': 1, 'manlike': 1, 'womanly': 1, 'vouchsaf': 1, 'enow': 1, 'darken': 1, 'blackness': 1, 'hereditary': 1, 'purchas': 1, 'chooses': 1, 'indulgent': 1, 'tumble': 1, 'tippling': 1, 'reel': 1, 'noon': 1, 'buffet': 1, 'sweat': 1, 'composure': 1, 'blemish': 1, 'foils': 1, 'lightness': 1, 'voluptuousness': 1, 'surfeits': 1, 'dryness': 1, 'chid': 1, 'mature': 1, 'pawn': 1, 'biddings': 1, 'ports': 1, 'discontents': 1, 'primal': 1, 'ebb': 1, 'lackeying': 1, 'rot': 1, 'pirates': 1, 'keels': 1, 'inroads': 1, 'borders': 1, 'maritime': 1, 'flush': 1, 'resisted': 1, 'wassails': 1, 'modena': 1, 'hirtius': 1, 'pansa': 1, 'consuls': 1, 'daintily': 1, 'savages': 1, 'puddle': 1, 'beasts': 1, 'cough': 1, 'deign': 1, 'roughest': 1, 'berry': 1, 'rudest': 1, 'stag': 1, 'pasture': 1, 'barks': 1, 'alps': 1, 'lank': 1, 'thrives': 1, 'stirs': 1, 'partaker': 1, 'mandragora': 1, 'unseminar': 1, 'freer': 1, 'wot': 1, 'demi': 1, 'atlas': 1, 'burgonet': 1, 'murmuring': 1, 'nile': 1, 'delicious': 1, 'phoebus': 1, 'pinches': 1, 'wrinkled': 1, 'morsel': 1, 'anchor': 1, 'unlike': 1, 'doubled': 1, 'orient': 1, 'oyster': 1, 'opulent': 1, 'nodded': 1, 'soberly': 1, 'gaunt': 1, 'beastly': 1, 'extremes': 1, 'mingle': 1, 'violence': 1, 'posts': 1, 'chok': 1, 'emphasis': 1, 'paragon': 1, 'salad': 1, 'unpeople': 1, 'messina': 1, 'assist': 1, 'justest': 1, 'rs': 1, 'crescent': 1, 'auguring': 1, 'gets': 1, 'flatters': 1, 'silvius': 1, 'charms': 1, 'soften': 1, 'wan': 1, 'witchcraft': 1, 'fuming': 1, 'epicurean': 1, 'cooks': 1, 'sharpen': 1, 'cloyless': 1, 'sauce': 1, 'prorogue': 1, 'lethe': 1, 'dullness': 1, 'expected': 1, 'surfeiter': 1, 'donn': 1, 'rear': 1, 'stirring': 1, 'wearied': 1, 'trespasses': 1, 'warr': 1, 'enmities': 1, 'pregnant': 1, 'entertained': 1, 'cement': 1, 'divisions': 1, 'strongest': 1, 'jupiter': 1, 'wearer': 1, 'shave': 1, 'stomaching': 1, 'embers': 1, 'compose': 1, 'parthia': 1, 'combin': 1, 'leaner': 1, 'murder': 1, 'healing': 1, 'earnestly': 1, 'curstness': 1, 'arinies': 1, 'derogately': 1, 'practise': 1, 'practis': 1, 'befall': 1, 'contestation': 1, 'theme': 1, 'drew': 1, 'discredit': 1, 'laying': 1, 'excuses': 1, 'partner': 1, 'graceful': 1, 'snaffle': 1, 'uncurbable': 1, 'impatience': 1, 'shrewdness': 1, 'grieving': 1, 'disquiet': 1, 'wrote': 1, 'rioting': 1, 'taunts': 1, 'gibe': 1, 'missive': 1, 'feasted': 1, 'wipe': 1, 'talks': 1, 'requir': 1, 'penitent': 1, 'stoop': 1, 'atone': 1, 'wrangle': 1, 'considerate': 1, 'dislike': 1, 'diff': 1, 'hoop': 1, 'stanch': 1, 'reproof': 1, 'rashness': 1, 'unslipping': 1, 'jealousies': 1, 'dangers': 1, 'studied': 1, 'ruminated': 1, 'fairly': 1, 'govern': 1, 'misenum': 1, 'gladness': 1, 'invite': 1, 'boars': 1, 'roasted': 1, 'breakfast': 1, 'twelve': 1, 'noting': 1, 'purs': 1, 'cydnus': 1, 'reporter': 1, 'devis': 1, 'burnish': 1, 'poop': 1, 'sails': 1, 'oars': 1, 'flutes': 1, 'stroke': 1, 'strokes': 1, 'cloth': 1, 'tissue': 1, 'erpicturing': 1, 'dimpled': 1, 'cupids': 1, 'fans': 1, 'undid': 1, 'gentlewomen': 1, 'nereides': 1, 'mermaids': 1, 'adornings': 1, 'mermaid': 1, 'steers': 1, 'silken': 1, 'tackle': 1, 'yarely': 1, 'invisible': 1, 'perfume': 1, 'adjacent': 1, 'wharfs': 1, 'enthron': 1, 'whistling': 1, 'landing': 1, 'supper': 1, 'replied': 1, 'entreated': 1, 'ordinary': 1, 'ploughed': 1, 'cropp': 1, 'forty': 1, 'paces': 1, 'panted': 1, 'breathless': 1, 'utterly': 1, 'custom': 1, 'variety': 1, 'cloy': 1, 'appetites': 1, 'satisfies': 1, 'priests': 1, 'riggish': 1})\n",
      "\u001b[92m All tests passed\n"
     ]
    }
   ],
   "source": [
    "# Test your function\n",
    "print(word_count_dict)\n",
    "w1_unittest.test_get_count(get_count, word_l)"
   ]
  },
  {
   "cell_type": "markdown",
   "metadata": {},
   "source": [
    "<a name='ex-3'></a>\n",
    "### Exercise 3 - get_probs\n",
    "Given the dictionary of word counts, compute the probability that each word will appear if randomly selected from the corpus of words.\n",
    "\n",
    "$$P(w_i) = \\frac{C(w_i)}{M} \\tag{Eqn-2}$$\n",
    "where \n",
    "\n",
    "$C(w_i)$ is the total number of times $w_i$ appears in the corpus.\n",
    "\n",
    "$M$ is the total number of words in the corpus.\n",
    "\n",
    "For example, the probability of the word 'am' in the sentence **'I am happy because I am learning'** is:\n",
    "\n",
    "$$P(am) = \\frac{C(w_i)}{M} = \\frac {2}{7} \\tag{Eqn-3}.$$\n",
    "\n",
    "**Instructions:** Implement `get_probs` function which gives you the probability \n",
    "that a word occurs in a sample. This returns a dictionary where the keys are words, and the value for each word is its probability in the corpus of words."
   ]
  },
  {
   "cell_type": "markdown",
   "metadata": {},
   "source": [
    "<details>    \n",
    "<summary>\n",
    "    <font size=\"3\" color=\"darkgreen\"><b>Hints</b></font>\n",
    "</summary>\n",
    "<p>\n",
    "General advice\n",
    "<ul>\n",
    "    <li> Use dictionary.values() </li>\n",
    "    <li> Use sum() </li>\n",
    "    <li> The cardinality (number of words in the corpus should be equal to len(word_l).  You will calculate this same number, but using the word count dictionary.</li>\n",
    "</ul>\n",
    "    \n",
    "If you're using a for loop:\n",
    "<ul>\n",
    "    <li> Use dictionary.keys() </li>\n",
    "</ul>\n",
    "    \n",
    "If you're using a dictionary comprehension:\n",
    "<ul>\n",
    "    <li>Use dictionary.items() </li>\n",
    "</ul>\n",
    "</p>\n"
   ]
  },
  {
   "cell_type": "code",
   "execution_count": 60,
   "metadata": {},
   "outputs": [],
   "source": [
    "# UNQ_C3 GRADED FUNCTION: get_probs\n",
    "def get_probs(word_count_dict):\n",
    "    '''\n",
    "    Input:\n",
    "        word_count_dict: The wordcount dictionary where key is the word and value is its frequency.\n",
    "    Output:\n",
    "        probs: A dictionary where keys are the words and the values are the probability that a word will occur. \n",
    "    '''\n",
    "    probs = {}  # return this variable correctly\n",
    "    \n",
    "    ### START CODE HERE ###\n",
    "    m = sum(word_count_dict.values())\n",
    "    for word,C in word_count_dict.items():\n",
    "    # get the total count of words for all words in the dictionary\n",
    "        prob = C/m\n",
    "        probs[word] = prob\n",
    "        \n",
    "    ### END CODE HERE ###\n",
    "    return probs"
   ]
  },
  {
   "cell_type": "code",
   "execution_count": 61,
   "metadata": {
    "deletable": false,
    "editable": false
   },
   "outputs": [
    {
     "name": "stdout",
     "output_type": "stream",
     "text": [
      "Length of probs is 6116\n",
      "P('thee') is 0.0045\n"
     ]
    }
   ],
   "source": [
    "#DO NOT MODIFY THIS CELL\n",
    "probs = get_probs(word_count_dict)\n",
    "print(f\"Length of probs is {len(probs)}\")\n",
    "print(f\"P('thee') is {probs['thee']:.4f}\")"
   ]
  },
  {
   "cell_type": "markdown",
   "metadata": {},
   "source": [
    "#### Expected Output\n",
    "\n",
    "```Python\n",
    "Length of probs is 6116\n",
    "P('thee') is 0.0045\n",
    "```"
   ]
  },
  {
   "cell_type": "code",
   "execution_count": 206,
   "metadata": {},
   "outputs": [
    {
     "name": "stdout",
     "output_type": "stream",
     "text": [
      "\u001b[92m All tests passed\n"
     ]
    }
   ],
   "source": [
    "# Test your function\n",
    "w1_unittest.test_get_probs(get_probs, word_count_dict)"
   ]
  },
  {
   "cell_type": "markdown",
   "metadata": {},
   "source": [
    "<a name='2'></a>\n",
    "## 2 - String Manipulations\n",
    "\n",
    "Now that you have computed $P(w_i)$ for all the words in the corpus, you will write a few functions to manipulate strings so that you can edit the erroneous strings and return the right spellings of the words. In this section, you will implement four functions: \n",
    "\n",
    "* `delete_letter`: given a word, it returns all the possible strings that have **one character removed**. \n",
    "* `switch_letter`: given a word, it returns all the possible strings that have **two adjacent letters switched**.\n",
    "* `replace_letter`: given a word, it returns all the possible strings that have **one character replaced by another different letter**.\n",
    "* `insert_letter`: given a word, it returns all the possible strings that have an **additional character inserted**. \n"
   ]
  },
  {
   "cell_type": "markdown",
   "metadata": {},
   "source": [
    "#### List comprehensions\n",
    "\n",
    "String and list manipulation in python will often make use of a python feature called  [list comprehensions](https://docs.python.org/3/tutorial/datastructures.html#list-comprehensions). The routines below will be described as using list comprehensions, but if you would rather implement them in another way, you are free to do so as long as the result is the same. Further, the following section will provide detailed instructions on how to use list comprehensions and how to implement the desired functions. If you are a python expert, feel free to skip the python hints and move to implementing the routines directly."
   ]
  },
  {
   "cell_type": "markdown",
   "metadata": {},
   "source": [
    "Python List Comprehensions embed a looping structure inside of a list declaration, collapsing many lines of code into a single line. If you are not familiar with them, they seem slightly out of order relative to for loops. "
   ]
  },
  {
   "cell_type": "markdown",
   "metadata": {},
   "source": [
    "<div style=\"width:image width px; font-size:100%; text-align:center;\"><img src='images/GenericListComp3.PNG' alt=\"alternate text\" width=\"width\" height=\"height\"  style=\"width:800px;height:400px;\"/> Figure 2 </div>"
   ]
  },
  {
   "cell_type": "markdown",
   "metadata": {},
   "source": [
    "The diagram above shows that the components of a list comprehension are the same components you would find in a typical for loop that appends to a list, but in a different order. With that in mind, we'll continue the specifics of this assignment. We will be very descriptive for the first function, `deletes()`, and less so in later functions as you become familiar with list comprehensions."
   ]
  },
  {
   "cell_type": "markdown",
   "metadata": {},
   "source": [
    "<a name='ex-4'></a>\n",
    "### Exercise 4 - delete_letter\n",
    "\n",
    "**Instructions for delete_letter():** Implement a `delete_letter()` function that, given a word, returns a list of strings with one character deleted. \n",
    "\n",
    "For example, given the word **nice**, it would return the set: {'ice', 'nce', 'nic', 'nie'}. \n",
    "\n",
    "**Step 1:** Create a list of 'splits'. This is all the ways you can split a word into Left and Right: For example,   \n",
    "'nice is split into : `[('', 'nice'), ('n', 'ice'), ('ni', 'ce'), ('nic', 'e'), ('nice', '')]`\n",
    "This is common to all four functions (delete, replace, switch, insert).\n"
   ]
  },
  {
   "cell_type": "markdown",
   "metadata": {},
   "source": [
    "<div style=\"width:image width px; font-size:100%; text-align:center;\"><img src='images/Splits1.PNG' alt=\"alternate text\" width=\"width\" height=\"height\" style=\"width:650px;height:200px;\" /> Figure 3 </div>"
   ]
  },
  {
   "cell_type": "markdown",
   "metadata": {},
   "source": [
    "**Step 2:** This is specific to `delete_letter`. Here, we are generating all words that result from deleting one character.  \n",
    "This can be done in a single line with a list comprehension. You can make use of this type of syntax:  \n",
    "`[f(a,b) for a, b in splits if condition]`  \n",
    "\n",
    "For our 'nice' example you get: \n",
    "['ice', 'nce', 'nie', 'nic']"
   ]
  },
  {
   "cell_type": "markdown",
   "metadata": {},
   "source": [
    "<div style=\"width:image width px; font-size:100%; text-align:center;\"><img src='images/ListComp2.PNG' alt=\"alternate text\" width=\"width\" height=\"height\" style=\"width:550px;height:300px;\" /> Figure 4 </div>"
   ]
  },
  {
   "cell_type": "markdown",
   "metadata": {},
   "source": [
    "#### Levels of assistance\n",
    "\n",
    "Try this exercise with these levels of assistance.  \n",
    "- We hope that this will make it both a meaningful experience but also not a frustrating experience. \n",
    "- Start with level 1, then move onto level 2, and 3 as needed.\n",
    "\n",
    "    - Level 1. Try to think this through and implement this yourself.\n",
    "    - Level 2. Click on the \"Level 2 Hints\" section for some hints to get started.\n",
    "    - Level 3. If you would prefer more guidance, please click on the \"Level 3 Hints\" cell for step by step instructions.\n",
    "    \n",
    "- If you are still stuck, look at the images in the \"list comprehensions\" section above.\n"
   ]
  },
  {
   "cell_type": "markdown",
   "metadata": {},
   "source": [
    "<details>    \n",
    "<summary>\n",
    "    <font size=\"3\" color=\"darkgreen\"><b>Level 2 Hints</b></font>\n",
    "</summary>\n",
    "<p>\n",
    "<ul>\n",
    "    <li><a href=\"\" > Use array slicing like my_string[0:2] </a> </li>\n",
    "    <li><a href=\"\" > Use list comprehensions or for loops </a> </li>\n",
    "</ul>\n",
    "</p>\n"
   ]
  },
  {
   "cell_type": "markdown",
   "metadata": {},
   "source": [
    "<details>    \n",
    "<summary>\n",
    "    <font size=\"3\" color=\"darkgreen\"><b>Level 3 Hints</b></font>\n",
    "</summary>\n",
    "<p>\n",
    "<ul>\n",
    "    <li>splits: Use array slicing, like my_str[0:2], to separate a string into two pieces.</li>\n",
    "    <li>Do this in a loop or list comprehension, so that you have a list of tuples.\n",
    "    <li> For example, \"cake\" can get split into \"ca\" and \"ke\". They're stored in a tuple (\"ca\",\"ke\"), and the tuple is appended to a list.  We'll refer to these as L and R, so the tuple is (L,R)</li>\n",
    "    <li>When choosing the range for your loop, if you input the word \"cans\" and generate the tuple  ('cans',''), make sure to include an if statement to check the length of that right-side string (R) in the tuple (L,R) </li>\n",
    "    <li>deletes: Go through the list of tuples and combine the two strings together. You can use the + operator to combine two strings</li>\n",
    "    <li>When combining the tuples, make sure that you leave out a middle character.</li>\n",
    "    <li>Use array slicing to leave out the first character of the right substring.</li>\n",
    "</ul>\n",
    "</p>"
   ]
  },
  {
   "cell_type": "code",
   "execution_count": 63,
   "metadata": {},
   "outputs": [],
   "source": [
    "# UNIT TEST COMMENT: Candidate for Table Driven Tests\n",
    "# UNQ_C4 GRADED FUNCTION: deletes\n",
    "def delete_letter(word, verbose=False):\n",
    "    '''\n",
    "    Input:\n",
    "        word: the string/word for which you will generate all possible words \n",
    "                in the vocabulary which have 1 missing character\n",
    "    Output:\n",
    "        delete_l: a list of all possible strings obtained by deleting 1 character from word\n",
    "    '''\n",
    "    \n",
    "    delete_l = []\n",
    "    split_l = []\n",
    "    \n",
    "    ### START CODE HERE ###\n",
    "    split_l = [(word[:i],word[i:]) for i in range(len(word)+1)]\n",
    "    delete_l = [L+R[1:] for L,R in split_l if R]\n",
    "    ### END CODE HERE ###\n",
    "\n",
    "    if verbose: print(f\"input word {word}, \\nsplit_l = {split_l}, \\ndelete_l = {delete_l}\")\n",
    "\n",
    "    return  delete_l"
   ]
  },
  {
   "cell_type": "code",
   "execution_count": 64,
   "metadata": {},
   "outputs": [
    {
     "name": "stdout",
     "output_type": "stream",
     "text": [
      "input word cans, \n",
      "split_l = [('', 'cans'), ('c', 'ans'), ('ca', 'ns'), ('can', 's'), ('cans', '')], \n",
      "delete_l = ['ans', 'cns', 'cas', 'can']\n"
     ]
    }
   ],
   "source": [
    "delete_word_l = delete_letter(word=\"cans\",\n",
    "                        verbose=True)"
   ]
  },
  {
   "cell_type": "markdown",
   "metadata": {},
   "source": [
    "#### Expected Output\n",
    "```CPP\n",
    "Note: You might get a slightly different result with split_l\n",
    "\n",
    "input word cans, \n",
    "split_l = [('', 'cans'), ('c', 'ans'), ('ca', 'ns'), ('can', 's')], \n",
    "delete_l = ['ans', 'cns', 'cas', 'can']\n",
    "```"
   ]
  },
  {
   "cell_type": "markdown",
   "metadata": {},
   "source": [
    "#### Note 1\n",
    "- Notice how it has the extra tuple `('cans', '')`.\n",
    "- This will be fine as long as you have checked the size of the right-side substring in tuple (L,R).\n",
    "- Can you explain why this will give you the same result for the list of deletion strings (delete_l)?\n",
    "\n",
    "```CPP\n",
    "input word cans, \n",
    "split_l = [('', 'cans'), ('c', 'ans'), ('ca', 'ns'), ('can', 's'), ('cans', '')], \n",
    "delete_l = ['ans', 'cns', 'cas', 'can']\n",
    "```"
   ]
  },
  {
   "cell_type": "markdown",
   "metadata": {},
   "source": [
    "#### Note 2\n",
    "If you end up getting the same word as your input word, like this:\n",
    "\n",
    "```Python\n",
    "input word cans, \n",
    "split_l = [('', 'cans'), ('c', 'ans'), ('ca', 'ns'), ('can', 's'), ('cans', '')], \n",
    "delete_l = ['ans', 'cns', 'cas', 'can', 'cans']\n",
    "```\n",
    "\n",
    "- Check how you set the `range`.\n",
    "- See if you check the length of the string on the right-side of the split."
   ]
  },
  {
   "cell_type": "code",
   "execution_count": 65,
   "metadata": {},
   "outputs": [
    {
     "name": "stdout",
     "output_type": "stream",
     "text": [
      "Number of outputs of delete_letter('at') is 2\n"
     ]
    }
   ],
   "source": [
    "# test # 2\n",
    "print(f\"Number of outputs of delete_letter('at') is {len(delete_letter('at'))}\")"
   ]
  },
  {
   "cell_type": "markdown",
   "metadata": {},
   "source": [
    "#### Expected output\n",
    "\n",
    "```CPP\n",
    "Number of outputs of delete_letter('at') is 2\n",
    "```"
   ]
  },
  {
   "cell_type": "code",
   "execution_count": 66,
   "metadata": {},
   "outputs": [
    {
     "name": "stdout",
     "output_type": "stream",
     "text": [
      "\u001b[92m All tests passed\n"
     ]
    }
   ],
   "source": [
    "# Test your function\n",
    "w1_unittest.test_delete_letter(delete_letter)"
   ]
  },
  {
   "cell_type": "markdown",
   "metadata": {},
   "source": [
    "<a name='ex-5'></a>\n",
    "### Exercise 5 - switch_letter\n",
    "\n",
    "**Instructions for switch_letter()**: Now implement a function that switches two letters in a word. It takes in a word and returns a list of all the possible switches of two letters **that are adjacent to each other**. \n",
    "- For example, given the word 'eta', it returns {'eat', 'tea'}, but does not return 'ate'.\n",
    "\n",
    "**Step 1:** is the same as in delete_letter()  \n",
    "**Step 2:** A list comprehension or for loop which forms strings by swapping adjacent letters. This is of the form:  \n",
    "`[f(L,R) for L, R in splits if condition]`  where 'condition' will test the length of R in a given iteration. See below."
   ]
  },
  {
   "cell_type": "markdown",
   "metadata": {},
   "source": [
    "<div style=\"width:image width px; font-size:100%; text-align:center;\"><img src='images/Switches1.PNG' alt=\"alternate text\" width=\"width\" height=\"height\" style=\"width:600px;height:200px;\"/> Figure 5 </div>      "
   ]
  },
  {
   "cell_type": "markdown",
   "metadata": {},
   "source": [
    "#### Levels of difficulty\n",
    "\n",
    "Try this exercise with these levels of difficulty.  \n",
    "- Level 1. Try to think this through and implement this yourself.\n",
    "- Level 2. Click on the \"Level 2 Hints\" section for some hints to get started.\n",
    "- Level 3. If you would prefer more guidance, please click on the \"Level 3 Hints\" cell for step by step instructions."
   ]
  },
  {
   "cell_type": "markdown",
   "metadata": {},
   "source": [
    "<details>    \n",
    "<summary>\n",
    "    <font size=\"3\" color=\"darkgreen\"><b>Level 2 Hints</b></font>\n",
    "</summary>\n",
    "<p>\n",
    "<ul>\n",
    "    <li><a href=\"\" > Use array slicing like my_string[0:2] </a> </li>\n",
    "    <li><a href=\"\" > Use list comprehensions or for loops </a> </li>\n",
    "    <li>To do a switch, think of the whole word as divided into 4 distinct parts.  Write out 'cupcakes' on a piece of paper and see how you can split it into ('cupc', 'k', 'a', 'es')</li>\n",
    "</ul>\n",
    "</p>\n"
   ]
  },
  {
   "cell_type": "markdown",
   "metadata": {},
   "source": [
    "<details>    \n",
    "<summary>\n",
    "    <font size=\"3\" color=\"darkgreen\"><b>Level 3 Hints</b></font>\n",
    "</summary>\n",
    "<p>\n",
    "<ul>\n",
    "    <li>splits: Use array slicing, like my_str[0:2], to separate a string into two pieces.</li>\n",
    "    <li>Splitting is the same as for delete_letter</li>\n",
    "    <li>To perform the switch, go through the list of tuples and combine four strings together. You can use the + operator to combine strings</li>\n",
    "    <li>The four strings will be the left substring from the split tuple, followed by the first (index 1) character of the right substring, then the zero-th character (index 0) of the right substring, and then the remaining part of the right substring.</li>\n",
    "    <li>Unlike delete_letter, you will want to check that your right substring is at least a minimum length.  To see why, review the previous hint bullet point (directly before this one).</li>\n",
    "</ul>\n",
    "</p>"
   ]
  },
  {
   "cell_type": "code",
   "execution_count": 69,
   "metadata": {
    "lines_to_end_of_cell_marker": 2
   },
   "outputs": [],
   "source": [
    "# UNIT TEST COMMENT: Candidate for Table Driven Tests\n",
    "# UNQ_C5 GRADED FUNCTION: switches\n",
    "def switch_letter(word, verbose=False):\n",
    "    '''\n",
    "    Input:\n",
    "        word: input string\n",
    "     Output:\n",
    "        switches: a list of all possible strings with one adjacent charater switched\n",
    "    ''' \n",
    "    \n",
    "    switch_l = []\n",
    "    split_l = []\n",
    "    \n",
    "    ### START CODE HERE ###\n",
    "    split_l = [(word[:i],word[i:]) for i in range(len(word)+1)]\n",
    "    switch_l = [L + R[1] + R[0] + R[2:] for L,R in split_l if len(R)>1]\n",
    "    ### END CODE HERE ###\n",
    "    \n",
    "    if verbose: print(f\"Input word = {word} \\nsplit_l = {split_l} \\nswitch_l = {switch_l}\") \n",
    "    \n",
    "    return switch_l"
   ]
  },
  {
   "cell_type": "code",
   "execution_count": 70,
   "metadata": {},
   "outputs": [
    {
     "name": "stdout",
     "output_type": "stream",
     "text": [
      "Input word = eta \n",
      "split_l = [('', 'eta'), ('e', 'ta'), ('et', 'a'), ('eta', '')] \n",
      "switch_l = ['tea', 'eat']\n"
     ]
    }
   ],
   "source": [
    "switch_word_l = switch_letter(word=\"eta\",\n",
    "                         verbose=True)"
   ]
  },
  {
   "cell_type": "markdown",
   "metadata": {},
   "source": [
    "#### Expected output\n",
    "\n",
    "```Python\n",
    "Input word = eta \n",
    "split_l = [('', 'eta'), ('e', 'ta'), ('et', 'a')] \n",
    "switch_l = ['tea', 'eat']\n",
    "```"
   ]
  },
  {
   "cell_type": "markdown",
   "metadata": {},
   "source": [
    "#### Note 1\n",
    "\n",
    "You may get this:\n",
    "```Python\n",
    "Input word = eta \n",
    "split_l = [('', 'eta'), ('e', 'ta'), ('et', 'a'), ('eta', '')] \n",
    "switch_l = ['tea', 'eat']\n",
    "```\n",
    "- Notice how it has the extra tuple `('eta', '')`.\n",
    "- This is also correct.\n",
    "- Can you think of why this is the case?"
   ]
  },
  {
   "cell_type": "markdown",
   "metadata": {},
   "source": [
    "#### Note 2\n",
    "\n",
    "If you get an error\n",
    "```Python\n",
    "IndexError: string index out of range\n",
    "```\n",
    "- Please see if you have checked the length of the strings when switching characters."
   ]
  },
  {
   "cell_type": "code",
   "execution_count": 71,
   "metadata": {},
   "outputs": [
    {
     "name": "stdout",
     "output_type": "stream",
     "text": [
      "Number of outputs of switch_letter('at') is 1\n"
     ]
    }
   ],
   "source": [
    "# test # 2\n",
    "print(f\"Number of outputs of switch_letter('at') is {len(switch_letter('at'))}\")"
   ]
  },
  {
   "cell_type": "markdown",
   "metadata": {},
   "source": [
    "#### Expected output\n",
    "\n",
    "```CPP\n",
    "Number of outputs of switch_letter('at') is 1\n",
    "```"
   ]
  },
  {
   "cell_type": "code",
   "execution_count": 72,
   "metadata": {},
   "outputs": [
    {
     "name": "stdout",
     "output_type": "stream",
     "text": [
      "\u001b[92m All tests passed\n"
     ]
    }
   ],
   "source": [
    "# Test your function\n",
    "w1_unittest.test_switch_letter(switch_letter)"
   ]
  },
  {
   "cell_type": "markdown",
   "metadata": {},
   "source": [
    "<a name='ex-6'></a>\n",
    "### Exercise 6 - replace_letter\n",
    "**Instructions for replace_letter()**: Now implement a function that takes in a word and returns a list of strings with one **replaced letter** from the original word. \n",
    "\n",
    "**Step 1:** is the same as in `delete_letter()`\n",
    "\n",
    "**Step 2:** A list comprehension or for loop which form strings by replacing letters.  This can be of the form:  \n",
    "`[f(a,b,c) for a, b in splits if condition for c in string]`   Note the use of the second for loop.  \n",
    "It is expected in this routine that one or more of the replacements will include the original word. For example, replacing the first letter of 'ear' with 'e' will return 'ear'.\n",
    "\n",
    "**Step 3:** Remove the original input letter from the output."
   ]
  },
  {
   "cell_type": "markdown",
   "metadata": {},
   "source": [
    "<details>    \n",
    "<summary>\n",
    "    <font size=\"3\" color=\"darkgreen\"><b>Hints</b></font>\n",
    "</summary>\n",
    "<p>\n",
    "<ul>\n",
    "    <li>To remove a word from a list, first store its contents inside a set()</li>\n",
    "    <li>Use set.discard('the_word') to remove a word in a set.  Using set.remove('the_word') throws a KeyError if the word does not exist in the set. </li>\n",
    "</ul>\n",
    "</p>\n"
   ]
  },
  {
   "cell_type": "code",
   "execution_count": 115,
   "metadata": {},
   "outputs": [],
   "source": [
    "# UNIT TEST COMMENT: Candidate for Table Driven Tests\n",
    "# UNQ_C6 GRADED FUNCTION: replaces\n",
    "def replace_letter(word, verbose=False):\n",
    "    '''\n",
    "    Input:\n",
    "        word: the input string/word \n",
    "    Output:\n",
    "        replaces: a list of all possible strings where we replaced one letter from the original word. \n",
    "    ''' \n",
    "    \n",
    "    letters = 'abcdefghijklmnopqrstuvwxyz'\n",
    "    \n",
    "    replace_l = []\n",
    "    split_l = []\n",
    "    \n",
    "    ### START CODE HERE ###\n",
    "    split_l = [(word[:i],word[i:]) for i in range(len(word)+1)]\n",
    "    replace_l = [a[:len(a)-1] + c + b for a, b in split_l if len(a)>0 for c in letters]\n",
    "    replace_set = set(replace_l)\n",
    "    replace_set.discard(word)\n",
    "    ### END CODE HERE ###\n",
    "    \n",
    "    # turn the set back into a list and sort it, for easier viewing\n",
    "    replace_l = sorted(list(replace_set))\n",
    "    \n",
    "    if verbose: print(f\"Input word = {word} \\nsplit_l = {split_l} \\nreplace_l {replace_l}\")   \n",
    "    \n",
    "    return replace_l"
   ]
  },
  {
   "cell_type": "code",
   "execution_count": 116,
   "metadata": {},
   "outputs": [
    {
     "name": "stdout",
     "output_type": "stream",
     "text": [
      "Input word = can \n",
      "split_l = [('', 'can'), ('c', 'an'), ('ca', 'n'), ('can', '')] \n",
      "replace_l ['aan', 'ban', 'caa', 'cab', 'cac', 'cad', 'cae', 'caf', 'cag', 'cah', 'cai', 'caj', 'cak', 'cal', 'cam', 'cao', 'cap', 'caq', 'car', 'cas', 'cat', 'cau', 'cav', 'caw', 'cax', 'cay', 'caz', 'cbn', 'ccn', 'cdn', 'cen', 'cfn', 'cgn', 'chn', 'cin', 'cjn', 'ckn', 'cln', 'cmn', 'cnn', 'con', 'cpn', 'cqn', 'crn', 'csn', 'ctn', 'cun', 'cvn', 'cwn', 'cxn', 'cyn', 'czn', 'dan', 'ean', 'fan', 'gan', 'han', 'ian', 'jan', 'kan', 'lan', 'man', 'nan', 'oan', 'pan', 'qan', 'ran', 'san', 'tan', 'uan', 'van', 'wan', 'xan', 'yan', 'zan']\n"
     ]
    }
   ],
   "source": [
    "replace_l = replace_letter(word='can',\n",
    "                              verbose=True)"
   ]
  },
  {
   "cell_type": "markdown",
   "metadata": {},
   "source": [
    "#### Expected Output**: \n",
    "```Python\n",
    "Input word = can \n",
    "split_l = [('', 'can'), ('c', 'an'), ('ca', 'n')] \n",
    "replace_l ['aan', 'ban', 'caa', 'cab', 'cac', 'cad', 'cae', 'caf', 'cag', 'cah', 'cai', 'caj', 'cak', 'cal', 'cam', 'cao', 'cap', 'caq', 'car', 'cas', 'cat', 'cau', 'cav', 'caw', 'cax', 'cay', 'caz', 'cbn', 'ccn', 'cdn', 'cen', 'cfn', 'cgn', 'chn', 'cin', 'cjn', 'ckn', 'cln', 'cmn', 'cnn', 'con', 'cpn', 'cqn', 'crn', 'csn', 'ctn', 'cun', 'cvn', 'cwn', 'cxn', 'cyn', 'czn', 'dan', 'ean', 'fan', 'gan', 'han', 'ian', 'jan', 'kan', 'lan', 'man', 'nan', 'oan', 'pan', 'qan', 'ran', 'san', 'tan', 'uan', 'van', 'wan', 'xan', 'yan', 'zan']\n",
    "```\n",
    "- Note how the input word 'can' should not be one of the output words."
   ]
  },
  {
   "cell_type": "markdown",
   "metadata": {},
   "source": [
    "#### Note 1\n",
    "If you get something like this:\n",
    "\n",
    "```Python\n",
    "Input word = can \n",
    "split_l = [('', 'can'), ('c', 'an'), ('ca', 'n'), ('can', '')] \n",
    "replace_l ['aan', 'ban', 'caa', 'cab', 'cac', 'cad', 'cae', 'caf', 'cag', 'cah', 'cai', 'caj', 'cak', 'cal', 'cam', 'cao', 'cap', 'caq', 'car', 'cas', 'cat', 'cau', 'cav', 'caw', 'cax', 'cay', 'caz', 'cbn', 'ccn', 'cdn', 'cen', 'cfn', 'cgn', 'chn', 'cin', 'cjn', 'ckn', 'cln', 'cmn', 'cnn', 'con', 'cpn', 'cqn', 'crn', 'csn', 'ctn', 'cun', 'cvn', 'cwn', 'cxn', 'cyn', 'czn', 'dan', 'ean', 'fan', 'gan', 'han', 'ian', 'jan', 'kan', 'lan', 'man', 'nan', 'oan', 'pan', 'qan', 'ran', 'san', 'tan', 'uan', 'van', 'wan', 'xan', 'yan', 'zan']\n",
    "```\n",
    "- Notice how split_l has an extra tuple `('can', '')`, but the output is still the same, so this is okay."
   ]
  },
  {
   "cell_type": "markdown",
   "metadata": {},
   "source": [
    "#### Note 2\n",
    "If you get something like this:\n",
    "```Python\n",
    "Input word = can \n",
    "split_l = [('', 'can'), ('c', 'an'), ('ca', 'n'), ('can', '')] \n",
    "replace_l ['aan', 'ban', 'caa', 'cab', 'cac', 'cad', 'cae', 'caf', 'cag', 'cah', 'cai', 'caj', 'cak', 'cal', 'cam', 'cana', 'canb', 'canc', 'cand', 'cane', 'canf', 'cang', 'canh', 'cani', 'canj', 'cank', 'canl', 'canm', 'cann', 'cano', 'canp', 'canq', 'canr', 'cans', 'cant', 'canu', 'canv', 'canw', 'canx', 'cany', 'canz', 'cao', 'cap', 'caq', 'car', 'cas', 'cat', 'cau', 'cav', 'caw', 'cax', 'cay', 'caz', 'cbn', 'ccn', 'cdn', 'cen', 'cfn', 'cgn', 'chn', 'cin', 'cjn', 'ckn', 'cln', 'cmn', 'cnn', 'con', 'cpn', 'cqn', 'crn', 'csn', 'ctn', 'cun', 'cvn', 'cwn', 'cxn', 'cyn', 'czn', 'dan', 'ean', 'fan', 'gan', 'han', 'ian', 'jan', 'kan', 'lan', 'man', 'nan', 'oan', 'pan', 'qan', 'ran', 'san', 'tan', 'uan', 'van', 'wan', 'xan', 'yan', 'zan']\n",
    "```\n",
    "- Notice how there are strings that are 1 letter longer than the original word, such as `cana`.\n",
    "- Please check for the case when there is an empty string `''`, and if so, do not use that empty string when setting replace_l."
   ]
  },
  {
   "cell_type": "code",
   "execution_count": 117,
   "metadata": {},
   "outputs": [
    {
     "name": "stdout",
     "output_type": "stream",
     "text": [
      "Number of outputs of replace_letter('at') is 50\n"
     ]
    }
   ],
   "source": [
    "# test # 2\n",
    "print(f\"Number of outputs of replace_letter('at') is {len(replace_letter('at'))}\")"
   ]
  },
  {
   "cell_type": "markdown",
   "metadata": {},
   "source": [
    "#### Expected output\n",
    "```CPP\n",
    "Number of outputs of replace_letter('at') is 50\n",
    "```"
   ]
  },
  {
   "cell_type": "code",
   "execution_count": 118,
   "metadata": {},
   "outputs": [
    {
     "name": "stdout",
     "output_type": "stream",
     "text": [
      "\u001b[92m All tests passed\n"
     ]
    }
   ],
   "source": [
    "# Test your function\n",
    "w1_unittest.test_replace_letter(replace_letter)"
   ]
  },
  {
   "cell_type": "markdown",
   "metadata": {},
   "source": [
    "<a name='ex-7'></a>\n",
    "### Exercise 7 - insert_letter\n",
    "\n",
    "**Instructions for insert_letter()**: Now implement a function that takes in a word and returns a list with a letter inserted at every offset.\n",
    "\n",
    "**Step 1:** is the same as in `delete_letter()`\n",
    "\n",
    "**Step 2:** This can be a list comprehension of the form:  \n",
    "`[f(a,b,c) for a, b in splits if condition for c in string]`   "
   ]
  },
  {
   "cell_type": "code",
   "execution_count": 121,
   "metadata": {},
   "outputs": [],
   "source": [
    "# UNIT TEST COMMENT: Candidate for Table Driven Tests\n",
    "# UNQ_C7 GRADED FUNCTION: inserts\n",
    "def insert_letter(word, verbose=False):\n",
    "    '''\n",
    "    Input:\n",
    "        word: the input string/word \n",
    "    Output:\n",
    "        inserts: a set of all possible strings with one new letter inserted at every offset\n",
    "    ''' \n",
    "    letters = 'abcdefghijklmnopqrstuvwxyz'\n",
    "    insert_l = []\n",
    "    split_l = []\n",
    "    \n",
    "    ### START CODE HERE ###\n",
    "    split_l = [(word[:i],word[i:]) for i in range(len(word)+1)]\n",
    "    insert_l = [a + c + b for a, b in split_l for c in letters]\n",
    "        \n",
    "    ### END CODE HERE ###\n",
    "    \n",
    "    if verbose: print(f\"Input word {word} \\nsplit_l = {split_l} \\ninsert_l = {insert_l}\")\n",
    "    \n",
    "    return insert_l"
   ]
  },
  {
   "cell_type": "code",
   "execution_count": 122,
   "metadata": {},
   "outputs": [
    {
     "name": "stdout",
     "output_type": "stream",
     "text": [
      "Input word at \n",
      "split_l = [('', 'at'), ('a', 't'), ('at', '')] \n",
      "insert_l = ['aat', 'bat', 'cat', 'dat', 'eat', 'fat', 'gat', 'hat', 'iat', 'jat', 'kat', 'lat', 'mat', 'nat', 'oat', 'pat', 'qat', 'rat', 'sat', 'tat', 'uat', 'vat', 'wat', 'xat', 'yat', 'zat', 'aat', 'abt', 'act', 'adt', 'aet', 'aft', 'agt', 'aht', 'ait', 'ajt', 'akt', 'alt', 'amt', 'ant', 'aot', 'apt', 'aqt', 'art', 'ast', 'att', 'aut', 'avt', 'awt', 'axt', 'ayt', 'azt', 'ata', 'atb', 'atc', 'atd', 'ate', 'atf', 'atg', 'ath', 'ati', 'atj', 'atk', 'atl', 'atm', 'atn', 'ato', 'atp', 'atq', 'atr', 'ats', 'att', 'atu', 'atv', 'atw', 'atx', 'aty', 'atz']\n",
      "Number of strings output by insert_letter('at') is 78\n"
     ]
    }
   ],
   "source": [
    "insert_l = insert_letter('at', True)\n",
    "print(f\"Number of strings output by insert_letter('at') is {len(insert_l)}\")"
   ]
  },
  {
   "cell_type": "markdown",
   "metadata": {},
   "source": [
    "#### Expected output\n",
    "\n",
    "```Python\n",
    "Input word at \n",
    "split_l = [('', 'at'), ('a', 't'), ('at', '')] \n",
    "insert_l = ['aat', 'bat', 'cat', 'dat', 'eat', 'fat', 'gat', 'hat', 'iat', 'jat', 'kat', 'lat', 'mat', 'nat', 'oat', 'pat', 'qat', 'rat', 'sat', 'tat', 'uat', 'vat', 'wat', 'xat', 'yat', 'zat', 'aat', 'abt', 'act', 'adt', 'aet', 'aft', 'agt', 'aht', 'ait', 'ajt', 'akt', 'alt', 'amt', 'ant', 'aot', 'apt', 'aqt', 'art', 'ast', 'att', 'aut', 'avt', 'awt', 'axt', 'ayt', 'azt', 'ata', 'atb', 'atc', 'atd', 'ate', 'atf', 'atg', 'ath', 'ati', 'atj', 'atk', 'atl', 'atm', 'atn', 'ato', 'atp', 'atq', 'atr', 'ats', 'att', 'atu', 'atv', 'atw', 'atx', 'aty', 'atz']\n",
    "Number of strings output by insert_letter('at') is 78\n",
    "```"
   ]
  },
  {
   "cell_type": "markdown",
   "metadata": {},
   "source": [
    "#### Note 1\n",
    "\n",
    "If you get a split_l like this:\n",
    "```Python\n",
    "Input word at \n",
    "split_l = [('', 'at'), ('a', 't')] \n",
    "insert_l = ['aat', 'bat', 'cat', 'dat', 'eat', 'fat', 'gat', 'hat', 'iat', 'jat', 'kat', 'lat', 'mat', 'nat', 'oat', 'pat', 'qat', 'rat', 'sat', 'tat', 'uat', 'vat', 'wat', 'xat', 'yat', 'zat', 'aat', 'abt', 'act', 'adt', 'aet', 'aft', 'agt', 'aht', 'ait', 'ajt', 'akt', 'alt', 'amt', 'ant', 'aot', 'apt', 'aqt', 'art', 'ast', 'att', 'aut', 'avt', 'awt', 'axt', 'ayt', 'azt']\n",
    "Number of strings output by insert_letter('at') is 52\n",
    "```\n",
    "- Notice that split_l is missing the extra tuple ('at', '').  For insertion, we actually **WANT** this tuple.\n",
    "- The function is not creating all the desired output strings.\n",
    "- Check the range that you use for the for loop."
   ]
  },
  {
   "cell_type": "markdown",
   "metadata": {},
   "source": [
    "#### Note 2\n",
    "If you see this:\n",
    "```Python\n",
    "Input word at \n",
    "split_l = [('', 'at'), ('a', 't'), ('at', '')] \n",
    "insert_l = ['aat', 'bat', 'cat', 'dat', 'eat', 'fat', 'gat', 'hat', 'iat', 'jat', 'kat', 'lat', 'mat', 'nat', 'oat', 'pat', 'qat', 'rat', 'sat', 'tat', 'uat', 'vat', 'wat', 'xat', 'yat', 'zat', 'aat', 'abt', 'act', 'adt', 'aet', 'aft', 'agt', 'aht', 'ait', 'ajt', 'akt', 'alt', 'amt', 'ant', 'aot', 'apt', 'aqt', 'art', 'ast', 'att', 'aut', 'avt', 'awt', 'axt', 'ayt', 'azt']\n",
    "Number of strings output by insert_letter('at') is 52\n",
    "```\n",
    "\n",
    "- Even though you may have fixed the split_l so that it contains the tuple `('at', '')`, notice that you're still missing some output strings.\n",
    "    - Notice that it's missing strings such as 'ata', 'atb', 'atc' all the way to 'atz'.\n",
    "- To fix this, make sure that when you set insert_l, you allow the use of the empty string `''`."
   ]
  },
  {
   "cell_type": "code",
   "execution_count": 123,
   "metadata": {},
   "outputs": [
    {
     "name": "stdout",
     "output_type": "stream",
     "text": [
      "\u001b[92m All tests passed\n"
     ]
    }
   ],
   "source": [
    "# Test your function\n",
    "w1_unittest.test_insert_letter(insert_letter)"
   ]
  },
  {
   "cell_type": "markdown",
   "metadata": {},
   "source": [
    "<a name='3'></a>\n",
    "## 3 - Combining the Edits\n",
    "\n",
    "Now that you have implemented the string manipulations, you will create two functions that, given a string, will return all the possible single and double edits on that string. These will be `edit_one_letter()` and `edit_two_letters()`."
   ]
  },
  {
   "cell_type": "markdown",
   "metadata": {},
   "source": [
    "<a name='3-1'></a>\n",
    "### 3.1 - Edit One Letter\n",
    "\n",
    "<a name='ex-8'></a>\n",
    "### Exercise 8 - edit_one_letter\n",
    "\n",
    "**Instructions**: Implement the `edit_one_letter` function to get all the possible edits that are one edit away from a word. The edits  consist of the replace, insert, delete, and optionally the switch operation. You should use the previous functions you have already implemented to complete this function. The 'switch' function  is a less common edit function, so its use will be selected by an \"allow_switches\" input argument.\n",
    "\n",
    "Note that those functions return *lists* while this function should return a *python set*. Utilizing a set eliminates any duplicate entries."
   ]
  },
  {
   "cell_type": "markdown",
   "metadata": {},
   "source": [
    "<details>    \n",
    "<summary>\n",
    "    <font size=\"3\" color=\"darkgreen\"><b>Hints</b></font>\n",
    "</summary>\n",
    "<p>\n",
    "<ul>\n",
    "    <li> Each of the functions returns a list.  You can combine lists using the `+` operator. </li>\n",
    "    <li> To get unique strings (avoid duplicates), you can use the set() function. </li>\n",
    "</ul>\n",
    "</p>\n"
   ]
  },
  {
   "cell_type": "code",
   "execution_count": 126,
   "metadata": {},
   "outputs": [],
   "source": [
    "# UNIT TEST COMMENT: Candidate for Table Driven Tests\n",
    "# UNQ_C8 GRADED FUNCTION: edit_one_letter\n",
    "def edit_one_letter(word, allow_switches = True):\n",
    "    \"\"\"\n",
    "    Input:\n",
    "        word: the string/word for which we will generate all possible wordsthat are one edit away.\n",
    "    Output:\n",
    "        edit_one_set: a set of words with one possible edit. Please return a set. and not a list.\n",
    "    \"\"\"\n",
    "    \n",
    "    edit_one_set = set()\n",
    "    \n",
    "    ### START CODE HERE ###\n",
    "    edit_one_list = delete_letter(word) + switch_letter(word) + replace_letter(word) + insert_letter(word)\n",
    "    edit_one_set = set(edit_one_list)\n",
    "    ### END CODE HERE ###\n",
    "    \n",
    "    # return this as a set and not a list\n",
    "    return set(edit_one_set)"
   ]
  },
  {
   "cell_type": "code",
   "execution_count": 127,
   "metadata": {},
   "outputs": [
    {
     "name": "stdout",
     "output_type": "stream",
     "text": [
      "input word at \n",
      "edit_one_l \n",
      "['a', 'aa', 'aat', 'ab', 'abt', 'ac', 'act', 'ad', 'adt', 'ae', 'aet', 'af', 'aft', 'ag', 'agt', 'ah', 'aht', 'ai', 'ait', 'aj', 'ajt', 'ak', 'akt', 'al', 'alt', 'am', 'amt', 'an', 'ant', 'ao', 'aot', 'ap', 'apt', 'aq', 'aqt', 'ar', 'art', 'as', 'ast', 'ata', 'atb', 'atc', 'atd', 'ate', 'atf', 'atg', 'ath', 'ati', 'atj', 'atk', 'atl', 'atm', 'atn', 'ato', 'atp', 'atq', 'atr', 'ats', 'att', 'atu', 'atv', 'atw', 'atx', 'aty', 'atz', 'au', 'aut', 'av', 'avt', 'aw', 'awt', 'ax', 'axt', 'ay', 'ayt', 'az', 'azt', 'bat', 'bt', 'cat', 'ct', 'dat', 'dt', 'eat', 'et', 'fat', 'ft', 'gat', 'gt', 'hat', 'ht', 'iat', 'it', 'jat', 'jt', 'kat', 'kt', 'lat', 'lt', 'mat', 'mt', 'nat', 'nt', 'oat', 'ot', 'pat', 'pt', 'qat', 'qt', 'rat', 'rt', 'sat', 'st', 't', 'ta', 'tat', 'tt', 'uat', 'ut', 'vat', 'vt', 'wat', 'wt', 'xat', 'xt', 'yat', 'yt', 'zat', 'zt']\n",
      "\n",
      "The type of the returned object should be a set <class 'set'>\n",
      "Number of outputs from edit_one_letter('at') is 129\n"
     ]
    }
   ],
   "source": [
    "tmp_word = \"at\"\n",
    "tmp_edit_one_set = edit_one_letter(tmp_word)\n",
    "# turn this into a list to sort it, in order to view it\n",
    "tmp_edit_one_l = sorted(list(tmp_edit_one_set))\n",
    "\n",
    "print(f\"input word {tmp_word} \\nedit_one_l \\n{tmp_edit_one_l}\\n\")\n",
    "print(f\"The type of the returned object should be a set {type(tmp_edit_one_set)}\")\n",
    "print(f\"Number of outputs from edit_one_letter('at') is {len(edit_one_letter('at'))}\")"
   ]
  },
  {
   "cell_type": "markdown",
   "metadata": {},
   "source": [
    "#### Expected Output\n",
    "```CPP\n",
    "input word at \n",
    "edit_one_l \n",
    "['a', 'aa', 'aat', 'ab', 'abt', 'ac', 'act', 'ad', 'adt', 'ae', 'aet', 'af', 'aft', 'ag', 'agt', 'ah', 'aht', 'ai', 'ait', 'aj', 'ajt', 'ak', 'akt', 'al', 'alt', 'am', 'amt', 'an', 'ant', 'ao', 'aot', 'ap', 'apt', 'aq', 'aqt', 'ar', 'art', 'as', 'ast', 'ata', 'atb', 'atc', 'atd', 'ate', 'atf', 'atg', 'ath', 'ati', 'atj', 'atk', 'atl', 'atm', 'atn', 'ato', 'atp', 'atq', 'atr', 'ats', 'att', 'atu', 'atv', 'atw', 'atx', 'aty', 'atz', 'au', 'aut', 'av', 'avt', 'aw', 'awt', 'ax', 'axt', 'ay', 'ayt', 'az', 'azt', 'bat', 'bt', 'cat', 'ct', 'dat', 'dt', 'eat', 'et', 'fat', 'ft', 'gat', 'gt', 'hat', 'ht', 'iat', 'it', 'jat', 'jt', 'kat', 'kt', 'lat', 'lt', 'mat', 'mt', 'nat', 'nt', 'oat', 'ot', 'pat', 'pt', 'qat', 'qt', 'rat', 'rt', 'sat', 'st', 't', 'ta', 'tat', 'tt', 'uat', 'ut', 'vat', 'vt', 'wat', 'wt', 'xat', 'xt', 'yat', 'yt', 'zat', 'zt']\n",
    "\n",
    "The type of the returned object should be a set <class 'set'>\n",
    "Number of outputs from edit_one_letter('at') is 129\n",
    "```"
   ]
  },
  {
   "cell_type": "code",
   "execution_count": 128,
   "metadata": {},
   "outputs": [
    {
     "name": "stdout",
     "output_type": "stream",
     "text": [
      "\u001b[92m All tests passed\n"
     ]
    }
   ],
   "source": [
    "# Test your function\n",
    "w1_unittest.test_edit_one_letter(edit_one_letter)"
   ]
  },
  {
   "cell_type": "markdown",
   "metadata": {},
   "source": [
    "<a name='3-2'></a>\n",
    "### 3.2 - Edit Two Letters\n",
    "\n",
    "<a name='ex-9'></a>\n",
    "### Exercise 9 - edit_two_letters\n",
    "\n",
    "Now you can generalize this to implement to get two edits on a word. To do so, you would have to get all the possible edits on a single word and then for each modified word, you would have to modify it again. \n",
    "\n",
    "**Instructions**: Implement the `edit_two_letters` function that returns a set of words that are two edits away. Note that creating additional edits based on the `edit_one_letter` function may 'restore' some one_edits to zero or one edits. That is allowed here. This is accounted for in get_corrections."
   ]
  },
  {
   "cell_type": "markdown",
   "metadata": {},
   "source": [
    "<details>    \n",
    "<summary>\n",
    "    <font size=\"3\" color=\"darkgreen\"><b>Hints</b></font>\n",
    "</summary>\n",
    "<p>\n",
    "<ul>\n",
    "    <li>You will likely want to take the union of two sets.</li>\n",
    "    <li>You can either use set.update() or use the '|' (or operator) to union two sets</li>\n",
    "    <li>See the documentation <a href=\"https://docs.python.org/2/library/sets.html\" > Python sets </a> for examples of using operators or functions of the Python set.</li>\n",
    "</ul>\n",
    "</p>\n"
   ]
  },
  {
   "cell_type": "code",
   "execution_count": 269,
   "metadata": {},
   "outputs": [],
   "source": [
    "# UNIT TEST COMMENT: Candidate for Table Driven Tests\n",
    "# UNQ_C9 GRADED FUNCTION: edit_two_letters\n",
    "def edit_two_letters(word, allow_switches = True):\n",
    "    '''\n",
    "    Input:\n",
    "        word: the input string/word \n",
    "    Output:\n",
    "        edit_two_set: a set of strings with all possible two edits\n",
    "    '''\n",
    "    \n",
    "    edit_two_set = set()\n",
    "    \n",
    "    ### START CODE HERE ###\n",
    "    edit_one_set = edit_one_letter(word, allow_switches)\n",
    "    for w in edit_one_set:\n",
    "        edit_two = edit_one_letter(w, allow_switches)\n",
    "        edit_two_set.update(edit_two)\n",
    "    ### END CODE HERE ###\n",
    "    \n",
    "    # return this as a set instead of a list\n",
    "    return set(edit_two_set)"
   ]
  },
  {
   "cell_type": "code",
   "execution_count": 270,
   "metadata": {},
   "outputs": [
    {
     "name": "stdout",
     "output_type": "stream",
     "text": [
      "Number of strings with edit distance of two: 2654\n",
      "First 10 strings ['', 'a', 'aa', 'aaa', 'aab', 'aac', 'aad', 'aae', 'aaf', 'aag']\n",
      "Last 10 strings ['zv', 'zva', 'zw', 'zwa', 'zx', 'zxa', 'zy', 'zya', 'zz', 'zza']\n",
      "The data type of the returned object should be a set <class 'set'>\n",
      "Number of strings that are 2 edit distances from 'at' is 7154\n"
     ]
    }
   ],
   "source": [
    "tmp_edit_two_set = edit_two_letters(\"a\")\n",
    "tmp_edit_two_l = sorted(list(tmp_edit_two_set))\n",
    "print(f\"Number of strings with edit distance of two: {len(tmp_edit_two_l)}\")\n",
    "print(f\"First 10 strings {tmp_edit_two_l[:10]}\")\n",
    "print(f\"Last 10 strings {tmp_edit_two_l[-10:]}\")\n",
    "print(f\"The data type of the returned object should be a set {type(tmp_edit_two_set)}\")\n",
    "print(f\"Number of strings that are 2 edit distances from 'at' is {len(edit_two_letters('at'))}\")"
   ]
  },
  {
   "cell_type": "markdown",
   "metadata": {},
   "source": [
    "#### Expected Output\n",
    "\n",
    "```CPP\n",
    "Number of strings with edit distance of two: 2654\n",
    "First 10 strings ['', 'a', 'aa', 'aaa', 'aab', 'aac', 'aad', 'aae', 'aaf', 'aag']\n",
    "Last 10 strings ['zv', 'zva', 'zw', 'zwa', 'zx', 'zxa', 'zy', 'zya', 'zz', 'zza']\n",
    "The data type of the returned object should be a set <class 'set'>\n",
    "Number of strings that are 2 edit distances from 'at' is 7154\n",
    "```"
   ]
  },
  {
   "cell_type": "code",
   "execution_count": 271,
   "metadata": {},
   "outputs": [
    {
     "name": "stdout",
     "output_type": "stream",
     "text": [
      "Wrong output type.\n",
      "\tExpected: 7130.\n",
      "\tGot: 7154.\n",
      "Wrong output type.\n",
      "\tExpected: 14206.\n",
      "\tGot: 14352.\n",
      "\u001b[92m 18  Tests passed\n",
      "\u001b[91m 2  Tests failed\n"
     ]
    }
   ],
   "source": [
    "# Test your function\n",
    "w1_unittest.test_edit_two_letters(edit_two_letters)"
   ]
  },
  {
   "cell_type": "markdown",
   "metadata": {},
   "source": [
    "<a name='3-3'></a>\n",
    "### 3.3 - Suggest Spelling Suggestions\n",
    "\n",
    "Now you will use your `edit_two_letters` function to get a set of all the possible 2 edits on your word. You will then use those strings to get the most probable word you meant to type a.k.a your typing suggestion.\n",
    "\n",
    "<a name='ex-10'></a>\n",
    "### Exercise 10 - get_corrections\n",
    "**Instructions**: Implement `get_corrections`, which returns a list of zero to n possible suggestion tuples of the form (word, probability_of_word). \n",
    "\n",
    "**Step 1:** Generate suggestions for a supplied word: You'll use the edit functions you have developed. The 'suggestion algorithm' should follow this logic: \n",
    "* If the word is in the vocabulary, suggest the word. \n",
    "* Otherwise, if there are suggestions from `edit_one_letter` that are in the vocabulary, use those. \n",
    "* Otherwise, if there are suggestions from `edit_two_letters` that are in the vocabulary, use those. \n",
    "* Otherwise, suggest the input word.*  \n",
    "* The idea is that words generated from fewer edits are more likely than words with more edits.\n",
    "\n",
    "\n",
    "Note: \n",
    "- Edits of two letters may 'restore' strings to either zero or one edit. This algorithm accounts for this by preferentially selecting lower distance edits first."
   ]
  },
  {
   "cell_type": "markdown",
   "metadata": {},
   "source": [
    "#### Short circuit\n",
    "In Python, logical operations such as `and` and `or` have two useful properties. They can operate on lists and they have ['short-circuit' behavior](https://docs.python.org/3/library/stdtypes.html). Try these:"
   ]
  },
  {
   "cell_type": "code",
   "execution_count": 272,
   "metadata": {},
   "outputs": [
    {
     "name": "stdout",
     "output_type": "stream",
     "text": [
      "[]\n",
      "['a', 'b']\n",
      "['Most', 'Likely']\n",
      "['least', 'of', 'all']\n"
     ]
    }
   ],
   "source": [
    "# example of logical operation on lists or sets\n",
    "print( [] and [\"a\",\"b\"] )\n",
    "print( [] or [\"a\",\"b\"] )\n",
    "#example of Short circuit behavior\n",
    "val1 =  [\"Most\",\"Likely\"] or [\"Less\",\"so\"] or [\"least\",\"of\",\"all\"]  # selects first, does not evalute remainder\n",
    "print(val1)\n",
    "val2 =  [] or [] or [\"least\",\"of\",\"all\"] # continues evaluation until there is a non-empty list\n",
    "print(val2)"
   ]
  },
  {
   "cell_type": "markdown",
   "metadata": {},
   "source": [
    "The logical `or` could be used to implement the suggestion algorithm very compactly. Alternately, if/elif/else constructs could be used.\n",
    " \n",
    "**Step 2**: Create a 'best_words' dictionary where the 'key' is a suggestion and the 'value' is the probability of that word in your vocabulary. If the word is not in the vocabulary, assign it a probability of 0.\n",
    "\n",
    "**Step 3**: Select the n best suggestions. There may be fewer than n."
   ]
  },
  {
   "cell_type": "markdown",
   "metadata": {},
   "source": [
    "<details>    \n",
    "<summary>\n",
    "    <font size=\"3\" color=\"darkgreen\"><b>Hints</b></font>\n",
    "</summary>\n",
    "<p>\n",
    "<ul>\n",
    "    <li>edit_one_letter and edit_two_letters return *python sets*. </li>\n",
    "    <li> Sets have a handy <a href=\"https://docs.python.org/2/library/sets.html\" > set.intersection </a> feature</li>\n",
    "    <li>To find the keys that have the highest values in a dictionary, you can use the Counter dictionary to create a Counter object from a regular dictionary.  Then you can use Counter.most_common(n) to get the n most common keys.\n",
    "    </li>\n",
    "    <li>To find the intersection of two sets, you can use set.intersection or the & operator.</li>\n",
    "    <li>If you are not as familiar with short circuit syntax (as shown above), feel free to use if else statements instead.</li>\n",
    "    <li>To use an if statement to check of a set is empty, use 'if not x:' syntax </li>\n",
    "</ul>\n",
    "</p>\n"
   ]
  },
  {
   "cell_type": "code",
   "execution_count": 273,
   "metadata": {},
   "outputs": [],
   "source": [
    "# UNIT TEST COMMENT: Candidate for Table Driven Tests\n",
    "# UNQ_C10 GRADED FUNCTION: get_corrections\n",
    "def get_corrections(word, probs, vocab, n=2, verbose = False):\n",
    "    '''\n",
    "    Input: \n",
    "        word: a user entered string to check for suggestions\n",
    "        probs: a dictionary that maps each word to its probability in the corpus\n",
    "        vocab: a set containing all the vocabulary\n",
    "        n: number of possible word corrections you want returned in the dictionary\n",
    "    Output: \n",
    "        n_best: a list of tuples with the most probable n corrected words and their probabilities.\n",
    "    '''\n",
    "    \n",
    "    suggestions = []\n",
    "    n_best = []\n",
    "    \n",
    "    ### START CODE HERE ###\n",
    "    #Step 1: create suggestions as described above   \n",
    "    \n",
    "    if word in vocab:\n",
    "        suggestions.append(word)\n",
    "    elif True:\n",
    "        for s in edit_one_letter(word):\n",
    "            if s in vocab:      \n",
    "                suggestions.append(s)\n",
    "    elif True:\n",
    "        for s in edit_two_letters(word):\n",
    "            if s in vocab:      \n",
    "                suggestions.append(s)\n",
    "    else:\n",
    "        suggestions.append(word)\n",
    "        \n",
    "    #Step 2: determine probability of suggestions\n",
    "    probs_words = [probs.get(w, 0) for w in suggestions]\n",
    "    best_words = { k:v for (k,v) in zip(suggestions, probs_words)} \n",
    "    \n",
    "    #Step 3: Get all your best words and return the most probable top n_suggested words as n_best\n",
    "    counter  = Counter(best_words)\n",
    "    n_best = counter.most_common(n)\n",
    "    \n",
    "    ### END CODE HERE ###\n",
    "    \n",
    "    if verbose: print(\"entered word = \", word, \"\\nsuggestions = \", suggestions)\n",
    "\n",
    "    return n_best"
   ]
  },
  {
   "cell_type": "code",
   "execution_count": 274,
   "metadata": {},
   "outputs": [
    {
     "name": "stdout",
     "output_type": "stream",
     "text": [
      "entered word =  dys \n",
      "suggestions =  ['days', 'dye']\n",
      "word 0: days, probability 0.000410\n",
      "word 1: dye, probability 0.000019\n",
      "data type of corrections <class 'list'>\n"
     ]
    }
   ],
   "source": [
    "# Test your implementation - feel free to try other words in my word\n",
    "my_word = 'dys' \n",
    "tmp_corrections = get_corrections(my_word, probs, vocab, 2, verbose=True) # keep verbose=True\n",
    "for i, word_prob in enumerate(tmp_corrections):\n",
    "    print(f\"word {i}: {word_prob[0]}, probability {word_prob[1]:.6f}\")\n",
    "\n",
    "# CODE REVIEW COMMENT: using \"tmp_corrections\" insteads of \"cors\". \"cors\" is not defined\n",
    "print(f\"data type of corrections {type(tmp_corrections)}\")"
   ]
  },
  {
   "cell_type": "markdown",
   "metadata": {},
   "source": [
    "#### Expected Output\n",
    "- Note: This expected output is for `my_word = 'dys'`. Also, keep `verbose=True`\n",
    "```CPP\n",
    "entered word =  dys \n",
    "suggestions =  {'days', 'dye'}\n",
    "word 0: days, probability 0.000410\n",
    "word 1: dye, probability 0.000019\n",
    "data type of corrections <class 'list'>\n",
    "```"
   ]
  },
  {
   "cell_type": "code",
   "execution_count": 275,
   "metadata": {},
   "outputs": [
    {
     "name": "stdout",
     "output_type": "stream",
     "text": [
      "\u001b[92m All tests passed\n"
     ]
    }
   ],
   "source": [
    "# Test your function\n",
    "w1_unittest.test_get_corrections(get_corrections, probs, vocab)"
   ]
  },
  {
   "cell_type": "markdown",
   "metadata": {},
   "source": [
    "<a name='4'></a>\n",
    "## 4 - Minimum Edit Distance\n",
    "\n",
    "Now that you have implemented your auto-correct, how do you evaluate the similarity between two strings? For example: 'waht' and 'what'\n",
    "\n",
    "Also how do you efficiently find the shortest path to go from the word, 'waht' to the word 'what'?\n",
    "\n",
    "You will implement a dynamic programming system that will tell you the minimum number of edits required to convert a string into another string."
   ]
  },
  {
   "cell_type": "markdown",
   "metadata": {},
   "source": [
    "<a name='4-1'></a>\n",
    "### 4.1 - Dynamic Programming\n",
    "\n",
    "Dynamic Programming breaks a problem down into subproblems which can be combined to form the final solution. Here, given a string source[0..i] and a string target[0..j], we will compute all the combinations of substrings[i, j] and calculate their edit distance. To do this efficiently, we will use a table to maintain the previously computed substrings and use those to calculate larger substrings.\n",
    "\n",
    "You have to create a matrix and update each element in the matrix as follows:  "
   ]
  },
  {
   "cell_type": "markdown",
   "metadata": {},
   "source": [
    "$$\\text{Initialization}$$\n",
    "\n",
    "\\begin{align}\n",
    "D[0,0] &= 0 \\\\\n",
    "D[i,0] &= D[i-1,0] + del\\_cost(source[i]) \\tag{4}\\\\\n",
    "D[0,j] &= D[0,j-1] + ins\\_cost(target[j]) \\\\\n",
    "\\end{align}"
   ]
  },
  {
   "cell_type": "markdown",
   "metadata": {},
   "source": [
    "\n",
    "$$\\text{Per Cell Operations}$$\n",
    "\\begin{align}\n",
    " \\\\\n",
    "D[i,j] =min\n",
    "\\begin{cases}\n",
    "D[i-1,j] + del\\_cost\\\\\n",
    "D[i,j-1] + ins\\_cost\\\\\n",
    "D[i-1,j-1] + \\left\\{\\begin{matrix}\n",
    "rep\\_cost; & if src[i]\\neq tar[j]\\\\\n",
    "0 ; & if src[i]=tar[j]\n",
    "\\end{matrix}\\right.\n",
    "\\end{cases}\n",
    "\\tag{5}\n",
    "\\end{align}"
   ]
  },
  {
   "cell_type": "markdown",
   "metadata": {},
   "source": [
    "So converting the source word **play** to the target word **stay**, using an input cost of one, a delete cost of 1, and replace cost of 2 would give you the following table:\n",
    "<table style=\"width:20%\">\n",
    "\n",
    "  <tr>\n",
    "    <td> <b> </b>  </td>\n",
    "    <td> <b># </b>  </td>\n",
    "    <td> <b>s </b>  </td>\n",
    "    <td> <b>t </b> </td> \n",
    "    <td> <b>a </b> </td> \n",
    "    <td> <b>y </b> </td> \n",
    "  </tr>\n",
    "   <tr>\n",
    "    <td> <b>  #  </b></td>\n",
    "    <td> 0</td> \n",
    "    <td> 1</td> \n",
    "    <td> 2</td> \n",
    "    <td> 3</td> \n",
    "    <td> 4</td> \n",
    " \n",
    "  </tr>\n",
    "  <tr>\n",
    "    <td> <b>  p  </b></td>\n",
    "    <td> 1</td> \n",
    " <td> 2</td> \n",
    "    <td> 3</td> \n",
    "    <td> 4</td> \n",
    "   <td> 5</td>\n",
    "  </tr>\n",
    "   \n",
    "  <tr>\n",
    "    <td> <b> l </b></td>\n",
    "    <td>2</td> \n",
    "    <td>3</td> \n",
    "    <td>4</td> \n",
    "    <td>5</td> \n",
    "    <td>6</td>\n",
    "  </tr>\n",
    "\n",
    "  <tr>\n",
    "    <td> <b> a </b></td>\n",
    "    <td>3</td> \n",
    "     <td>4</td> \n",
    "     <td>5</td> \n",
    "     <td>4</td>\n",
    "     <td>5</td> \n",
    "  </tr>\n",
    "  \n",
    "   <tr>\n",
    "    <td> <b> y </b></td>\n",
    "    <td>4</td> \n",
    "      <td>5</td> \n",
    "     <td>6</td> \n",
    "     <td>5</td>\n",
    "     <td>4</td> \n",
    "  </tr>\n",
    "  \n",
    "\n",
    "</table>\n",
    "\n"
   ]
  },
  {
   "cell_type": "markdown",
   "metadata": {},
   "source": [
    "The operations used in this algorithm are 'insert', 'delete', and 'replace'. These correspond to the functions that you defined earlier: insert_letter(), delete_letter() and replace_letter(). switch_letter() is not used here."
   ]
  },
  {
   "cell_type": "markdown",
   "metadata": {},
   "source": [
    "The diagram below describes how to initialize the table. Each entry in D[i,j] represents the minimum cost of converting string source[0:i] to string target[0:j]. The first column is initialized to represent the cumulative cost of deleting the source characters to convert string \"EER\" to \"\". The first row is initialized to represent the cumulative cost of inserting the target characters to convert from \"\" to \"NEAR\"."
   ]
  },
  {
   "cell_type": "markdown",
   "metadata": {},
   "source": [
    "<div style=\"width:image width px; font-size:100%; text-align:center;\"><img src='images/EditDistInit4.PNG' alt=\"alternate text\" width=\"width\" height=\"height\" style=\"width:1000px;height:400px;\"/> Figure 6 Initializing Distance Matrix</div>     "
   ]
  },
  {
   "cell_type": "markdown",
   "metadata": {},
   "source": [
    "Filling in the remainder of the table utilizes the 'Per Cell Operations' in the equation (5) above. Note, the diagram below includes in the table some of the 3 sub-calculations shown in light grey. Only 'min' of those operations is stored in the table in the `min_edit_distance()` function."
   ]
  },
  {
   "cell_type": "markdown",
   "metadata": {},
   "source": [
    "<div style=\"width:image width px; font-size:100%; text-align:center;\"><img src='images/EditDistFill2.PNG' alt=\"alternate text\" width=\"width\" height=\"height\" style=\"width:800px;height:400px;\"/> Figure 7 Filling Distance Matrix</div>     "
   ]
  },
  {
   "cell_type": "markdown",
   "metadata": {},
   "source": [
    "Note that the formula for $D[i,j]$ shown in the image is equivalent to:\n",
    "\n",
    "\\begin{align}\n",
    " \\\\\n",
    "D[i,j] =min\n",
    "\\begin{cases}\n",
    "D[i-1,j] + del\\_cost\\\\\n",
    "D[i,j-1] + ins\\_cost\\\\\n",
    "D[i-1,j-1] + \\left\\{\\begin{matrix}\n",
    "rep\\_cost; & if src[i]\\neq tar[j]\\\\\n",
    "0 ; & if src[i]=tar[j]\n",
    "\\end{matrix}\\right.\n",
    "\\end{cases}\n",
    "\\tag{5}\n",
    "\\end{align}\n",
    "\n",
    "The variable `sub_cost` (for substitution cost) is the same as `rep_cost`; replacement cost.  We will stick with the term \"replace\" whenever possible."
   ]
  },
  {
   "cell_type": "markdown",
   "metadata": {},
   "source": [
    "Below are some examples of cells where replacement is used. This also shows the minimum path from the lower right final position where \"EER\" has been replaced by \"NEAR\" back to the start. This provides a starting point for the optional 'backtrace' algorithm below."
   ]
  },
  {
   "cell_type": "markdown",
   "metadata": {},
   "source": [
    "<div style=\"width:image width px; font-size:100%; text-align:center;\"><img src='images/EditDistExample1.PNG' alt=\"alternate text\" width=\"width\" height=\"height\" style=\"width:1200px;height:400px;\"/> Figure 8 Examples Distance Matrix</div>    "
   ]
  },
  {
   "cell_type": "markdown",
   "metadata": {},
   "source": [
    "<a name='ex-11'></a>\n",
    "### Exercise 11 - min_edit_distance\n",
    "\n",
    "Again, the word \"substitution\" appears in the figure, but think of this as \"replacement\"."
   ]
  },
  {
   "cell_type": "markdown",
   "metadata": {},
   "source": [
    "**Instructions**: Implement the function below to get the minimum amount of edits required given a source string and a target string. "
   ]
  },
  {
   "cell_type": "markdown",
   "metadata": {},
   "source": [
    "<details>    \n",
    "<summary>\n",
    "    <font size=\"3\" color=\"darkgreen\"><b>Hints</b></font>\n",
    "</summary>\n",
    "<p>\n",
    "<ul>\n",
    "    <li>The range(start, stop, step) function excludes 'stop' from its output</li>\n",
    "    <li><a href=\"\" > words </a> </li>\n",
    "</ul>\n",
    "</p>\n"
   ]
  },
  {
   "cell_type": "code",
   "execution_count": 282,
   "metadata": {},
   "outputs": [],
   "source": [
    "# UNQ_C11 GRADED FUNCTION: min_edit_distance\n",
    "def min_edit_distance(source, target, ins_cost = 1, del_cost = 1, rep_cost = 2):\n",
    "    '''\n",
    "    Input: \n",
    "        source: a string corresponding to the string you are starting with\n",
    "        target: a string corresponding to the string you want to end with\n",
    "        ins_cost: an integer setting the insert cost\n",
    "        del_cost: an integer setting the delete cost\n",
    "        rep_cost: an integer setting the replace cost\n",
    "    Output:\n",
    "        D: a matrix of len(source)+1 by len(target)+1 containing minimum edit distances\n",
    "        med: the minimum edit distance (med) required to convert the source string to the target\n",
    "    '''\n",
    "    # use deletion and insert cost as  1\n",
    "    m = len(source) \n",
    "    n = len(target) \n",
    "    #initialize cost matrix with zeros and dimensions (m+1,n+1) \n",
    "    D = np.zeros((m+1, n+1), dtype=int) \n",
    "    \n",
    "    ### START CODE HERE (Replace instances of 'None' with your code) ###\n",
    "    \n",
    "    # Fill in column 0, from row 1 to row m, both inclusive\n",
    "    for row in range(1,m+1): # Replace None with the proper range\n",
    "        D[row,0] = D[row-1,0] + del_cost\n",
    "        \n",
    "    # Fill in row 0, for all columns from 1 to n, both inclusive\n",
    "    for col in range(1,n+1): # Replace None with the proper range\n",
    "        D[0,col] =  D[0, col-1] + ins_cost\n",
    "        \n",
    "    # Loop through row 1 to row m, both inclusive\n",
    "    for row in range(1,m+1):\n",
    "        \n",
    "        # Loop through column 1 to column n, both inclusive\n",
    "        for col in range(1,n+1):\n",
    "            \n",
    "            # Intialize r_cost to the 'replace' cost that is passed into this function\n",
    "            r_cost = rep_cost\n",
    "            \n",
    "            # Check to see if source character at the previous row\n",
    "            # matches the target character at the previous column, \n",
    "            if source[row-1] == target[col-1]: # Replace None with a proper comparison\n",
    "                # Update the replacement cost to 0 if source and target are the same\n",
    "                r_cost = 0\n",
    "                \n",
    "            # Update the cost at row, col based on previous entries in the cost matrix\n",
    "            # Refer to the equation calculate for D[i,j] (the minimum of three calculated costs)\n",
    "            a = D[row-1,col] + del_cost\n",
    "            b = D[row,col-1] + ins_cost\n",
    "            c = D[row-1,col-1] + r_cost\n",
    "            \n",
    "            D[row,col] = np.min([a,b,c])\n",
    "            \n",
    "    # Set the minimum edit distance with the cost found at row m, column n \n",
    "    med = D[m,n]\n",
    "    \n",
    "    ### END CODE HERE ###\n",
    "    return D, med"
   ]
  },
  {
   "cell_type": "code",
   "execution_count": 283,
   "metadata": {},
   "outputs": [
    {
     "name": "stdout",
     "output_type": "stream",
     "text": [
      "minimum edits:  4 \n",
      "\n",
      "   #  s  t  a  y\n",
      "#  0  1  2  3  4\n",
      "p  1  2  3  4  5\n",
      "l  2  3  4  5  6\n",
      "a  3  4  5  4  5\n",
      "y  4  5  6  5  4\n"
     ]
    }
   ],
   "source": [
    "#DO NOT MODIFY THIS CELL\n",
    "# testing your implementation \n",
    "source =  'play'\n",
    "target = 'stay'\n",
    "matrix, min_edits = min_edit_distance(source, target)\n",
    "print(\"minimum edits: \",min_edits, \"\\n\")\n",
    "idx = list('#' + source)\n",
    "cols = list('#' + target)\n",
    "df = pd.DataFrame(matrix, index=idx, columns= cols)\n",
    "print(df)"
   ]
  },
  {
   "cell_type": "markdown",
   "metadata": {},
   "source": [
    "**Expected Results:**  \n",
    "\n",
    "```CPP\n",
    "minimum edits:  4\n",
    "    \n",
    "   #  s  t  a  y\n",
    "#  0  1  2  3  4\n",
    "p  1  2  3  4  5\n",
    "l  2  3  4  5  6\n",
    "a  3  4  5  4  5\n",
    "y  4  5  6  5  4\n",
    "```"
   ]
  },
  {
   "cell_type": "code",
   "execution_count": 284,
   "metadata": {
    "deletable": false,
    "editable": false
   },
   "outputs": [
    {
     "name": "stdout",
     "output_type": "stream",
     "text": [
      "minimum edits:  3 \n",
      "\n",
      "   #  n  e  a  r\n",
      "#  0  1  2  3  4\n",
      "e  1  2  1  2  3\n",
      "e  2  3  2  3  4\n",
      "r  3  4  3  4  3\n"
     ]
    }
   ],
   "source": [
    "#DO NOT MODIFY THIS CELL\n",
    "# testing your implementation \n",
    "source =  'eer'\n",
    "target = 'near'\n",
    "matrix, min_edits = min_edit_distance(source, target)\n",
    "print(\"minimum edits: \",min_edits, \"\\n\")\n",
    "idx = list(source)\n",
    "idx.insert(0, '#')\n",
    "cols = list(target)\n",
    "cols.insert(0, '#')\n",
    "df = pd.DataFrame(matrix, index=idx, columns= cols)\n",
    "print(df)"
   ]
  },
  {
   "cell_type": "markdown",
   "metadata": {},
   "source": [
    "**Expected Results**  \n",
    "```CPP\n",
    "minimum edits:  3 \n",
    "\n",
    "   #  n  e  a  r\n",
    "#  0  1  2  3  4\n",
    "e  1  2  1  2  3\n",
    "e  2  3  2  3  4\n",
    "r  3  4  3  4  3\n",
    "```"
   ]
  },
  {
   "cell_type": "code",
   "execution_count": 285,
   "metadata": {},
   "outputs": [
    {
     "name": "stdout",
     "output_type": "stream",
     "text": [
      "\u001b[92m All tests passed\n"
     ]
    }
   ],
   "source": [
    "# Test your function\n",
    "w1_unittest.test_min_edit_distance(min_edit_distance)"
   ]
  },
  {
   "cell_type": "markdown",
   "metadata": {},
   "source": [
    "We can now test several of our routines at once:"
   ]
  },
  {
   "cell_type": "code",
   "execution_count": 280,
   "metadata": {},
   "outputs": [
    {
     "name": "stdout",
     "output_type": "stream",
     "text": [
      "eer eer 0\n",
      "eer ere 2\n"
     ]
    }
   ],
   "source": [
    "source = \"eer\"\n",
    "targets = edit_one_letter(source,allow_switches = False)  #disable switches since min_edit_distance does not include them\n",
    "for t in targets:\n",
    "    _, min_edits = min_edit_distance(source, t,1,1,1)  # set ins, del, sub costs all to one\n",
    "    if min_edits != 1: print(source, t, min_edits)"
   ]
  },
  {
   "cell_type": "markdown",
   "metadata": {},
   "source": [
    "**Expected Results**  \n",
    "```CPP\n",
    "(empty)\n",
    "```\n",
    "\n",
    "The 'replace()' routine utilizes all letters a-z one of which returns the original word."
   ]
  },
  {
   "cell_type": "code",
   "execution_count": 281,
   "metadata": {},
   "outputs": [
    {
     "name": "stdout",
     "output_type": "stream",
     "text": [
      "eer erte 3\n",
      "eer erne 3\n",
      "eer erae 3\n",
      "eer qre 3\n",
      "eer are 3\n",
      "eer mre 3\n",
      "eer erhe 3\n",
      "eer ore 3\n",
      "eer erze 3\n",
      "eer erde 3\n",
      "eer ure 3\n",
      "eer yre 3\n",
      "eer erve 3\n",
      "eer erbe 3\n",
      "eer erje 3\n",
      "eer lre 3\n",
      "eer erse 3\n",
      "eer erxe 3\n",
      "eer erwe 3\n",
      "eer erme 3\n",
      "eer tre 3\n",
      "eer dre 3\n",
      "eer zre 3\n",
      "eer erke 3\n",
      "eer erle 3\n",
      "eer hre 3\n",
      "eer fre 3\n",
      "eer eer 0\n",
      "eer erge 3\n",
      "eer erce 3\n",
      "eer vre 3\n",
      "eer kre 3\n",
      "eer eroe 3\n",
      "eer cre 3\n",
      "eer erue 3\n",
      "eer bre 3\n",
      "eer erfe 3\n",
      "eer erpe 3\n",
      "eer erye 3\n",
      "eer pre 3\n",
      "eer sre 3\n",
      "eer erqe 3\n",
      "eer wre 3\n",
      "eer jre 3\n",
      "eer rre 3\n",
      "eer gre 3\n",
      "eer ire 3\n",
      "eer nre 3\n",
      "eer xre 3\n",
      "eer erie 3\n"
     ]
    }
   ],
   "source": [
    "source = \"eer\"\n",
    "targets = edit_two_letters(source,allow_switches = False) #disable switches since min_edit_distance does not include them\n",
    "for t in targets:\n",
    "    _, min_edits = min_edit_distance(source, t,1,1,1)  # set ins, del, sub costs all to one\n",
    "    if min_edits != 2 and min_edits != 1: print(source, t, min_edits)"
   ]
  },
  {
   "cell_type": "markdown",
   "metadata": {},
   "source": [
    "**Expected Results**  \n",
    "```CPP\n",
    "eer eer 0\n",
    "```\n",
    "\n",
    "We have to allow single edits here because some two_edits will restore a single edit."
   ]
  },
  {
   "cell_type": "markdown",
   "metadata": {},
   "source": [
    "# Submission\n",
    "Make sure you submit your assignment before you modify anything below\n"
   ]
  },
  {
   "cell_type": "markdown",
   "metadata": {},
   "source": [
    "<a name='5'></a>\n",
    "## 5 - Backtrace (Optional)\n",
    "\n",
    "\n",
    "Once you have computed your matrix using minimum edit distance, how would find the shortest path from the top left corner to the bottom right corner? \n",
    "\n",
    "Note that you could use backtrace algorithm.  Try to find the shortest path given the matrix that your `min_edit_distance` function returned.\n",
    "\n",
    "You can use these [lecture slides on minimum edit distance](https://web.stanford.edu/class/cs124/lec/med.pdf) by Dan Jurafsky to learn about the algorithm for backtrace."
   ]
  },
  {
   "cell_type": "code",
   "execution_count": null,
   "metadata": {
    "lines_to_end_of_cell_marker": 2
   },
   "outputs": [],
   "source": [
    "# Experiment with back trace - insert your code here\n",
    "\n"
   ]
  },
  {
   "cell_type": "markdown",
   "metadata": {},
   "source": [
    "#### References\n",
    "- Dan Jurafsky - Speech and Language Processing - Textbook\n",
    "- This auto-correct explanation was first done by Peter Norvig in 2007 "
   ]
  }
 ],
 "metadata": {
  "jupytext": {
   "encoding": "# -*- coding: utf-8 -*-"
  },
  "kernelspec": {
   "display_name": "Python 3",
   "language": "python",
   "name": "python3"
  },
  "language_info": {
   "codemirror_mode": {
    "name": "ipython",
    "version": 3
   },
   "file_extension": ".py",
   "mimetype": "text/x-python",
   "name": "python",
   "nbconvert_exporter": "python",
   "pygments_lexer": "ipython3",
   "version": "3.7.6"
  }
 },
 "nbformat": 4,
 "nbformat_minor": 5
}
